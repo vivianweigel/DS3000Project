{
 "cells": [
  {
   "cell_type": "markdown",
   "id": "52ea6d8a",
   "metadata": {},
   "source": [
    "## How to Hack Your Dating App\n",
    "\n",
    "Group members: Alison Picerno, Simone Ritchenson, Arielle Greenberg, Vivian Weigel"
   ]
  },
  {
   "cell_type": "code",
   "execution_count": 1,
   "id": "a43b51c8",
   "metadata": {},
   "outputs": [],
   "source": [
    "#import all the necessary packages\n",
    "from sklearn.preprocessing import OneHotEncoder\n",
    "import pandas as pd\n",
    "import numpy as np\n",
    "from sklearn.neighbors import KNeighborsClassifier\n",
    "from sklearn.ensemble import RandomForestRegressor\n",
    "from sklearn.model_selection import train_test_split\n",
    "from sklearn.metrics import mean_squared_error, r2_score\n",
    "import matplotlib.pyplot as plt\n",
    "import seaborn as sns\n",
    "from sklearn.ensemble import RandomForestClassifier\n",
    "from sklearn.metrics import classification_report"
   ]
  },
  {
   "cell_type": "markdown",
   "id": "4043634e",
   "metadata": {},
   "source": [
    "Here is the link to our dataset ['Dating App User Profiles' stats - Lovoo v3'](https://www.kaggle.com/datasets/jmmvutu/dating-app-lovoo-user-profiles)"
   ]
  },
  {
   "cell_type": "code",
   "execution_count": 2,
   "id": "13ed2eb3",
   "metadata": {},
   "outputs": [
    {
     "data": {
      "text/html": [
       "<div>\n",
       "<style scoped>\n",
       "    .dataframe tbody tr th:only-of-type {\n",
       "        vertical-align: middle;\n",
       "    }\n",
       "\n",
       "    .dataframe tbody tr th {\n",
       "        vertical-align: top;\n",
       "    }\n",
       "\n",
       "    .dataframe thead th {\n",
       "        text-align: right;\n",
       "    }\n",
       "</style>\n",
       "<table border=\"1\" class=\"dataframe\">\n",
       "  <thead>\n",
       "    <tr style=\"text-align: right;\">\n",
       "      <th></th>\n",
       "      <th>gender</th>\n",
       "      <th>genderLooking</th>\n",
       "      <th>age</th>\n",
       "      <th>name</th>\n",
       "      <th>counts_details</th>\n",
       "      <th>counts_pictures</th>\n",
       "      <th>counts_profileVisits</th>\n",
       "      <th>counts_kisses</th>\n",
       "      <th>counts_fans</th>\n",
       "      <th>counts_g</th>\n",
       "      <th>...</th>\n",
       "      <th>shareProfileEnabled</th>\n",
       "      <th>lastOnlineDate</th>\n",
       "      <th>lastOnlineTime</th>\n",
       "      <th>birthd</th>\n",
       "      <th>crypt</th>\n",
       "      <th>freetext</th>\n",
       "      <th>whazzup</th>\n",
       "      <th>userId</th>\n",
       "      <th>pictureId</th>\n",
       "      <th>isSystemProfile</th>\n",
       "    </tr>\n",
       "  </thead>\n",
       "  <tbody>\n",
       "    <tr>\n",
       "      <th>0</th>\n",
       "      <td>F</td>\n",
       "      <td>M</td>\n",
       "      <td>25</td>\n",
       "      <td>daeni</td>\n",
       "      <td>1.00</td>\n",
       "      <td>4</td>\n",
       "      <td>8279</td>\n",
       "      <td>239</td>\n",
       "      <td>0</td>\n",
       "      <td>3</td>\n",
       "      <td>...</td>\n",
       "      <td>1</td>\n",
       "      <td>2015-04-25T20:43:26Z</td>\n",
       "      <td>1.429995e+09</td>\n",
       "      <td>0</td>\n",
       "      <td>NaN</td>\n",
       "      <td>Nur tote Fisch schwimmen mit dem Strom</td>\n",
       "      <td>Nur tote fische schwimmen mit dem strom</td>\n",
       "      <td>4e3842f79b70e7ea57000064</td>\n",
       "      <td>55303fc3160ba0eb728b4575</td>\n",
       "      <td>NaN</td>\n",
       "    </tr>\n",
       "    <tr>\n",
       "      <th>1</th>\n",
       "      <td>F</td>\n",
       "      <td>M</td>\n",
       "      <td>22</td>\n",
       "      <td>italiana 92</td>\n",
       "      <td>0.85</td>\n",
       "      <td>5</td>\n",
       "      <td>663</td>\n",
       "      <td>13</td>\n",
       "      <td>0</td>\n",
       "      <td>0</td>\n",
       "      <td>...</td>\n",
       "      <td>1</td>\n",
       "      <td>2015-04-26T09:19:35Z</td>\n",
       "      <td>1.430040e+09</td>\n",
       "      <td>0</td>\n",
       "      <td>NaN</td>\n",
       "      <td>NaN</td>\n",
       "      <td>Primaveraaa&lt;3</td>\n",
       "      <td>4e3d34bf5d2bce7b160006a3</td>\n",
       "      <td>552e7b61c66da10d1e8b4c82</td>\n",
       "      <td>NaN</td>\n",
       "    </tr>\n",
       "    <tr>\n",
       "      <th>2</th>\n",
       "      <td>F</td>\n",
       "      <td>M</td>\n",
       "      <td>21</td>\n",
       "      <td>Lauraaa</td>\n",
       "      <td>0.00</td>\n",
       "      <td>4</td>\n",
       "      <td>1369</td>\n",
       "      <td>88</td>\n",
       "      <td>0</td>\n",
       "      <td>2</td>\n",
       "      <td>...</td>\n",
       "      <td>1</td>\n",
       "      <td>2015-04-06T14:24:07Z</td>\n",
       "      <td>1.428330e+09</td>\n",
       "      <td>0</td>\n",
       "      <td>NaN</td>\n",
       "      <td>NaN</td>\n",
       "      <td>NaN</td>\n",
       "      <td>4ec96c090dc82cb25d00000a</td>\n",
       "      <td>54a584ecc56da128638b4674</td>\n",
       "      <td>NaN</td>\n",
       "    </tr>\n",
       "    <tr>\n",
       "      <th>3</th>\n",
       "      <td>F</td>\n",
       "      <td>none</td>\n",
       "      <td>20</td>\n",
       "      <td>Qqkwmdowlo</td>\n",
       "      <td>0.12</td>\n",
       "      <td>3</td>\n",
       "      <td>22187</td>\n",
       "      <td>1015</td>\n",
       "      <td>2</td>\n",
       "      <td>3</td>\n",
       "      <td>...</td>\n",
       "      <td>1</td>\n",
       "      <td>2015-04-07T11:21:01Z</td>\n",
       "      <td>1.428406e+09</td>\n",
       "      <td>0</td>\n",
       "      <td>NaN</td>\n",
       "      <td>NaN</td>\n",
       "      <td>Je pense donc je suis.  Instagram quedev</td>\n",
       "      <td>4eef8b81ebf2c8f64000000c</td>\n",
       "      <td>54c92738076ea1b5338b4735</td>\n",
       "      <td>NaN</td>\n",
       "    </tr>\n",
       "    <tr>\n",
       "      <th>4</th>\n",
       "      <td>F</td>\n",
       "      <td>M</td>\n",
       "      <td>21</td>\n",
       "      <td>schaessie {3</td>\n",
       "      <td>0.15</td>\n",
       "      <td>12</td>\n",
       "      <td>35262</td>\n",
       "      <td>1413</td>\n",
       "      <td>9</td>\n",
       "      <td>12</td>\n",
       "      <td>...</td>\n",
       "      <td>1</td>\n",
       "      <td>2015-04-06T14:25:20Z</td>\n",
       "      <td>1.428330e+09</td>\n",
       "      <td>0</td>\n",
       "      <td>NaN</td>\n",
       "      <td>NaN</td>\n",
       "      <td>Instagram: JESSSIESCH</td>\n",
       "      <td>4ef3cc5aa9d0b3d07d000017</td>\n",
       "      <td>54e1a6f6c76da135748b4a3a</td>\n",
       "      <td>NaN</td>\n",
       "    </tr>\n",
       "  </tbody>\n",
       "</table>\n",
       "<p>5 rows × 42 columns</p>\n",
       "</div>"
      ],
      "text/plain": [
       "  gender genderLooking  age          name  counts_details  counts_pictures  \\\n",
       "0      F             M   25         daeni            1.00                4   \n",
       "1      F             M   22   italiana 92            0.85                5   \n",
       "2      F             M   21       Lauraaa            0.00                4   \n",
       "3      F          none   20    Qqkwmdowlo            0.12                3   \n",
       "4      F             M   21  schaessie {3            0.15               12   \n",
       "\n",
       "   counts_profileVisits  counts_kisses  counts_fans  counts_g  ...  \\\n",
       "0                  8279            239            0         3  ...   \n",
       "1                   663             13            0         0  ...   \n",
       "2                  1369             88            0         2  ...   \n",
       "3                 22187           1015            2         3  ...   \n",
       "4                 35262           1413            9        12  ...   \n",
       "\n",
       "   shareProfileEnabled        lastOnlineDate  lastOnlineTime birthd crypt  \\\n",
       "0                    1  2015-04-25T20:43:26Z    1.429995e+09      0   NaN   \n",
       "1                    1  2015-04-26T09:19:35Z    1.430040e+09      0   NaN   \n",
       "2                    1  2015-04-06T14:24:07Z    1.428330e+09      0   NaN   \n",
       "3                    1  2015-04-07T11:21:01Z    1.428406e+09      0   NaN   \n",
       "4                    1  2015-04-06T14:25:20Z    1.428330e+09      0   NaN   \n",
       "\n",
       "                                 freetext  \\\n",
       "0  Nur tote Fisch schwimmen mit dem Strom   \n",
       "1                                     NaN   \n",
       "2                                     NaN   \n",
       "3                                     NaN   \n",
       "4                                     NaN   \n",
       "\n",
       "                                    whazzup                    userId  \\\n",
       "0   Nur tote fische schwimmen mit dem strom  4e3842f79b70e7ea57000064   \n",
       "1                             Primaveraaa<3  4e3d34bf5d2bce7b160006a3   \n",
       "2                                       NaN  4ec96c090dc82cb25d00000a   \n",
       "3  Je pense donc je suis.  Instagram quedev  4eef8b81ebf2c8f64000000c   \n",
       "4                     Instagram: JESSSIESCH  4ef3cc5aa9d0b3d07d000017   \n",
       "\n",
       "                  pictureId  isSystemProfile  \n",
       "0  55303fc3160ba0eb728b4575              NaN  \n",
       "1  552e7b61c66da10d1e8b4c82              NaN  \n",
       "2  54a584ecc56da128638b4674              NaN  \n",
       "3  54c92738076ea1b5338b4735              NaN  \n",
       "4  54e1a6f6c76da135748b4a3a              NaN  \n",
       "\n",
       "[5 rows x 42 columns]"
      ]
     },
     "execution_count": 2,
     "metadata": {},
     "output_type": "execute_result"
    }
   ],
   "source": [
    "# read in data and look at head to get a sense of data\n",
    "df = pd.read_csv('lovoo_users.csv')\n",
    "df.head()"
   ]
  },
  {
   "cell_type": "markdown",
   "id": "5ba0ad96",
   "metadata": {},
   "source": [
    "## Perform EDA and Data Preparation"
   ]
  },
  {
   "cell_type": "code",
   "execution_count": 3,
   "id": "e09d18fd",
   "metadata": {},
   "outputs": [
    {
     "name": "stdout",
     "output_type": "stream",
     "text": [
      "<class 'pandas.core.frame.DataFrame'>\n",
      "RangeIndex: 3992 entries, 0 to 3991\n",
      "Data columns (total 42 columns):\n",
      " #   Column                  Non-Null Count  Dtype  \n",
      "---  ------                  --------------  -----  \n",
      " 0   gender                  3992 non-null   object \n",
      " 1   genderLooking           3992 non-null   object \n",
      " 2   age                     3992 non-null   int64  \n",
      " 3   name                    3992 non-null   object \n",
      " 4   counts_details          3992 non-null   float64\n",
      " 5   counts_pictures         3992 non-null   int64  \n",
      " 6   counts_profileVisits    3992 non-null   int64  \n",
      " 7   counts_kisses           3992 non-null   int64  \n",
      " 8   counts_fans             3992 non-null   int64  \n",
      " 9   counts_g                3992 non-null   int64  \n",
      " 10  flirtInterests_chat     3992 non-null   bool   \n",
      " 11  flirtInterests_friends  3992 non-null   bool   \n",
      " 12  flirtInterests_date     3992 non-null   bool   \n",
      " 13  country                 3992 non-null   object \n",
      " 14  city                    3706 non-null   object \n",
      " 15  location                3979 non-null   object \n",
      " 16  distance                3946 non-null   float64\n",
      " 17  isFlirtstar             3992 non-null   int64  \n",
      " 18  isHighlighted           3992 non-null   int64  \n",
      " 19  isInfluencer            3992 non-null   int64  \n",
      " 20  isMobile                3992 non-null   int64  \n",
      " 21  isNew                   3992 non-null   int64  \n",
      " 22  isOnline                3992 non-null   int64  \n",
      " 23  isVip                   3992 non-null   int64  \n",
      " 24  lang_count              3992 non-null   int64  \n",
      " 25  lang_fr                 3992 non-null   bool   \n",
      " 26  lang_en                 3992 non-null   bool   \n",
      " 27  lang_de                 3992 non-null   bool   \n",
      " 28  lang_it                 3992 non-null   bool   \n",
      " 29  lang_es                 3992 non-null   bool   \n",
      " 30  lang_pt                 3992 non-null   bool   \n",
      " 31  verified                3992 non-null   int64  \n",
      " 32  shareProfileEnabled     3992 non-null   int64  \n",
      " 33  lastOnlineDate          3991 non-null   object \n",
      " 34  lastOnlineTime          3991 non-null   float64\n",
      " 35  birthd                  3992 non-null   int64  \n",
      " 36  crypt                   46 non-null     float64\n",
      " 37  freetext                113 non-null    object \n",
      " 38  whazzup                 2399 non-null   object \n",
      " 39  userId                  3992 non-null   object \n",
      " 40  pictureId               3901 non-null   object \n",
      " 41  isSystemProfile         2 non-null      float64\n",
      "dtypes: bool(9), float64(5), int64(17), object(11)\n",
      "memory usage: 1.0+ MB\n"
     ]
    }
   ],
   "source": [
    "# look at types of data\n",
    "df.info()"
   ]
  },
  {
   "cell_type": "markdown",
   "id": "746bfe39",
   "metadata": {},
   "source": [
    "There are some invalid datatypes, so let's begin by converting the necessary columns to valid datatypes. "
   ]
  },
  {
   "cell_type": "code",
   "execution_count": 4,
   "id": "06aa83f8",
   "metadata": {},
   "outputs": [],
   "source": [
    "# change invalid types \n",
    "df['gender']  = df['gender'].astype(str)\n",
    "df['genderLooking']  = df['genderLooking'].astype(str)\n",
    "df['country']  = df['country'].astype(str)\n",
    "df['city']  = df['city'].astype(str)\n",
    "df['location']  = df['location'].astype(str)\n",
    "df['name']  = df['name'].astype(str)\n",
    "df['freetext']  = df['freetext'].astype(str)\n",
    "df['whazzup']  = df['whazzup'].astype(str)\n",
    "df['userId']  = df['userId'].astype(str)\n",
    "df['pictureId']  = df['pictureId'].astype(str)"
   ]
  },
  {
   "cell_type": "markdown",
   "id": "37c54168",
   "metadata": {},
   "source": [
    "Now, let's analyze the percentage of missing values in each column."
   ]
  },
  {
   "cell_type": "code",
   "execution_count": 5,
   "id": "93fb0a83",
   "metadata": {},
   "outputs": [
    {
     "data": {
      "text/plain": [
       "gender                     0.000000\n",
       "genderLooking              0.000000\n",
       "age                        0.000000\n",
       "name                       0.000000\n",
       "counts_details             0.000000\n",
       "counts_pictures            0.000000\n",
       "counts_profileVisits       0.000000\n",
       "counts_kisses              0.000000\n",
       "counts_fans                0.000000\n",
       "counts_g                   0.000000\n",
       "flirtInterests_chat        0.000000\n",
       "flirtInterests_friends     0.000000\n",
       "flirtInterests_date        0.000000\n",
       "country                    0.000000\n",
       "city                       0.000000\n",
       "location                   0.000000\n",
       "distance                   1.152305\n",
       "isFlirtstar                0.000000\n",
       "isHighlighted              0.000000\n",
       "isInfluencer               0.000000\n",
       "isMobile                   0.000000\n",
       "isNew                      0.000000\n",
       "isOnline                   0.000000\n",
       "isVip                      0.000000\n",
       "lang_count                 0.000000\n",
       "lang_fr                    0.000000\n",
       "lang_en                    0.000000\n",
       "lang_de                    0.000000\n",
       "lang_it                    0.000000\n",
       "lang_es                    0.000000\n",
       "lang_pt                    0.000000\n",
       "verified                   0.000000\n",
       "shareProfileEnabled        0.000000\n",
       "lastOnlineDate             0.025050\n",
       "lastOnlineTime             0.025050\n",
       "birthd                     0.000000\n",
       "crypt                     98.847695\n",
       "freetext                   0.000000\n",
       "whazzup                    0.000000\n",
       "userId                     0.000000\n",
       "pictureId                  0.000000\n",
       "isSystemProfile           99.949900\n",
       "dtype: float64"
      ]
     },
     "execution_count": 5,
     "metadata": {},
     "output_type": "execute_result"
    }
   ],
   "source": [
    "# find the percentage of null values each colum\n",
    "df.isnull().mean()*100"
   ]
  },
  {
   "cell_type": "markdown",
   "id": "6a51b529",
   "metadata": {},
   "source": [
    "The columns 'isSystemProfile' and 'crypt' both have high percentages of missing data, so we decided to drop these columns as we do not plan on utilizing them during our machine learning algorithms."
   ]
  },
  {
   "cell_type": "code",
   "execution_count": 6,
   "id": "2dbc7231",
   "metadata": {},
   "outputs": [],
   "source": [
    "# drop columns with very high percentages of missing data\n",
    "df = df.drop(['isSystemProfile'], axis=1)\n",
    "df = df.drop(['crypt'], axis=1)"
   ]
  },
  {
   "cell_type": "markdown",
   "id": "c64c7786",
   "metadata": {},
   "source": [
    "Since distance has 1.15% of missing values, let's perform imputation and replace the missing values with the mean distance."
   ]
  },
  {
   "cell_type": "code",
   "execution_count": 7,
   "id": "c4ebf61a",
   "metadata": {},
   "outputs": [],
   "source": [
    "# find mean distance\n",
    "df['distance'].mean()\n",
    "\n",
    "# replace null values with mean\n",
    "df.loc[df[\"distance\"].isnull(), \"distance\"] = df['distance'].mean()"
   ]
  },
  {
   "cell_type": "markdown",
   "id": "2c33fca3",
   "metadata": {},
   "source": [
    "Since the columns 'lastOnlineDate' and 'lastOnlineTime' have some missing values, lets perform imputation and replace them with their most common value."
   ]
  },
  {
   "cell_type": "code",
   "execution_count": 8,
   "id": "de536226",
   "metadata": {},
   "outputs": [
    {
     "data": {
      "text/plain": [
       "2015-04-07T00:08:59Z    7\n",
       "2015-04-06T14:23:52Z    7\n",
       "2015-04-19T08:37:52Z    6\n",
       "2015-04-05T07:13:49Z    6\n",
       "2015-04-06T16:02:55Z    5\n",
       "                       ..\n",
       "2015-04-06T16:03:19Z    1\n",
       "2015-04-26T09:37:25Z    1\n",
       "2015-04-26T11:41:36Z    1\n",
       "2015-04-19T23:59:22Z    1\n",
       "2015-04-19T11:00:59Z    1\n",
       "Name: lastOnlineDate, Length: 3470, dtype: int64"
      ]
     },
     "execution_count": 8,
     "metadata": {},
     "output_type": "execute_result"
    }
   ],
   "source": [
    "# find most common dates\n",
    "df['lastOnlineDate'].value_counts()"
   ]
  },
  {
   "cell_type": "code",
   "execution_count": 9,
   "id": "70a4619e",
   "metadata": {},
   "outputs": [],
   "source": [
    "# replace null values with common date\n",
    "df.loc[df[\"lastOnlineDate\"].isnull(), \"lastOnlineDate\"] = '2015-04-07T00:08:59Z'"
   ]
  },
  {
   "cell_type": "code",
   "execution_count": 10,
   "id": "219727f5",
   "metadata": {},
   "outputs": [
    {
     "data": {
      "text/plain": [
       "1.428365e+09    7\n",
       "1.428330e+09    7\n",
       "1.429433e+09    6\n",
       "1.428218e+09    6\n",
       "1.428336e+09    5\n",
       "               ..\n",
       "1.428336e+09    1\n",
       "1.430041e+09    1\n",
       "1.430048e+09    1\n",
       "1.429488e+09    1\n",
       "1.429441e+09    1\n",
       "Name: lastOnlineTime, Length: 3470, dtype: int64"
      ]
     },
     "execution_count": 10,
     "metadata": {},
     "output_type": "execute_result"
    }
   ],
   "source": [
    "# find most common time\n",
    "df['lastOnlineTime'].value_counts()"
   ]
  },
  {
   "cell_type": "code",
   "execution_count": 11,
   "id": "f43b56b2",
   "metadata": {},
   "outputs": [],
   "source": [
    "# replace null values with common time\n",
    "df.loc[df[\"lastOnlineTime\"].isnull(), \"lastOnlineTime\"] = 1.428365e+09"
   ]
  },
  {
   "cell_type": "code",
   "execution_count": 12,
   "id": "3233fa17",
   "metadata": {},
   "outputs": [
    {
     "data": {
      "text/plain": [
       "gender                    0.0\n",
       "genderLooking             0.0\n",
       "age                       0.0\n",
       "name                      0.0\n",
       "counts_details            0.0\n",
       "counts_pictures           0.0\n",
       "counts_profileVisits      0.0\n",
       "counts_kisses             0.0\n",
       "counts_fans               0.0\n",
       "counts_g                  0.0\n",
       "flirtInterests_chat       0.0\n",
       "flirtInterests_friends    0.0\n",
       "flirtInterests_date       0.0\n",
       "country                   0.0\n",
       "city                      0.0\n",
       "location                  0.0\n",
       "distance                  0.0\n",
       "isFlirtstar               0.0\n",
       "isHighlighted             0.0\n",
       "isInfluencer              0.0\n",
       "isMobile                  0.0\n",
       "isNew                     0.0\n",
       "isOnline                  0.0\n",
       "isVip                     0.0\n",
       "lang_count                0.0\n",
       "lang_fr                   0.0\n",
       "lang_en                   0.0\n",
       "lang_de                   0.0\n",
       "lang_it                   0.0\n",
       "lang_es                   0.0\n",
       "lang_pt                   0.0\n",
       "verified                  0.0\n",
       "shareProfileEnabled       0.0\n",
       "lastOnlineDate            0.0\n",
       "lastOnlineTime            0.0\n",
       "birthd                    0.0\n",
       "freetext                  0.0\n",
       "whazzup                   0.0\n",
       "userId                    0.0\n",
       "pictureId                 0.0\n",
       "dtype: float64"
      ]
     },
     "execution_count": 12,
     "metadata": {},
     "output_type": "execute_result"
    }
   ],
   "source": [
    "# we can see that all null values are gone\n",
    "df.isnull().mean()*100"
   ]
  },
  {
   "cell_type": "markdown",
   "id": "a75846a7",
   "metadata": {},
   "source": [
    "# Machine Learning\n",
    "For the machine learning portion of our project, we decided to utilize Random Forest Regression, Random Forest Classification, Simple Linear Regression, Random Forest Feature Importance, and K-NN classifier. For more information on why we chose algorithms, refer to our poster.\n",
    "\n",
    "It is important to note that instead of using all 42 columns of the dataset as a different variable in our machine learning algorithms, we decided to only focus on a select few that we felt would be the most impactful on our model.  The metric we will be testing on is the number of likes (aka “count_kisses”) that a profile (represented by a row in the dataset) receives, and we ultimately aim to analyze the relationship between the following factors and the number of likes. We decided to choose user age, count of pictures on profile, count of profile visits, count of fans, isOnline (a categorical variable represented by 0 or 1 for ‘yes’ or ‘no’), verified (another categorical variable with values ‘yes’ or ‘no’, thus we will need to perform encoding), and finally distance. "
   ]
  },
  {
   "cell_type": "markdown",
   "id": "230958ae",
   "metadata": {},
   "source": [
    "As stated in the brief summary above, we must first begin by isolating the columns we are focusing on in all of our machine learning algorithms. "
   ]
  },
  {
   "cell_type": "code",
   "execution_count": 58,
   "id": "9ab70d44",
   "metadata": {},
   "outputs": [],
   "source": [
    "#create new dataframe with columns we care about\n",
    "new_df = df[['counts_kisses', 'age', 'counts_pictures', 'counts_profileVisits',\n",
    "            'counts_fans', 'isOnline', 'verified', 'distance']].copy()\n"
   ]
  },
  {
   "cell_type": "markdown",
   "id": "110624d3",
   "metadata": {},
   "source": [
    "We decided to do a 70/30 split when partitioning the data for all of our machine learning algorithms."
   ]
  },
  {
   "cell_type": "code",
   "execution_count": 59,
   "id": "e445dc0b",
   "metadata": {},
   "outputs": [],
   "source": [
    "#partition the data\n",
    "X   = new_df[['age', 'counts_pictures', 'counts_profileVisits',\n",
    "            'counts_fans', 'isOnline', 'verified', 'distance']] #get the input features\n",
    "y   = new_df['counts_kisses']              #get the target\n",
    "\n",
    "X_train, X_test, y_train, y_test = train_test_split(X,              #the input features\n",
    "                                                    y,              #the label\n",
    "                                                    test_size=0.3,  #set aside 30% of the data as the test set\n",
    "                                                    random_state=7 #reproduce the results\n",
    "                                                   )"
   ]
  },
  {
   "cell_type": "code",
   "execution_count": 60,
   "id": "aae69345",
   "metadata": {},
   "outputs": [],
   "source": [
    "X_train = X_train.copy()\n",
    "X_test  = X_test.copy()"
   ]
  },
  {
   "cell_type": "markdown",
   "id": "9c0a5f69",
   "metadata": {},
   "source": [
    "Note that 'verfied' is a categorical feature, thus we must encode it for our algorithms. "
   ]
  },
  {
   "cell_type": "code",
   "execution_count": 61,
   "id": "c75049ef",
   "metadata": {},
   "outputs": [],
   "source": [
    "#encode the categorical feature\n",
    "encoder = OneHotEncoder(sparse=False, handle_unknown='ignore') #drop one of the encoded verified columns\n",
    "encoder.fit(X_train[['verified']])\n",
    "#enc.categories_ #view the categories\n",
    "\n",
    "X_train['verified'] = encoder.transform(X_train[['verified']])\n",
    "\n"
   ]
  },
  {
   "cell_type": "code",
   "execution_count": 62,
   "id": "ad81df14",
   "metadata": {},
   "outputs": [
    {
     "data": {
      "text/html": [
       "<div>\n",
       "<style scoped>\n",
       "    .dataframe tbody tr th:only-of-type {\n",
       "        vertical-align: middle;\n",
       "    }\n",
       "\n",
       "    .dataframe tbody tr th {\n",
       "        vertical-align: top;\n",
       "    }\n",
       "\n",
       "    .dataframe thead th {\n",
       "        text-align: right;\n",
       "    }\n",
       "</style>\n",
       "<table border=\"1\" class=\"dataframe\">\n",
       "  <thead>\n",
       "    <tr style=\"text-align: right;\">\n",
       "      <th></th>\n",
       "      <th>age</th>\n",
       "      <th>counts_pictures</th>\n",
       "      <th>counts_profileVisits</th>\n",
       "      <th>counts_fans</th>\n",
       "      <th>isOnline</th>\n",
       "      <th>verified</th>\n",
       "      <th>distance</th>\n",
       "    </tr>\n",
       "  </thead>\n",
       "  <tbody>\n",
       "    <tr>\n",
       "      <th>3609</th>\n",
       "      <td>25</td>\n",
       "      <td>2</td>\n",
       "      <td>5580</td>\n",
       "      <td>2</td>\n",
       "      <td>0</td>\n",
       "      <td>0.0</td>\n",
       "      <td>2.4</td>\n",
       "    </tr>\n",
       "    <tr>\n",
       "      <th>270</th>\n",
       "      <td>25</td>\n",
       "      <td>20</td>\n",
       "      <td>10553</td>\n",
       "      <td>1</td>\n",
       "      <td>1</td>\n",
       "      <td>1.0</td>\n",
       "      <td>80.2</td>\n",
       "    </tr>\n",
       "    <tr>\n",
       "      <th>170</th>\n",
       "      <td>21</td>\n",
       "      <td>3</td>\n",
       "      <td>3075</td>\n",
       "      <td>15</td>\n",
       "      <td>0</td>\n",
       "      <td>1.0</td>\n",
       "      <td>138.0</td>\n",
       "    </tr>\n",
       "    <tr>\n",
       "      <th>3164</th>\n",
       "      <td>24</td>\n",
       "      <td>1</td>\n",
       "      <td>230</td>\n",
       "      <td>0</td>\n",
       "      <td>1</td>\n",
       "      <td>1.0</td>\n",
       "      <td>429.0</td>\n",
       "    </tr>\n",
       "    <tr>\n",
       "      <th>2747</th>\n",
       "      <td>19</td>\n",
       "      <td>4</td>\n",
       "      <td>488</td>\n",
       "      <td>0</td>\n",
       "      <td>0</td>\n",
       "      <td>1.0</td>\n",
       "      <td>103.0</td>\n",
       "    </tr>\n",
       "  </tbody>\n",
       "</table>\n",
       "</div>"
      ],
      "text/plain": [
       "      age  counts_pictures  counts_profileVisits  counts_fans  isOnline  \\\n",
       "3609   25                2                  5580            2         0   \n",
       "270    25               20                 10553            1         1   \n",
       "170    21                3                  3075           15         0   \n",
       "3164   24                1                   230            0         1   \n",
       "2747   19                4                   488            0         0   \n",
       "\n",
       "      verified  distance  \n",
       "3609       0.0       2.4  \n",
       "270        1.0      80.2  \n",
       "170        1.0     138.0  \n",
       "3164       1.0     429.0  \n",
       "2747       1.0     103.0  "
      ]
     },
     "execution_count": 62,
     "metadata": {},
     "output_type": "execute_result"
    }
   ],
   "source": [
    "#double check that its encoded\n",
    "X_train.head()"
   ]
  },
  {
   "cell_type": "markdown",
   "id": "cf767335",
   "metadata": {},
   "source": [
    "## Random Forest\n",
    "\n",
    "We decided to utilize random forest regression, classification, and feature importance to avoid overfitting the data and to determine the magnititude of the effect different profile features have on the counts of kisses."
   ]
  },
  {
   "cell_type": "markdown",
   "id": "8e1c565f",
   "metadata": {},
   "source": [
    "#### Random Forest Regression\n",
    "Let's begin by running a random forest regression to first analyze the mean square error of our random forest model."
   ]
  },
  {
   "cell_type": "code",
   "execution_count": 63,
   "id": "94cedcef",
   "metadata": {},
   "outputs": [
    {
     "data": {
      "text/html": [
       "<style>#sk-container-id-4 {color: black;background-color: white;}#sk-container-id-4 pre{padding: 0;}#sk-container-id-4 div.sk-toggleable {background-color: white;}#sk-container-id-4 label.sk-toggleable__label {cursor: pointer;display: block;width: 100%;margin-bottom: 0;padding: 0.3em;box-sizing: border-box;text-align: center;}#sk-container-id-4 label.sk-toggleable__label-arrow:before {content: \"▸\";float: left;margin-right: 0.25em;color: #696969;}#sk-container-id-4 label.sk-toggleable__label-arrow:hover:before {color: black;}#sk-container-id-4 div.sk-estimator:hover label.sk-toggleable__label-arrow:before {color: black;}#sk-container-id-4 div.sk-toggleable__content {max-height: 0;max-width: 0;overflow: hidden;text-align: left;background-color: #f0f8ff;}#sk-container-id-4 div.sk-toggleable__content pre {margin: 0.2em;color: black;border-radius: 0.25em;background-color: #f0f8ff;}#sk-container-id-4 input.sk-toggleable__control:checked~div.sk-toggleable__content {max-height: 200px;max-width: 100%;overflow: auto;}#sk-container-id-4 input.sk-toggleable__control:checked~label.sk-toggleable__label-arrow:before {content: \"▾\";}#sk-container-id-4 div.sk-estimator input.sk-toggleable__control:checked~label.sk-toggleable__label {background-color: #d4ebff;}#sk-container-id-4 div.sk-label input.sk-toggleable__control:checked~label.sk-toggleable__label {background-color: #d4ebff;}#sk-container-id-4 input.sk-hidden--visually {border: 0;clip: rect(1px 1px 1px 1px);clip: rect(1px, 1px, 1px, 1px);height: 1px;margin: -1px;overflow: hidden;padding: 0;position: absolute;width: 1px;}#sk-container-id-4 div.sk-estimator {font-family: monospace;background-color: #f0f8ff;border: 1px dotted black;border-radius: 0.25em;box-sizing: border-box;margin-bottom: 0.5em;}#sk-container-id-4 div.sk-estimator:hover {background-color: #d4ebff;}#sk-container-id-4 div.sk-parallel-item::after {content: \"\";width: 100%;border-bottom: 1px solid gray;flex-grow: 1;}#sk-container-id-4 div.sk-label:hover label.sk-toggleable__label {background-color: #d4ebff;}#sk-container-id-4 div.sk-serial::before {content: \"\";position: absolute;border-left: 1px solid gray;box-sizing: border-box;top: 0;bottom: 0;left: 50%;z-index: 0;}#sk-container-id-4 div.sk-serial {display: flex;flex-direction: column;align-items: center;background-color: white;padding-right: 0.2em;padding-left: 0.2em;position: relative;}#sk-container-id-4 div.sk-item {position: relative;z-index: 1;}#sk-container-id-4 div.sk-parallel {display: flex;align-items: stretch;justify-content: center;background-color: white;position: relative;}#sk-container-id-4 div.sk-item::before, #sk-container-id-4 div.sk-parallel-item::before {content: \"\";position: absolute;border-left: 1px solid gray;box-sizing: border-box;top: 0;bottom: 0;left: 50%;z-index: -1;}#sk-container-id-4 div.sk-parallel-item {display: flex;flex-direction: column;z-index: 1;position: relative;background-color: white;}#sk-container-id-4 div.sk-parallel-item:first-child::after {align-self: flex-end;width: 50%;}#sk-container-id-4 div.sk-parallel-item:last-child::after {align-self: flex-start;width: 50%;}#sk-container-id-4 div.sk-parallel-item:only-child::after {width: 0;}#sk-container-id-4 div.sk-dashed-wrapped {border: 1px dashed gray;margin: 0 0.4em 0.5em 0.4em;box-sizing: border-box;padding-bottom: 0.4em;background-color: white;}#sk-container-id-4 div.sk-label label {font-family: monospace;font-weight: bold;display: inline-block;line-height: 1.2em;}#sk-container-id-4 div.sk-label-container {text-align: center;}#sk-container-id-4 div.sk-container {/* jupyter's `normalize.less` sets `[hidden] { display: none; }` but bootstrap.min.css set `[hidden] { display: none !important; }` so we also need the `!important` here to be able to override the default hidden behavior on the sphinx rendered scikit-learn.org. See: https://github.com/scikit-learn/scikit-learn/issues/21755 */display: inline-block !important;position: relative;}#sk-container-id-4 div.sk-text-repr-fallback {display: none;}</style><div id=\"sk-container-id-4\" class=\"sk-top-container\"><div class=\"sk-text-repr-fallback\"><pre>RandomForestRegressor(random_state=7)</pre><b>In a Jupyter environment, please rerun this cell to show the HTML representation or trust the notebook. <br />On GitHub, the HTML representation is unable to render, please try loading this page with nbviewer.org.</b></div><div class=\"sk-container\" hidden><div class=\"sk-item\"><div class=\"sk-estimator sk-toggleable\"><input class=\"sk-toggleable__control sk-hidden--visually\" id=\"sk-estimator-id-4\" type=\"checkbox\" checked><label for=\"sk-estimator-id-4\" class=\"sk-toggleable__label sk-toggleable__label-arrow\">RandomForestRegressor</label><div class=\"sk-toggleable__content\"><pre>RandomForestRegressor(random_state=7)</pre></div></div></div></div></div>"
      ],
      "text/plain": [
       "RandomForestRegressor(random_state=7)"
      ]
     },
     "execution_count": 63,
     "metadata": {},
     "output_type": "execute_result"
    }
   ],
   "source": [
    "#run the random forest regressor\n",
    "rf = RandomForestRegressor(random_state=7)\n",
    "rf.fit(X_train, y_train)"
   ]
  },
  {
   "cell_type": "code",
   "execution_count": 64,
   "id": "92389c5f",
   "metadata": {},
   "outputs": [
    {
     "name": "stdout",
     "output_type": "stream",
     "text": [
      "The predicted count of kisses is: [200.58   0.     2.01 ...   4.2    2.91  30.51]\n"
     ]
    }
   ],
   "source": [
    "#predict the labels for the test set\n",
    "y_pred   = rf.predict(X_test)\n",
    "\n",
    "print('The predicted count of kisses is: {}'.format(y_pred))"
   ]
  },
  {
   "cell_type": "code",
   "execution_count": 65,
   "id": "c36f1d1d",
   "metadata": {},
   "outputs": [
    {
     "name": "stdout",
     "output_type": "stream",
     "text": [
      "The mse of the model is: 26127.88161068447\n",
      "counts_kisses r2 score: 0.7568781276988309\n"
     ]
    }
   ],
   "source": [
    "mse = mean_squared_error(y_test, y_pred)\n",
    "\n",
    "# Evaluate the Predictions\n",
    "print('The mse of the model is: {}'.format(mse))\n",
    "r2 = r2_score(y_true=y_test, y_pred=y_pred)\n",
    "print('counts_kisses', 'r2 score:', r2)\n"
   ]
  },
  {
   "cell_type": "markdown",
   "id": "f74396b7",
   "metadata": {},
   "source": [
    "The mean square error is quite high, suggesting that the average distance between the observed and predicted counts of kisses is over 26,000. However, the r2 score is .7568, which suggests that 75.68% of the change in counts_kisses is attributed to the change in our X features. This is quite high! Let's see how well our other random forest models perform. "
   ]
  },
  {
   "cell_type": "markdown",
   "id": "04c9f2e5",
   "metadata": {},
   "source": [
    "### Tuning Hyperparameters  - Random Forest Regression and Feature Importance \n",
    "We will now use GridSearchCV to tune two hyperparameters in this model.\n",
    "\n",
    "We utilized this [source](https://towardsdatascience.com/hyperparameter-tuning-the-random-forest-in-python-using-scikit-learn-28d2aa77dd74) for assistance."
   ]
  },
  {
   "cell_type": "code",
   "execution_count": 71,
   "id": "c5a67b94",
   "metadata": {},
   "outputs": [
    {
     "name": "stdout",
     "output_type": "stream",
     "text": [
      "Fitting 3 folds for each of 162 candidates, totalling 486 fits\n",
      "{'bootstrap': True, 'max_depth': 50, 'max_features': 'sqrt', 'min_samples_leaf': 2, 'min_samples_split': 6, 'n_estimators': 100}\n",
      "Improvement of 4.96%.\n"
     ]
    }
   ],
   "source": [
    "from sklearn.model_selection import GridSearchCV\n",
    "\n",
    "#define the parameter grid\n",
    "\n",
    "param_grid = {\n",
    "    'bootstrap': [True],\n",
    "    'max_depth': [50, 75, 100],\n",
    "    'max_features': ['sqrt', 'log2'],\n",
    "    'min_samples_leaf': [2, 3, 4],\n",
    "    'min_samples_split': [4, 6, 8],\n",
    "    'n_estimators': [50, 100, 200]\n",
    "}\n",
    "\n",
    "# Create a based model\n",
    "rf = RandomForestRegressor(random_state=7)\n",
    "\n",
    "# Instantiate the grid search model\n",
    "grid_search = GridSearchCV(estimator=rf, param_grid=param_grid, cv=3, n_jobs=-1, verbose=2)\n",
    "\n",
    "# Fit the grid search to the data\n",
    "grid_search.fit(X_train, y_train)\n",
    "\n",
    "# Print the best parameters found by grid search\n",
    "print(grid_search.best_params_)\n",
    "\n",
    "\n",
    "# Get the best estimator\n",
    "best_rf = grid_search.best_estimator_\n",
    "\n",
    "# Evaluate the best estimator on the test set\n",
    "test_accuracy = best_rf.score(X_test, y_test)\n",
    "\n",
    "# Print the improvement over the baseline model\n",
    "base_rf = RandomForestRegressor(random_state=7)\n",
    "base_rf.fit(X_train, y_train)\n",
    "base_accuracy = base_rf.score(X_test, y_test)\n",
    "print('Improvement of {:0.2f}%.'.format(100 * (test_accuracy - base_accuracy) / base_accuracy))"
   ]
  },
  {
   "cell_type": "markdown",
   "id": "18354af3",
   "metadata": {},
   "source": [
    "### Interpreting the hyperparameter results\n",
    "This means that the best model found had the following hyperparameters:\n",
    "\n",
    "bootstrap: True, meaning bootstrap samples were used when building trees.\n",
    "max_depth: 50, which sets the maximum depth of the tree.\n",
    "max_features: 'sqrt', which sets the maximum number of features to consider when splitting a node to the square root of the number of features.\n",
    "min_samples_leaf: 2, which sets the minimum number of samples required to be at a leaf node.\n",
    "min_samples_split: 6, which sets the minimum number of samples required to split an internal node.\n",
    "n_estimators: 100, which sets the number of trees in the forest.\n",
    "\n",
    "Finally, the output shows that the model with these hyperparameters has an improvement of 4.96% over the baseline model. This means that the best model found by the grid search performs 4.96% better on the test set than the default model with the default hyperparameters."
   ]
  },
  {
   "cell_type": "code",
   "execution_count": 73,
   "id": "2ae4bbc0",
   "metadata": {},
   "outputs": [
    {
     "name": "stdout",
     "output_type": "stream",
     "text": [
      "Mean squared error: 22092.12\n",
      "R2 score: 0.79\n",
      "[CV] END bootstrap=True, max_depth=50, max_features=sqrt, min_samples_leaf=2, min_samples_split=4, n_estimators=200; total time=   1.0s\n",
      "[CV] END bootstrap=True, max_depth=50, max_features=sqrt, min_samples_leaf=2, min_samples_split=8, n_estimators=100; total time=   0.4s\n",
      "[CV] END bootstrap=True, max_depth=50, max_features=sqrt, min_samples_leaf=3, min_samples_split=4, n_estimators=50; total time=   0.3s\n",
      "[CV] END bootstrap=True, max_depth=50, max_features=sqrt, min_samples_leaf=3, min_samples_split=4, n_estimators=100; total time=   0.5s\n",
      "[CV] END bootstrap=True, max_depth=50, max_features=sqrt, min_samples_leaf=3, min_samples_split=6, n_estimators=50; total time=   0.2s\n",
      "[CV] END bootstrap=True, max_depth=50, max_features=sqrt, min_samples_leaf=3, min_samples_split=6, n_estimators=200; total time=   0.9s\n",
      "[CV] END bootstrap=True, max_depth=50, max_features=sqrt, min_samples_leaf=4, min_samples_split=4, n_estimators=50; total time=   0.2s\n",
      "[CV] END bootstrap=True, max_depth=50, max_features=sqrt, min_samples_leaf=4, min_samples_split=4, n_estimators=100; total time=   0.4s\n",
      "[CV] END bootstrap=True, max_depth=50, max_features=sqrt, min_samples_leaf=4, min_samples_split=6, n_estimators=50; total time=   0.3s\n",
      "[CV] END bootstrap=True, max_depth=50, max_features=sqrt, min_samples_leaf=4, min_samples_split=6, n_estimators=100; total time=   0.4s\n",
      "[CV] END bootstrap=True, max_depth=50, max_features=sqrt, min_samples_leaf=4, min_samples_split=8, n_estimators=100; total time=   0.5s\n",
      "[CV] END bootstrap=True, max_depth=50, max_features=log2, min_samples_leaf=2, min_samples_split=4, n_estimators=50; total time=   0.3s\n",
      "[CV] END bootstrap=True, max_depth=50, max_features=log2, min_samples_leaf=2, min_samples_split=4, n_estimators=100; total time=   0.5s\n",
      "[CV] END bootstrap=True, max_depth=50, max_features=log2, min_samples_leaf=2, min_samples_split=6, n_estimators=100; total time=   0.4s\n",
      "[CV] END bootstrap=True, max_depth=50, max_features=log2, min_samples_leaf=2, min_samples_split=8, n_estimators=50; total time=   0.2s\n",
      "[CV] END bootstrap=True, max_depth=50, max_features=log2, min_samples_leaf=2, min_samples_split=8, n_estimators=100; total time=   0.4s\n",
      "[CV] END bootstrap=True, max_depth=50, max_features=log2, min_samples_leaf=3, min_samples_split=4, n_estimators=50; total time=   0.2s\n",
      "[CV] END bootstrap=True, max_depth=50, max_features=log2, min_samples_leaf=3, min_samples_split=4, n_estimators=200; total time=   0.9s\n",
      "[CV] END bootstrap=True, max_depth=50, max_features=log2, min_samples_leaf=3, min_samples_split=8, n_estimators=50; total time=   0.2s\n",
      "[CV] END bootstrap=True, max_depth=50, max_features=log2, min_samples_leaf=3, min_samples_split=8, n_estimators=100; total time=   0.4s\n",
      "[CV] END bootstrap=True, max_depth=50, max_features=log2, min_samples_leaf=4, min_samples_split=4, n_estimators=50; total time=   0.2s\n",
      "[CV] END bootstrap=True, max_depth=50, max_features=log2, min_samples_leaf=4, min_samples_split=4, n_estimators=200; total time=   0.8s\n",
      "[CV] END bootstrap=True, max_depth=50, max_features=log2, min_samples_leaf=4, min_samples_split=8, n_estimators=50; total time=   0.2s\n",
      "[CV] END bootstrap=True, max_depth=50, max_features=log2, min_samples_leaf=4, min_samples_split=8, n_estimators=100; total time=   0.4s\n",
      "[CV] END bootstrap=True, max_depth=75, max_features=sqrt, min_samples_leaf=2, min_samples_split=4, n_estimators=100; total time=   0.4s\n",
      "[CV] END bootstrap=True, max_depth=75, max_features=sqrt, min_samples_leaf=2, min_samples_split=6, n_estimators=50; total time=   0.2s\n",
      "[CV] END bootstrap=True, max_depth=75, max_features=sqrt, min_samples_leaf=2, min_samples_split=6, n_estimators=200; total time=   0.8s\n",
      "[CV] END bootstrap=True, max_depth=75, max_features=sqrt, min_samples_leaf=3, min_samples_split=4, n_estimators=50; total time=   0.2s\n",
      "[CV] END bootstrap=True, max_depth=75, max_features=sqrt, min_samples_leaf=3, min_samples_split=4, n_estimators=100; total time=   0.4s\n",
      "[CV] END bootstrap=True, max_depth=75, max_features=sqrt, min_samples_leaf=3, min_samples_split=6, n_estimators=50; total time=   0.2s\n",
      "[CV] END bootstrap=True, max_depth=75, max_features=sqrt, min_samples_leaf=3, min_samples_split=6, n_estimators=200; total time=   0.8s\n",
      "[CV] END bootstrap=True, max_depth=75, max_features=sqrt, min_samples_leaf=4, min_samples_split=4, n_estimators=50; total time=   0.2s\n",
      "[CV] END bootstrap=True, max_depth=75, max_features=sqrt, min_samples_leaf=4, min_samples_split=4, n_estimators=100; total time=   0.4s\n",
      "[CV] END bootstrap=True, max_depth=75, max_features=sqrt, min_samples_leaf=4, min_samples_split=6, n_estimators=100; total time=   0.4s\n",
      "[CV] END bootstrap=True, max_depth=75, max_features=sqrt, min_samples_leaf=4, min_samples_split=6, n_estimators=200; total time=   0.8s\n",
      "[CV] END bootstrap=True, max_depth=75, max_features=log2, min_samples_leaf=2, min_samples_split=4, n_estimators=100; total time=   0.4s\n",
      "[CV] END bootstrap=True, max_depth=75, max_features=log2, min_samples_leaf=2, min_samples_split=6, n_estimators=50; total time=   0.2s\n",
      "[CV] END bootstrap=True, max_depth=75, max_features=log2, min_samples_leaf=2, min_samples_split=6, n_estimators=200; total time=   0.8s\n",
      "[CV] END bootstrap=True, max_depth=75, max_features=log2, min_samples_leaf=3, min_samples_split=4, n_estimators=50; total time=   0.2s\n",
      "[CV] END bootstrap=True, max_depth=75, max_features=log2, min_samples_leaf=3, min_samples_split=4, n_estimators=200; total time=   0.8s\n",
      "[CV] END bootstrap=True, max_depth=75, max_features=log2, min_samples_leaf=3, min_samples_split=8, n_estimators=50; total time=   0.2s\n",
      "[CV] END bootstrap=True, max_depth=75, max_features=log2, min_samples_leaf=3, min_samples_split=8, n_estimators=100; total time=   0.4s\n",
      "[CV] END bootstrap=True, max_depth=75, max_features=log2, min_samples_leaf=4, min_samples_split=4, n_estimators=50; total time=   0.2s\n",
      "[CV] END bootstrap=True, max_depth=75, max_features=log2, min_samples_leaf=4, min_samples_split=4, n_estimators=200; total time=   0.8s\n",
      "[CV] END bootstrap=True, max_depth=75, max_features=log2, min_samples_leaf=4, min_samples_split=8, n_estimators=50; total time=   0.2s\n",
      "[CV] END bootstrap=True, max_depth=75, max_features=log2, min_samples_leaf=4, min_samples_split=8, n_estimators=100; total time=   0.4s\n",
      "[CV] END bootstrap=True, max_depth=100, max_features=sqrt, min_samples_leaf=2, min_samples_split=4, n_estimators=100; total time=   0.4s\n",
      "[CV] END bootstrap=True, max_depth=100, max_features=sqrt, min_samples_leaf=2, min_samples_split=6, n_estimators=50; total time=   0.2s\n",
      "[CV] END bootstrap=True, max_depth=100, max_features=sqrt, min_samples_leaf=2, min_samples_split=6, n_estimators=200; total time=   0.9s\n",
      "[CV] END bootstrap=True, max_depth=100, max_features=sqrt, min_samples_leaf=2, min_samples_split=8, n_estimators=200; total time=   0.8s\n",
      "[CV] END bootstrap=True, max_depth=100, max_features=sqrt, min_samples_leaf=3, min_samples_split=6, n_estimators=100; total time=   0.4s\n",
      "[CV] END bootstrap=True, max_depth=100, max_features=sqrt, min_samples_leaf=3, min_samples_split=8, n_estimators=50; total time=   0.2s\n",
      "[CV] END bootstrap=True, max_depth=100, max_features=sqrt, min_samples_leaf=3, min_samples_split=8, n_estimators=200; total time=   0.7s\n",
      "[CV] END bootstrap=True, max_depth=100, max_features=sqrt, min_samples_leaf=4, min_samples_split=6, n_estimators=50; total time=   0.2s\n",
      "[CV] END bootstrap=True, max_depth=100, max_features=sqrt, min_samples_leaf=4, min_samples_split=6, n_estimators=200; total time=   0.8s\n",
      "[CV] END bootstrap=True, max_depth=100, max_features=log2, min_samples_leaf=2, min_samples_split=4, n_estimators=50; total time=   0.2s\n",
      "[CV] END bootstrap=True, max_depth=100, max_features=log2, min_samples_leaf=2, min_samples_split=4, n_estimators=100; total time=   0.4s\n",
      "[CV] END bootstrap=True, max_depth=100, max_features=log2, min_samples_leaf=2, min_samples_split=6, n_estimators=100; total time=   0.4s\n",
      "[CV] END bootstrap=True, max_depth=100, max_features=log2, min_samples_leaf=2, min_samples_split=6, n_estimators=200; total time=   0.8s\n",
      "[CV] END bootstrap=True, max_depth=100, max_features=log2, min_samples_leaf=3, min_samples_split=4, n_estimators=100; total time=   0.4s\n",
      "[CV] END bootstrap=True, max_depth=100, max_features=log2, min_samples_leaf=3, min_samples_split=6, n_estimators=100; total time=   0.4s\n",
      "[CV] END bootstrap=True, max_depth=100, max_features=log2, min_samples_leaf=3, min_samples_split=8, n_estimators=50; total time=   0.2s\n",
      "[CV] END bootstrap=True, max_depth=100, max_features=log2, min_samples_leaf=3, min_samples_split=8, n_estimators=200; total time=   0.8s\n",
      "[CV] END bootstrap=True, max_depth=100, max_features=log2, min_samples_leaf=4, min_samples_split=6, n_estimators=50; total time=   0.3s\n",
      "[CV] END bootstrap=True, max_depth=100, max_features=log2, min_samples_leaf=4, min_samples_split=6, n_estimators=200; total time=   0.8s\n"
     ]
    },
    {
     "name": "stdout",
     "output_type": "stream",
     "text": [
      "[CV] END bootstrap=True, max_depth=50, max_features=sqrt, min_samples_leaf=2, min_samples_split=4, n_estimators=100; total time=   0.5s\n",
      "[CV] END bootstrap=True, max_depth=50, max_features=sqrt, min_samples_leaf=2, min_samples_split=6, n_estimators=100; total time=   0.5s\n",
      "[CV] END bootstrap=True, max_depth=50, max_features=sqrt, min_samples_leaf=2, min_samples_split=6, n_estimators=200; total time=   1.0s\n",
      "[CV] END bootstrap=True, max_depth=50, max_features=sqrt, min_samples_leaf=3, min_samples_split=4, n_estimators=200; total time=   0.9s\n",
      "[CV] END bootstrap=True, max_depth=50, max_features=sqrt, min_samples_leaf=3, min_samples_split=8, n_estimators=50; total time=   0.2s\n",
      "[CV] END bootstrap=True, max_depth=50, max_features=sqrt, min_samples_leaf=3, min_samples_split=8, n_estimators=200; total time=   0.9s\n",
      "[CV] END bootstrap=True, max_depth=50, max_features=sqrt, min_samples_leaf=4, min_samples_split=4, n_estimators=200; total time=   0.9s\n",
      "[CV] END bootstrap=True, max_depth=50, max_features=sqrt, min_samples_leaf=4, min_samples_split=8, n_estimators=200; total time=   0.9s\n",
      "[CV] END bootstrap=True, max_depth=50, max_features=log2, min_samples_leaf=2, min_samples_split=6, n_estimators=50; total time=   0.3s\n",
      "[CV] END bootstrap=True, max_depth=50, max_features=log2, min_samples_leaf=2, min_samples_split=6, n_estimators=100; total time=   0.5s\n",
      "[CV] END bootstrap=True, max_depth=50, max_features=log2, min_samples_leaf=2, min_samples_split=8, n_estimators=50; total time=   0.2s\n",
      "[CV] END bootstrap=True, max_depth=50, max_features=log2, min_samples_leaf=2, min_samples_split=8, n_estimators=200; total time=   0.8s\n",
      "[CV] END bootstrap=True, max_depth=50, max_features=log2, min_samples_leaf=3, min_samples_split=6, n_estimators=50; total time=   0.2s\n",
      "[CV] END bootstrap=True, max_depth=50, max_features=log2, min_samples_leaf=3, min_samples_split=6, n_estimators=100; total time=   0.5s\n",
      "[CV] END bootstrap=True, max_depth=50, max_features=log2, min_samples_leaf=3, min_samples_split=8, n_estimators=100; total time=   0.4s\n",
      "[CV] END bootstrap=True, max_depth=50, max_features=log2, min_samples_leaf=3, min_samples_split=8, n_estimators=200; total time=   0.8s\n",
      "[CV] END bootstrap=True, max_depth=50, max_features=log2, min_samples_leaf=4, min_samples_split=6, n_estimators=200; total time=   0.8s\n",
      "[CV] END bootstrap=True, max_depth=75, max_features=sqrt, min_samples_leaf=2, min_samples_split=4, n_estimators=50; total time=   0.2s\n",
      "[CV] END bootstrap=True, max_depth=75, max_features=sqrt, min_samples_leaf=2, min_samples_split=4, n_estimators=200; total time=   0.9s\n",
      "[CV] END bootstrap=True, max_depth=75, max_features=sqrt, min_samples_leaf=2, min_samples_split=8, n_estimators=50; total time=   0.2s\n",
      "[CV] END bootstrap=True, max_depth=75, max_features=sqrt, min_samples_leaf=2, min_samples_split=8, n_estimators=200; total time=   0.8s\n",
      "[CV] END bootstrap=True, max_depth=75, max_features=sqrt, min_samples_leaf=3, min_samples_split=6, n_estimators=50; total time=   0.2s\n",
      "[CV] END bootstrap=True, max_depth=75, max_features=sqrt, min_samples_leaf=3, min_samples_split=6, n_estimators=200; total time=   0.8s\n",
      "[CV] END bootstrap=True, max_depth=75, max_features=sqrt, min_samples_leaf=4, min_samples_split=4, n_estimators=50; total time=   0.2s\n",
      "[CV] END bootstrap=True, max_depth=75, max_features=sqrt, min_samples_leaf=4, min_samples_split=4, n_estimators=100; total time=   0.4s\n",
      "[CV] END bootstrap=True, max_depth=75, max_features=sqrt, min_samples_leaf=4, min_samples_split=6, n_estimators=50; total time=   0.2s\n",
      "[CV] END bootstrap=True, max_depth=75, max_features=sqrt, min_samples_leaf=4, min_samples_split=6, n_estimators=200; total time=   0.7s\n",
      "[CV] END bootstrap=True, max_depth=75, max_features=sqrt, min_samples_leaf=4, min_samples_split=8, n_estimators=200; total time=   0.8s\n",
      "[CV] END bootstrap=True, max_depth=75, max_features=log2, min_samples_leaf=2, min_samples_split=6, n_estimators=100; total time=   0.4s\n",
      "[CV] END bootstrap=True, max_depth=75, max_features=log2, min_samples_leaf=2, min_samples_split=8, n_estimators=50; total time=   0.2s\n",
      "[CV] END bootstrap=True, max_depth=75, max_features=log2, min_samples_leaf=2, min_samples_split=8, n_estimators=100; total time=   0.4s\n",
      "[CV] END bootstrap=True, max_depth=75, max_features=log2, min_samples_leaf=3, min_samples_split=4, n_estimators=100; total time=   0.5s\n",
      "[CV] END bootstrap=True, max_depth=75, max_features=log2, min_samples_leaf=3, min_samples_split=6, n_estimators=50; total time=   0.2s\n",
      "[CV] END bootstrap=True, max_depth=75, max_features=log2, min_samples_leaf=3, min_samples_split=6, n_estimators=100; total time=   0.4s\n",
      "[CV] END bootstrap=True, max_depth=75, max_features=log2, min_samples_leaf=3, min_samples_split=8, n_estimators=100; total time=   0.4s\n",
      "[CV] END bootstrap=True, max_depth=75, max_features=log2, min_samples_leaf=4, min_samples_split=4, n_estimators=50; total time=   0.2s\n",
      "[CV] END bootstrap=True, max_depth=75, max_features=log2, min_samples_leaf=4, min_samples_split=4, n_estimators=200; total time=   0.8s\n",
      "[CV] END bootstrap=True, max_depth=75, max_features=log2, min_samples_leaf=4, min_samples_split=8, n_estimators=50; total time=   0.2s\n",
      "[CV] END bootstrap=True, max_depth=75, max_features=log2, min_samples_leaf=4, min_samples_split=8, n_estimators=100; total time=   0.4s\n",
      "[CV] END bootstrap=True, max_depth=100, max_features=sqrt, min_samples_leaf=2, min_samples_split=4, n_estimators=50; total time=   0.2s\n",
      "[CV] END bootstrap=True, max_depth=100, max_features=sqrt, min_samples_leaf=2, min_samples_split=4, n_estimators=200; total time=   0.9s\n",
      "[CV] END bootstrap=True, max_depth=100, max_features=sqrt, min_samples_leaf=2, min_samples_split=8, n_estimators=100; total time=   0.4s\n",
      "[CV] END bootstrap=True, max_depth=100, max_features=sqrt, min_samples_leaf=3, min_samples_split=4, n_estimators=50; total time=   0.2s\n",
      "[CV] END bootstrap=True, max_depth=100, max_features=sqrt, min_samples_leaf=3, min_samples_split=4, n_estimators=100; total time=   0.4s\n",
      "[CV] END bootstrap=True, max_depth=100, max_features=sqrt, min_samples_leaf=3, min_samples_split=6, n_estimators=50; total time=   0.2s\n",
      "[CV] END bootstrap=True, max_depth=100, max_features=sqrt, min_samples_leaf=3, min_samples_split=6, n_estimators=200; total time=   0.8s\n",
      "[CV] END bootstrap=True, max_depth=100, max_features=sqrt, min_samples_leaf=4, min_samples_split=4, n_estimators=50; total time=   0.2s\n",
      "[CV] END bootstrap=True, max_depth=100, max_features=sqrt, min_samples_leaf=4, min_samples_split=4, n_estimators=200; total time=   0.8s\n",
      "[CV] END bootstrap=True, max_depth=100, max_features=sqrt, min_samples_leaf=4, min_samples_split=8, n_estimators=50; total time=   0.2s\n",
      "[CV] END bootstrap=True, max_depth=100, max_features=sqrt, min_samples_leaf=4, min_samples_split=8, n_estimators=200; total time=   0.8s\n",
      "[CV] END bootstrap=True, max_depth=100, max_features=log2, min_samples_leaf=2, min_samples_split=4, n_estimators=200; total time=   0.8s\n",
      "[CV] END bootstrap=True, max_depth=100, max_features=log2, min_samples_leaf=2, min_samples_split=8, n_estimators=100; total time=   0.4s\n",
      "[CV] END bootstrap=True, max_depth=100, max_features=log2, min_samples_leaf=3, min_samples_split=4, n_estimators=100; total time=   0.4s\n",
      "[CV] END bootstrap=True, max_depth=100, max_features=log2, min_samples_leaf=3, min_samples_split=6, n_estimators=50; total time=   0.2s\n",
      "[CV] END bootstrap=True, max_depth=100, max_features=log2, min_samples_leaf=3, min_samples_split=6, n_estimators=100; total time=   0.4s\n",
      "[CV] END bootstrap=True, max_depth=100, max_features=log2, min_samples_leaf=3, min_samples_split=8, n_estimators=100; total time=   0.4s\n",
      "[CV] END bootstrap=True, max_depth=100, max_features=log2, min_samples_leaf=4, min_samples_split=4, n_estimators=50; total time=   0.2s\n",
      "[CV] END bootstrap=True, max_depth=100, max_features=log2, min_samples_leaf=4, min_samples_split=4, n_estimators=100; total time=   0.4s\n",
      "[CV] END bootstrap=True, max_depth=100, max_features=log2, min_samples_leaf=4, min_samples_split=6, n_estimators=50; total time=   0.2s\n",
      "[CV] END bootstrap=True, max_depth=100, max_features=log2, min_samples_leaf=4, min_samples_split=6, n_estimators=100; total time=   0.4s\n",
      "[CV] END bootstrap=True, max_depth=100, max_features=log2, min_samples_leaf=4, min_samples_split=8, n_estimators=100; total time=   0.4s\n"
     ]
    },
    {
     "name": "stdout",
     "output_type": "stream",
     "text": [
      "[CV] END bootstrap=True, max_depth=50, max_features=sqrt, min_samples_leaf=2, min_samples_split=4, n_estimators=100; total time=   0.5s\n",
      "[CV] END bootstrap=True, max_depth=50, max_features=sqrt, min_samples_leaf=2, min_samples_split=6, n_estimators=50; total time=   0.2s\n",
      "[CV] END bootstrap=True, max_depth=50, max_features=sqrt, min_samples_leaf=2, min_samples_split=6, n_estimators=200; total time=   0.9s\n",
      "[CV] END bootstrap=True, max_depth=50, max_features=sqrt, min_samples_leaf=3, min_samples_split=4, n_estimators=50; total time=   0.3s\n",
      "[CV] END bootstrap=True, max_depth=50, max_features=sqrt, min_samples_leaf=3, min_samples_split=4, n_estimators=200; total time=   0.9s\n",
      "[CV] END bootstrap=True, max_depth=50, max_features=sqrt, min_samples_leaf=3, min_samples_split=8, n_estimators=50; total time=   0.2s\n",
      "[CV] END bootstrap=True, max_depth=50, max_features=sqrt, min_samples_leaf=3, min_samples_split=8, n_estimators=100; total time=   0.4s\n",
      "[CV] END bootstrap=True, max_depth=50, max_features=sqrt, min_samples_leaf=4, min_samples_split=4, n_estimators=50; total time=   0.2s\n",
      "[CV] END bootstrap=True, max_depth=50, max_features=sqrt, min_samples_leaf=4, min_samples_split=4, n_estimators=200; total time=   0.9s\n",
      "[CV] END bootstrap=True, max_depth=50, max_features=sqrt, min_samples_leaf=4, min_samples_split=8, n_estimators=50; total time=   0.2s\n",
      "[CV] END bootstrap=True, max_depth=50, max_features=sqrt, min_samples_leaf=4, min_samples_split=8, n_estimators=100; total time=   0.4s\n",
      "[CV] END bootstrap=True, max_depth=50, max_features=log2, min_samples_leaf=2, min_samples_split=4, n_estimators=100; total time=   0.5s\n",
      "[CV] END bootstrap=True, max_depth=50, max_features=log2, min_samples_leaf=2, min_samples_split=6, n_estimators=50; total time=   0.3s\n",
      "[CV] END bootstrap=True, max_depth=50, max_features=log2, min_samples_leaf=2, min_samples_split=6, n_estimators=200; total time=   0.9s\n",
      "[CV] END bootstrap=True, max_depth=50, max_features=log2, min_samples_leaf=2, min_samples_split=8, n_estimators=200; total time=   0.9s\n",
      "[CV] END bootstrap=True, max_depth=50, max_features=log2, min_samples_leaf=3, min_samples_split=6, n_estimators=200; total time=   0.8s\n",
      "[CV] END bootstrap=True, max_depth=50, max_features=log2, min_samples_leaf=4, min_samples_split=4, n_estimators=50; total time=   0.2s\n",
      "[CV] END bootstrap=True, max_depth=50, max_features=log2, min_samples_leaf=4, min_samples_split=4, n_estimators=200; total time=   0.8s\n",
      "[CV] END bootstrap=True, max_depth=50, max_features=log2, min_samples_leaf=4, min_samples_split=8, n_estimators=50; total time=   0.3s\n",
      "[CV] END bootstrap=True, max_depth=50, max_features=log2, min_samples_leaf=4, min_samples_split=8, n_estimators=200; total time=   0.8s\n",
      "[CV] END bootstrap=True, max_depth=75, max_features=sqrt, min_samples_leaf=2, min_samples_split=4, n_estimators=200; total time=   0.8s\n",
      "[CV] END bootstrap=True, max_depth=75, max_features=sqrt, min_samples_leaf=2, min_samples_split=8, n_estimators=100; total time=   0.4s\n",
      "[CV] END bootstrap=True, max_depth=75, max_features=sqrt, min_samples_leaf=3, min_samples_split=4, n_estimators=50; total time=   0.2s\n",
      "[CV] END bootstrap=True, max_depth=75, max_features=sqrt, min_samples_leaf=3, min_samples_split=4, n_estimators=200; total time=   0.8s\n",
      "[CV] END bootstrap=True, max_depth=75, max_features=sqrt, min_samples_leaf=3, min_samples_split=8, n_estimators=50; total time=   0.2s\n",
      "[CV] END bootstrap=True, max_depth=75, max_features=sqrt, min_samples_leaf=3, min_samples_split=8, n_estimators=100; total time=   0.4s\n",
      "[CV] END bootstrap=True, max_depth=75, max_features=sqrt, min_samples_leaf=4, min_samples_split=4, n_estimators=100; total time=   0.4s\n",
      "[CV] END bootstrap=True, max_depth=75, max_features=sqrt, min_samples_leaf=4, min_samples_split=4, n_estimators=200; total time=   0.7s\n",
      "[CV] END bootstrap=True, max_depth=75, max_features=sqrt, min_samples_leaf=4, min_samples_split=8, n_estimators=100; total time=   0.4s\n",
      "[CV] END bootstrap=True, max_depth=75, max_features=log2, min_samples_leaf=2, min_samples_split=4, n_estimators=50; total time=   0.2s\n",
      "[CV] END bootstrap=True, max_depth=75, max_features=log2, min_samples_leaf=2, min_samples_split=4, n_estimators=200; total time=   0.9s\n",
      "[CV] END bootstrap=True, max_depth=75, max_features=log2, min_samples_leaf=2, min_samples_split=8, n_estimators=50; total time=   0.2s\n",
      "[CV] END bootstrap=True, max_depth=75, max_features=log2, min_samples_leaf=2, min_samples_split=8, n_estimators=200; total time=   0.8s\n",
      "[CV] END bootstrap=True, max_depth=75, max_features=log2, min_samples_leaf=3, min_samples_split=4, n_estimators=200; total time=   0.8s\n",
      "[CV] END bootstrap=True, max_depth=75, max_features=log2, min_samples_leaf=3, min_samples_split=8, n_estimators=100; total time=   0.4s\n",
      "[CV] END bootstrap=True, max_depth=75, max_features=log2, min_samples_leaf=4, min_samples_split=4, n_estimators=100; total time=   0.4s\n",
      "[CV] END bootstrap=True, max_depth=75, max_features=log2, min_samples_leaf=4, min_samples_split=6, n_estimators=50; total time=   0.2s\n",
      "[CV] END bootstrap=True, max_depth=75, max_features=log2, min_samples_leaf=4, min_samples_split=6, n_estimators=100; total time=   0.4s\n",
      "[CV] END bootstrap=True, max_depth=75, max_features=log2, min_samples_leaf=4, min_samples_split=8, n_estimators=100; total time=   0.4s\n",
      "[CV] END bootstrap=True, max_depth=75, max_features=log2, min_samples_leaf=4, min_samples_split=8, n_estimators=200; total time=   0.7s\n",
      "[CV] END bootstrap=True, max_depth=100, max_features=sqrt, min_samples_leaf=2, min_samples_split=6, n_estimators=100; total time=   0.4s\n",
      "[CV] END bootstrap=True, max_depth=100, max_features=sqrt, min_samples_leaf=2, min_samples_split=8, n_estimators=50; total time=   0.2s\n",
      "[CV] END bootstrap=True, max_depth=100, max_features=sqrt, min_samples_leaf=2, min_samples_split=8, n_estimators=100; total time=   0.4s\n",
      "[CV] END bootstrap=True, max_depth=100, max_features=sqrt, min_samples_leaf=3, min_samples_split=4, n_estimators=100; total time=   0.4s\n",
      "[CV] END bootstrap=True, max_depth=100, max_features=sqrt, min_samples_leaf=3, min_samples_split=6, n_estimators=50; total time=   0.2s\n",
      "[CV] END bootstrap=True, max_depth=100, max_features=sqrt, min_samples_leaf=3, min_samples_split=6, n_estimators=100; total time=   0.4s\n",
      "[CV] END bootstrap=True, max_depth=100, max_features=sqrt, min_samples_leaf=3, min_samples_split=8, n_estimators=100; total time=   0.4s\n",
      "[CV] END bootstrap=True, max_depth=100, max_features=sqrt, min_samples_leaf=3, min_samples_split=8, n_estimators=200; total time=   0.8s\n",
      "[CV] END bootstrap=True, max_depth=100, max_features=sqrt, min_samples_leaf=4, min_samples_split=6, n_estimators=100; total time=   0.4s\n",
      "[CV] END bootstrap=True, max_depth=100, max_features=sqrt, min_samples_leaf=4, min_samples_split=8, n_estimators=50; total time=   0.2s\n",
      "[CV] END bootstrap=True, max_depth=100, max_features=sqrt, min_samples_leaf=4, min_samples_split=8, n_estimators=200; total time=   0.8s\n",
      "[CV] END bootstrap=True, max_depth=100, max_features=log2, min_samples_leaf=2, min_samples_split=6, n_estimators=50; total time=   0.2s\n",
      "[CV] END bootstrap=True, max_depth=100, max_features=log2, min_samples_leaf=2, min_samples_split=6, n_estimators=200; total time=   0.8s\n",
      "[CV] END bootstrap=True, max_depth=100, max_features=log2, min_samples_leaf=3, min_samples_split=4, n_estimators=50; total time=   0.2s\n",
      "[CV] END bootstrap=True, max_depth=100, max_features=log2, min_samples_leaf=3, min_samples_split=4, n_estimators=100; total time=   0.4s\n",
      "[CV] END bootstrap=True, max_depth=100, max_features=log2, min_samples_leaf=3, min_samples_split=6, n_estimators=50; total time=   0.2s\n",
      "[CV] END bootstrap=True, max_depth=100, max_features=log2, min_samples_leaf=3, min_samples_split=6, n_estimators=200; total time=   0.8s\n",
      "[CV] END bootstrap=True, max_depth=100, max_features=log2, min_samples_leaf=4, min_samples_split=4, n_estimators=50; total time=   0.2s\n",
      "[CV] END bootstrap=True, max_depth=100, max_features=log2, min_samples_leaf=4, min_samples_split=4, n_estimators=100; total time=   0.4s\n",
      "[CV] END bootstrap=True, max_depth=100, max_features=log2, min_samples_leaf=4, min_samples_split=6, n_estimators=100; total time=   0.4s\n",
      "[CV] END bootstrap=True, max_depth=100, max_features=log2, min_samples_leaf=4, min_samples_split=8, n_estimators=50; total time=   0.2s\n",
      "[CV] END bootstrap=True, max_depth=100, max_features=log2, min_samples_leaf=4, min_samples_split=8, n_estimators=100; total time=   0.4s\n"
     ]
    },
    {
     "name": "stdout",
     "output_type": "stream",
     "text": [
      "[CV] END bootstrap=True, max_depth=50, max_features=sqrt, min_samples_leaf=2, min_samples_split=4, n_estimators=50; total time=   0.3s\n",
      "[CV] END bootstrap=True, max_depth=50, max_features=sqrt, min_samples_leaf=2, min_samples_split=6, n_estimators=50; total time=   0.3s\n",
      "[CV] END bootstrap=True, max_depth=50, max_features=sqrt, min_samples_leaf=2, min_samples_split=6, n_estimators=200; total time=   0.9s\n",
      "[CV] END bootstrap=True, max_depth=50, max_features=sqrt, min_samples_leaf=2, min_samples_split=8, n_estimators=200; total time=   0.9s\n",
      "[CV] END bootstrap=True, max_depth=50, max_features=sqrt, min_samples_leaf=3, min_samples_split=6, n_estimators=100; total time=   0.4s\n",
      "[CV] END bootstrap=True, max_depth=50, max_features=sqrt, min_samples_leaf=3, min_samples_split=8, n_estimators=50; total time=   0.2s\n",
      "[CV] END bootstrap=True, max_depth=50, max_features=sqrt, min_samples_leaf=3, min_samples_split=8, n_estimators=100; total time=   0.4s\n",
      "[CV] END bootstrap=True, max_depth=50, max_features=sqrt, min_samples_leaf=4, min_samples_split=4, n_estimators=100; total time=   0.5s\n",
      "[CV] END bootstrap=True, max_depth=50, max_features=sqrt, min_samples_leaf=4, min_samples_split=6, n_estimators=50; total time=   0.2s\n",
      "[CV] END bootstrap=True, max_depth=50, max_features=sqrt, min_samples_leaf=4, min_samples_split=6, n_estimators=100; total time=   0.4s\n",
      "[CV] END bootstrap=True, max_depth=50, max_features=sqrt, min_samples_leaf=4, min_samples_split=8, n_estimators=50; total time=   0.2s\n",
      "[CV] END bootstrap=True, max_depth=50, max_features=sqrt, min_samples_leaf=4, min_samples_split=8, n_estimators=200; total time=   0.9s\n",
      "[CV] END bootstrap=True, max_depth=50, max_features=log2, min_samples_leaf=2, min_samples_split=4, n_estimators=200; total time=   1.0s\n",
      "[CV] END bootstrap=True, max_depth=50, max_features=log2, min_samples_leaf=2, min_samples_split=8, n_estimators=200; total time=   0.8s\n",
      "[CV] END bootstrap=True, max_depth=50, max_features=log2, min_samples_leaf=3, min_samples_split=6, n_estimators=50; total time=   0.2s\n",
      "[CV] END bootstrap=True, max_depth=50, max_features=log2, min_samples_leaf=3, min_samples_split=6, n_estimators=100; total time=   0.5s\n",
      "[CV] END bootstrap=True, max_depth=50, max_features=log2, min_samples_leaf=3, min_samples_split=8, n_estimators=50; total time=   0.2s\n",
      "[CV] END bootstrap=True, max_depth=50, max_features=log2, min_samples_leaf=3, min_samples_split=8, n_estimators=200; total time=   0.8s\n",
      "[CV] END bootstrap=True, max_depth=50, max_features=log2, min_samples_leaf=4, min_samples_split=6, n_estimators=50; total time=   0.2s\n",
      "[CV] END bootstrap=True, max_depth=50, max_features=log2, min_samples_leaf=4, min_samples_split=6, n_estimators=100; total time=   0.4s\n",
      "[CV] END bootstrap=True, max_depth=50, max_features=log2, min_samples_leaf=4, min_samples_split=8, n_estimators=50; total time=   0.2s\n",
      "[CV] END bootstrap=True, max_depth=50, max_features=log2, min_samples_leaf=4, min_samples_split=8, n_estimators=200; total time=   0.7s\n",
      "[CV] END bootstrap=True, max_depth=75, max_features=sqrt, min_samples_leaf=2, min_samples_split=6, n_estimators=50; total time=   0.2s\n",
      "[CV] END bootstrap=True, max_depth=75, max_features=sqrt, min_samples_leaf=2, min_samples_split=6, n_estimators=100; total time=   0.4s\n",
      "[CV] END bootstrap=True, max_depth=75, max_features=sqrt, min_samples_leaf=2, min_samples_split=8, n_estimators=100; total time=   0.4s\n",
      "[CV] END bootstrap=True, max_depth=75, max_features=sqrt, min_samples_leaf=2, min_samples_split=8, n_estimators=200; total time=   0.8s\n",
      "[CV] END bootstrap=True, max_depth=75, max_features=sqrt, min_samples_leaf=3, min_samples_split=6, n_estimators=100; total time=   0.4s\n",
      "[CV] END bootstrap=True, max_depth=75, max_features=sqrt, min_samples_leaf=3, min_samples_split=8, n_estimators=50; total time=   0.2s\n",
      "[CV] END bootstrap=True, max_depth=75, max_features=sqrt, min_samples_leaf=3, min_samples_split=8, n_estimators=100; total time=   0.4s\n",
      "[CV] END bootstrap=True, max_depth=75, max_features=sqrt, min_samples_leaf=4, min_samples_split=4, n_estimators=50; total time=   0.2s\n",
      "[CV] END bootstrap=True, max_depth=75, max_features=sqrt, min_samples_leaf=4, min_samples_split=4, n_estimators=200; total time=   0.8s\n",
      "[CV] END bootstrap=True, max_depth=75, max_features=sqrt, min_samples_leaf=4, min_samples_split=8, n_estimators=50; total time=   0.2s\n",
      "[CV] END bootstrap=True, max_depth=75, max_features=sqrt, min_samples_leaf=4, min_samples_split=8, n_estimators=200; total time=   0.8s\n",
      "[CV] END bootstrap=True, max_depth=75, max_features=log2, min_samples_leaf=2, min_samples_split=4, n_estimators=200; total time=   0.8s\n",
      "[CV] END bootstrap=True, max_depth=75, max_features=log2, min_samples_leaf=2, min_samples_split=8, n_estimators=200; total time=   0.8s\n",
      "[CV] END bootstrap=True, max_depth=75, max_features=log2, min_samples_leaf=3, min_samples_split=6, n_estimators=50; total time=   0.2s\n",
      "[CV] END bootstrap=True, max_depth=75, max_features=log2, min_samples_leaf=3, min_samples_split=6, n_estimators=200; total time=   0.8s\n",
      "[CV] END bootstrap=True, max_depth=75, max_features=log2, min_samples_leaf=3, min_samples_split=8, n_estimators=200; total time=   0.8s\n",
      "[CV] END bootstrap=True, max_depth=75, max_features=log2, min_samples_leaf=4, min_samples_split=6, n_estimators=200; total time=   0.8s\n",
      "[CV] END bootstrap=True, max_depth=100, max_features=sqrt, min_samples_leaf=2, min_samples_split=4, n_estimators=50; total time=   0.2s\n",
      "[CV] END bootstrap=True, max_depth=100, max_features=sqrt, min_samples_leaf=2, min_samples_split=4, n_estimators=200; total time=   0.8s\n",
      "[CV] END bootstrap=True, max_depth=100, max_features=sqrt, min_samples_leaf=2, min_samples_split=6, n_estimators=200; total time=   0.8s\n",
      "[CV] END bootstrap=True, max_depth=100, max_features=sqrt, min_samples_leaf=3, min_samples_split=4, n_estimators=100; total time=   0.4s\n",
      "[CV] END bootstrap=True, max_depth=100, max_features=sqrt, min_samples_leaf=3, min_samples_split=6, n_estimators=100; total time=   0.4s\n",
      "[CV] END bootstrap=True, max_depth=100, max_features=sqrt, min_samples_leaf=3, min_samples_split=6, n_estimators=200; total time=   0.8s\n",
      "[CV] END bootstrap=True, max_depth=100, max_features=sqrt, min_samples_leaf=4, min_samples_split=4, n_estimators=100; total time=   0.4s\n",
      "[CV] END bootstrap=True, max_depth=100, max_features=sqrt, min_samples_leaf=4, min_samples_split=6, n_estimators=100; total time=   0.4s\n",
      "[CV] END bootstrap=True, max_depth=100, max_features=sqrt, min_samples_leaf=4, min_samples_split=6, n_estimators=200; total time=   0.7s\n",
      "[CV] END bootstrap=True, max_depth=100, max_features=log2, min_samples_leaf=2, min_samples_split=4, n_estimators=100; total time=   0.4s\n",
      "[CV] END bootstrap=True, max_depth=100, max_features=log2, min_samples_leaf=2, min_samples_split=6, n_estimators=50; total time=   0.2s\n",
      "[CV] END bootstrap=True, max_depth=100, max_features=log2, min_samples_leaf=2, min_samples_split=6, n_estimators=200; total time=   0.8s\n",
      "[CV] END bootstrap=True, max_depth=100, max_features=log2, min_samples_leaf=3, min_samples_split=4, n_estimators=50; total time=   0.2s\n",
      "[CV] END bootstrap=True, max_depth=100, max_features=log2, min_samples_leaf=3, min_samples_split=4, n_estimators=200; total time=   0.8s\n",
      "[CV] END bootstrap=True, max_depth=100, max_features=log2, min_samples_leaf=3, min_samples_split=8, n_estimators=50; total time=   0.2s\n",
      "[CV] END bootstrap=True, max_depth=100, max_features=log2, min_samples_leaf=3, min_samples_split=8, n_estimators=100; total time=   0.4s\n",
      "[CV] END bootstrap=True, max_depth=100, max_features=log2, min_samples_leaf=4, min_samples_split=4, n_estimators=100; total time=   0.4s\n",
      "[CV] END bootstrap=True, max_depth=100, max_features=log2, min_samples_leaf=4, min_samples_split=4, n_estimators=200; total time=   0.8s\n",
      "[CV] END bootstrap=True, max_depth=100, max_features=log2, min_samples_leaf=4, min_samples_split=8, n_estimators=100; total time=   0.4s\n",
      "[CV] END bootstrap=True, max_depth=50, max_features=sqrt, min_samples_leaf=2, min_samples_split=4, n_estimators=50; total time=   0.3s\n",
      "[CV] END bootstrap=True, max_depth=50, max_features=sqrt, min_samples_leaf=2, min_samples_split=6, n_estimators=50; total time=   0.2s\n",
      "[CV] END bootstrap=True, max_depth=50, max_features=sqrt, min_samples_leaf=2, min_samples_split=6, n_estimators=100; total time=   0.5s\n",
      "[CV] END bootstrap=True, max_depth=50, max_features=sqrt, min_samples_leaf=2, min_samples_split=8, n_estimators=50; total time=   0.2s\n",
      "[CV] END bootstrap=True, max_depth=50, max_features=sqrt, min_samples_leaf=2, min_samples_split=8, n_estimators=100; total time=   0.4s\n",
      "[CV] END bootstrap=True, max_depth=50, max_features=sqrt, min_samples_leaf=3, min_samples_split=4, n_estimators=50; total time=   0.2s\n",
      "[CV] END bootstrap=True, max_depth=50, max_features=sqrt, min_samples_leaf=3, min_samples_split=4, n_estimators=100; total time=   0.5s\n",
      "[CV] END bootstrap=True, max_depth=50, max_features=sqrt, min_samples_leaf=3, min_samples_split=6, n_estimators=100; total time=   0.4s\n",
      "[CV] END bootstrap=True, max_depth=50, max_features=sqrt, min_samples_leaf=3, min_samples_split=6, n_estimators=200; total time=   0.9s\n",
      "[CV] END bootstrap=True, max_depth=50, max_features=sqrt, min_samples_leaf=4, min_samples_split=4, n_estimators=200; total time=   0.9s\n",
      "[CV] END bootstrap=True, max_depth=50, max_features=sqrt, min_samples_leaf=4, min_samples_split=6, n_estimators=200; total time=   0.9s\n",
      "[CV] END bootstrap=True, max_depth=50, max_features=log2, min_samples_leaf=2, min_samples_split=4, n_estimators=200; total time=   1.0s\n",
      "[CV] END bootstrap=True, max_depth=50, max_features=log2, min_samples_leaf=2, min_samples_split=8, n_estimators=50; total time=   0.2s\n",
      "[CV] END bootstrap=True, max_depth=50, max_features=log2, min_samples_leaf=2, min_samples_split=8, n_estimators=100; total time=   0.4s\n",
      "[CV] END bootstrap=True, max_depth=50, max_features=log2, min_samples_leaf=3, min_samples_split=4, n_estimators=100; total time=   0.4s\n",
      "[CV] END bootstrap=True, max_depth=50, max_features=log2, min_samples_leaf=3, min_samples_split=4, n_estimators=200; total time=   0.9s\n",
      "[CV] END bootstrap=True, max_depth=50, max_features=log2, min_samples_leaf=3, min_samples_split=8, n_estimators=200; total time=   0.8s\n",
      "[CV] END bootstrap=True, max_depth=50, max_features=log2, min_samples_leaf=4, min_samples_split=6, n_estimators=50; total time=   0.2s\n",
      "[CV] END bootstrap=True, max_depth=50, max_features=log2, min_samples_leaf=4, min_samples_split=6, n_estimators=100; total time=   0.4s\n",
      "[CV] END bootstrap=True, max_depth=50, max_features=log2, min_samples_leaf=4, min_samples_split=8, n_estimators=100; total time=   0.4s\n",
      "[CV] END bootstrap=True, max_depth=50, max_features=log2, min_samples_leaf=4, min_samples_split=8, n_estimators=200; total time=   0.8s\n",
      "[CV] END bootstrap=True, max_depth=75, max_features=sqrt, min_samples_leaf=2, min_samples_split=6, n_estimators=100; total time=   0.4s\n",
      "[CV] END bootstrap=True, max_depth=75, max_features=sqrt, min_samples_leaf=2, min_samples_split=8, n_estimators=50; total time=   0.2s\n",
      "[CV] END bootstrap=True, max_depth=75, max_features=sqrt, min_samples_leaf=2, min_samples_split=8, n_estimators=200; total time=   0.8s\n",
      "[CV] END bootstrap=True, max_depth=75, max_features=sqrt, min_samples_leaf=3, min_samples_split=6, n_estimators=50; total time=   0.2s\n",
      "[CV] END bootstrap=True, max_depth=75, max_features=sqrt, min_samples_leaf=3, min_samples_split=6, n_estimators=100; total time=   0.4s\n",
      "[CV] END bootstrap=True, max_depth=75, max_features=sqrt, min_samples_leaf=3, min_samples_split=8, n_estimators=50; total time=   0.2s\n",
      "[CV] END bootstrap=True, max_depth=75, max_features=sqrt, min_samples_leaf=3, min_samples_split=8, n_estimators=200; total time=   0.8s\n",
      "[CV] END bootstrap=True, max_depth=75, max_features=sqrt, min_samples_leaf=4, min_samples_split=6, n_estimators=50; total time=   0.2s\n",
      "[CV] END bootstrap=True, max_depth=75, max_features=sqrt, min_samples_leaf=4, min_samples_split=6, n_estimators=200; total time=   0.8s\n",
      "[CV] END bootstrap=True, max_depth=75, max_features=log2, min_samples_leaf=2, min_samples_split=4, n_estimators=50; total time=   0.2s\n",
      "[CV] END bootstrap=True, max_depth=75, max_features=log2, min_samples_leaf=2, min_samples_split=4, n_estimators=200; total time=   0.9s\n",
      "[CV] END bootstrap=True, max_depth=75, max_features=log2, min_samples_leaf=2, min_samples_split=8, n_estimators=50; total time=   0.2s\n",
      "[CV] END bootstrap=True, max_depth=75, max_features=log2, min_samples_leaf=2, min_samples_split=8, n_estimators=100; total time=   0.4s\n",
      "[CV] END bootstrap=True, max_depth=75, max_features=log2, min_samples_leaf=3, min_samples_split=4, n_estimators=50; total time=   0.2s\n",
      "[CV] END bootstrap=True, max_depth=75, max_features=log2, min_samples_leaf=3, min_samples_split=4, n_estimators=200; total time=   0.8s\n",
      "[CV] END bootstrap=True, max_depth=75, max_features=log2, min_samples_leaf=3, min_samples_split=8, n_estimators=50; total time=   0.2s\n",
      "[CV] END bootstrap=True, max_depth=75, max_features=log2, min_samples_leaf=3, min_samples_split=8, n_estimators=200; total time=   0.8s\n",
      "[CV] END bootstrap=True, max_depth=75, max_features=log2, min_samples_leaf=4, min_samples_split=4, n_estimators=200; total time=   0.8s\n",
      "[CV] END bootstrap=True, max_depth=75, max_features=log2, min_samples_leaf=4, min_samples_split=8, n_estimators=200; total time=   0.7s\n",
      "[CV] END bootstrap=True, max_depth=100, max_features=sqrt, min_samples_leaf=2, min_samples_split=4, n_estimators=200; total time=   0.9s\n",
      "[CV] END bootstrap=True, max_depth=100, max_features=sqrt, min_samples_leaf=2, min_samples_split=8, n_estimators=200; total time=   0.8s\n",
      "[CV] END bootstrap=True, max_depth=100, max_features=sqrt, min_samples_leaf=3, min_samples_split=4, n_estimators=200; total time=   0.8s\n",
      "[CV] END bootstrap=True, max_depth=100, max_features=sqrt, min_samples_leaf=3, min_samples_split=8, n_estimators=100; total time=   0.4s\n",
      "[CV] END bootstrap=True, max_depth=100, max_features=sqrt, min_samples_leaf=4, min_samples_split=4, n_estimators=50; total time=   0.2s\n",
      "[CV] END bootstrap=True, max_depth=100, max_features=sqrt, min_samples_leaf=4, min_samples_split=4, n_estimators=200; total time=   0.8s\n",
      "[CV] END bootstrap=True, max_depth=100, max_features=sqrt, min_samples_leaf=4, min_samples_split=8, n_estimators=50; total time=   0.2s\n",
      "[CV] END bootstrap=True, max_depth=100, max_features=sqrt, min_samples_leaf=4, min_samples_split=8, n_estimators=100; total time=   0.4s\n",
      "[CV] END bootstrap=True, max_depth=100, max_features=log2, min_samples_leaf=2, min_samples_split=4, n_estimators=50; total time=   0.2s\n",
      "[CV] END bootstrap=True, max_depth=100, max_features=log2, min_samples_leaf=2, min_samples_split=4, n_estimators=200; total time=   0.8s\n",
      "[CV] END bootstrap=True, max_depth=100, max_features=log2, min_samples_leaf=2, min_samples_split=8, n_estimators=100; total time=   0.4s\n",
      "[CV] END bootstrap=True, max_depth=100, max_features=log2, min_samples_leaf=2, min_samples_split=8, n_estimators=200; total time=   0.7s\n",
      "[CV] END bootstrap=True, max_depth=100, max_features=log2, min_samples_leaf=3, min_samples_split=6, n_estimators=100; total time=   0.4s\n",
      "[CV] END bootstrap=True, max_depth=100, max_features=log2, min_samples_leaf=3, min_samples_split=6, n_estimators=200; total time=   0.8s\n",
      "[CV] END bootstrap=True, max_depth=100, max_features=log2, min_samples_leaf=4, min_samples_split=4, n_estimators=200; total time=   0.7s\n",
      "[CV] END bootstrap=True, max_depth=100, max_features=log2, min_samples_leaf=4, min_samples_split=6, n_estimators=200; total time=   0.7s\n",
      "[CV] END bootstrap=True, max_depth=50, max_features=sqrt, min_samples_leaf=2, min_samples_split=4, n_estimators=50; total time=   0.3s\n",
      "[CV] END bootstrap=True, max_depth=50, max_features=sqrt, min_samples_leaf=2, min_samples_split=4, n_estimators=200; total time=   0.9s\n",
      "[CV] END bootstrap=True, max_depth=50, max_features=sqrt, min_samples_leaf=2, min_samples_split=8, n_estimators=100; total time=   0.5s\n",
      "[CV] END bootstrap=True, max_depth=50, max_features=sqrt, min_samples_leaf=3, min_samples_split=4, n_estimators=100; total time=   0.5s\n",
      "[CV] END bootstrap=True, max_depth=50, max_features=sqrt, min_samples_leaf=3, min_samples_split=4, n_estimators=200; total time=   0.9s\n",
      "[CV] END bootstrap=True, max_depth=50, max_features=sqrt, min_samples_leaf=3, min_samples_split=8, n_estimators=200; total time=   0.9s\n",
      "[CV] END bootstrap=True, max_depth=50, max_features=sqrt, min_samples_leaf=4, min_samples_split=6, n_estimators=50; total time=   0.3s\n",
      "[CV] END bootstrap=True, max_depth=50, max_features=sqrt, min_samples_leaf=4, min_samples_split=6, n_estimators=200; total time=   0.8s\n",
      "[CV] END bootstrap=True, max_depth=50, max_features=log2, min_samples_leaf=2, min_samples_split=4, n_estimators=50; total time=   0.3s\n",
      "[CV] END bootstrap=True, max_depth=50, max_features=log2, min_samples_leaf=2, min_samples_split=4, n_estimators=100; total time=   0.5s\n",
      "[CV] END bootstrap=True, max_depth=50, max_features=log2, min_samples_leaf=2, min_samples_split=6, n_estimators=50; total time=   0.2s\n",
      "[CV] END bootstrap=True, max_depth=50, max_features=log2, min_samples_leaf=2, min_samples_split=6, n_estimators=200; total time=   0.9s\n",
      "[CV] END bootstrap=True, max_depth=50, max_features=log2, min_samples_leaf=3, min_samples_split=4, n_estimators=50; total time=   0.2s\n",
      "[CV] END bootstrap=True, max_depth=50, max_features=log2, min_samples_leaf=3, min_samples_split=4, n_estimators=200; total time=   0.9s\n",
      "[CV] END bootstrap=True, max_depth=50, max_features=log2, min_samples_leaf=3, min_samples_split=8, n_estimators=50; total time=   0.2s\n",
      "[CV] END bootstrap=True, max_depth=50, max_features=log2, min_samples_leaf=3, min_samples_split=8, n_estimators=100; total time=   0.4s\n",
      "[CV] END bootstrap=True, max_depth=50, max_features=log2, min_samples_leaf=4, min_samples_split=4, n_estimators=100; total time=   0.4s\n",
      "[CV] END bootstrap=True, max_depth=50, max_features=log2, min_samples_leaf=4, min_samples_split=4, n_estimators=200; total time=   0.8s\n",
      "[CV] END bootstrap=True, max_depth=50, max_features=log2, min_samples_leaf=4, min_samples_split=8, n_estimators=100; total time=   0.4s\n",
      "[CV] END bootstrap=True, max_depth=75, max_features=sqrt, min_samples_leaf=2, min_samples_split=4, n_estimators=50; total time=   0.2s\n",
      "[CV] END bootstrap=True, max_depth=75, max_features=sqrt, min_samples_leaf=2, min_samples_split=4, n_estimators=100; total time=   0.4s\n",
      "[CV] END bootstrap=True, max_depth=75, max_features=sqrt, min_samples_leaf=2, min_samples_split=6, n_estimators=50; total time=   0.2s\n",
      "[CV] END bootstrap=True, max_depth=75, max_features=sqrt, min_samples_leaf=2, min_samples_split=6, n_estimators=200; total time=   0.9s\n",
      "[CV] END bootstrap=True, max_depth=75, max_features=sqrt, min_samples_leaf=3, min_samples_split=4, n_estimators=100; total time=   0.4s\n",
      "[CV] END bootstrap=True, max_depth=75, max_features=sqrt, min_samples_leaf=3, min_samples_split=4, n_estimators=200; total time=   0.8s\n",
      "[CV] END bootstrap=True, max_depth=75, max_features=sqrt, min_samples_leaf=3, min_samples_split=8, n_estimators=200; total time=   0.8s\n",
      "[CV] END bootstrap=True, max_depth=75, max_features=sqrt, min_samples_leaf=4, min_samples_split=6, n_estimators=50; total time=   0.2s\n",
      "[CV] END bootstrap=True, max_depth=75, max_features=sqrt, min_samples_leaf=4, min_samples_split=6, n_estimators=100; total time=   0.4s\n",
      "[CV] END bootstrap=True, max_depth=75, max_features=sqrt, min_samples_leaf=4, min_samples_split=8, n_estimators=50; total time=   0.2s\n",
      "[CV] END bootstrap=True, max_depth=75, max_features=sqrt, min_samples_leaf=4, min_samples_split=8, n_estimators=200; total time=   0.8s\n",
      "[CV] END bootstrap=True, max_depth=75, max_features=log2, min_samples_leaf=2, min_samples_split=6, n_estimators=50; total time=   0.2s\n",
      "[CV] END bootstrap=True, max_depth=75, max_features=log2, min_samples_leaf=2, min_samples_split=6, n_estimators=200; total time=   0.8s\n",
      "[CV] END bootstrap=True, max_depth=75, max_features=log2, min_samples_leaf=2, min_samples_split=8, n_estimators=200; total time=   0.8s\n",
      "[CV] END bootstrap=True, max_depth=75, max_features=log2, min_samples_leaf=3, min_samples_split=6, n_estimators=100; total time=   0.4s\n",
      "[CV] END bootstrap=True, max_depth=75, max_features=log2, min_samples_leaf=3, min_samples_split=8, n_estimators=50; total time=   0.2s\n",
      "[CV] END bootstrap=True, max_depth=75, max_features=log2, min_samples_leaf=3, min_samples_split=8, n_estimators=200; total time=   0.8s\n",
      "[CV] END bootstrap=True, max_depth=75, max_features=log2, min_samples_leaf=4, min_samples_split=6, n_estimators=50; total time=   0.2s\n",
      "[CV] END bootstrap=True, max_depth=75, max_features=log2, min_samples_leaf=4, min_samples_split=6, n_estimators=100; total time=   0.4s\n",
      "[CV] END bootstrap=True, max_depth=75, max_features=log2, min_samples_leaf=4, min_samples_split=8, n_estimators=50; total time=   0.2s\n",
      "[CV] END bootstrap=True, max_depth=75, max_features=log2, min_samples_leaf=4, min_samples_split=8, n_estimators=200; total time=   0.7s\n",
      "[CV] END bootstrap=True, max_depth=100, max_features=sqrt, min_samples_leaf=2, min_samples_split=6, n_estimators=50; total time=   0.2s\n",
      "[CV] END bootstrap=True, max_depth=100, max_features=sqrt, min_samples_leaf=2, min_samples_split=6, n_estimators=100; total time=   0.4s\n",
      "[CV] END bootstrap=True, max_depth=100, max_features=sqrt, min_samples_leaf=2, min_samples_split=8, n_estimators=50; total time=   0.2s\n",
      "[CV] END bootstrap=True, max_depth=100, max_features=sqrt, min_samples_leaf=2, min_samples_split=8, n_estimators=200; total time=   0.8s\n",
      "[CV] END bootstrap=True, max_depth=100, max_features=sqrt, min_samples_leaf=3, min_samples_split=6, n_estimators=50; total time=   0.2s\n",
      "[CV] END bootstrap=True, max_depth=100, max_features=sqrt, min_samples_leaf=3, min_samples_split=6, n_estimators=200; total time=   0.8s\n",
      "[CV] END bootstrap=True, max_depth=100, max_features=sqrt, min_samples_leaf=4, min_samples_split=4, n_estimators=50; total time=   0.2s\n",
      "[CV] END bootstrap=True, max_depth=100, max_features=sqrt, min_samples_leaf=4, min_samples_split=4, n_estimators=100; total time=   0.4s\n",
      "[CV] END bootstrap=True, max_depth=100, max_features=sqrt, min_samples_leaf=4, min_samples_split=6, n_estimators=50; total time=   0.2s\n",
      "[CV] END bootstrap=True, max_depth=100, max_features=sqrt, min_samples_leaf=4, min_samples_split=6, n_estimators=200; total time=   0.8s\n",
      "[CV] END bootstrap=True, max_depth=100, max_features=log2, min_samples_leaf=2, min_samples_split=4, n_estimators=50; total time=   0.2s\n",
      "[CV] END bootstrap=True, max_depth=100, max_features=log2, min_samples_leaf=2, min_samples_split=4, n_estimators=200; total time=   0.8s\n",
      "[CV] END bootstrap=True, max_depth=100, max_features=log2, min_samples_leaf=2, min_samples_split=8, n_estimators=50; total time=   0.2s\n",
      "[CV] END bootstrap=True, max_depth=100, max_features=log2, min_samples_leaf=2, min_samples_split=8, n_estimators=200; total time=   0.7s\n",
      "[CV] END bootstrap=True, max_depth=100, max_features=log2, min_samples_leaf=3, min_samples_split=4, n_estimators=200; total time=   0.8s\n",
      "[CV] END bootstrap=True, max_depth=100, max_features=log2, min_samples_leaf=3, min_samples_split=8, n_estimators=100; total time=   0.4s\n",
      "[CV] END bootstrap=True, max_depth=100, max_features=log2, min_samples_leaf=4, min_samples_split=4, n_estimators=50; total time=   0.2s\n",
      "[CV] END bootstrap=True, max_depth=100, max_features=log2, min_samples_leaf=4, min_samples_split=4, n_estimators=200; total time=   0.8s\n",
      "[CV] END bootstrap=True, max_depth=100, max_features=log2, min_samples_leaf=4, min_samples_split=8, n_estimators=50; total time=   0.2s\n",
      "[CV] END bootstrap=True, max_depth=100, max_features=log2, min_samples_leaf=4, min_samples_split=8, n_estimators=200; total time=   0.6s\n"
     ]
    },
    {
     "name": "stdout",
     "output_type": "stream",
     "text": [
      "[CV] END bootstrap=True, max_depth=50, max_features=sqrt, min_samples_leaf=2, min_samples_split=4, n_estimators=200; total time=   1.0s\n",
      "[CV] END bootstrap=True, max_depth=50, max_features=sqrt, min_samples_leaf=2, min_samples_split=8, n_estimators=50; total time=   0.2s\n",
      "[CV] END bootstrap=True, max_depth=50, max_features=sqrt, min_samples_leaf=2, min_samples_split=8, n_estimators=200; total time=   1.0s\n",
      "[CV] END bootstrap=True, max_depth=50, max_features=sqrt, min_samples_leaf=3, min_samples_split=6, n_estimators=50; total time=   0.2s\n",
      "[CV] END bootstrap=True, max_depth=50, max_features=sqrt, min_samples_leaf=3, min_samples_split=6, n_estimators=200; total time=   0.9s\n",
      "[CV] END bootstrap=True, max_depth=50, max_features=sqrt, min_samples_leaf=4, min_samples_split=4, n_estimators=50; total time=   0.2s\n",
      "[CV] END bootstrap=True, max_depth=50, max_features=sqrt, min_samples_leaf=4, min_samples_split=4, n_estimators=100; total time=   0.6s\n",
      "[CV] END bootstrap=True, max_depth=50, max_features=sqrt, min_samples_leaf=4, min_samples_split=6, n_estimators=100; total time=   0.4s\n",
      "[CV] END bootstrap=True, max_depth=50, max_features=sqrt, min_samples_leaf=4, min_samples_split=8, n_estimators=50; total time=   0.2s\n",
      "[CV] END bootstrap=True, max_depth=50, max_features=sqrt, min_samples_leaf=4, min_samples_split=8, n_estimators=100; total time=   0.4s\n",
      "[CV] END bootstrap=True, max_depth=50, max_features=log2, min_samples_leaf=2, min_samples_split=4, n_estimators=50; total time=   0.3s\n",
      "[CV] END bootstrap=True, max_depth=50, max_features=log2, min_samples_leaf=2, min_samples_split=4, n_estimators=200; total time=   1.0s\n",
      "[CV] END bootstrap=True, max_depth=50, max_features=log2, min_samples_leaf=2, min_samples_split=8, n_estimators=100; total time=   0.5s\n",
      "[CV] END bootstrap=True, max_depth=50, max_features=log2, min_samples_leaf=3, min_samples_split=4, n_estimators=50; total time=   0.2s\n",
      "[CV] END bootstrap=True, max_depth=50, max_features=log2, min_samples_leaf=3, min_samples_split=4, n_estimators=100; total time=   0.4s\n",
      "[CV] END bootstrap=True, max_depth=50, max_features=log2, min_samples_leaf=3, min_samples_split=6, n_estimators=50; total time=   0.2s\n",
      "[CV] END bootstrap=True, max_depth=50, max_features=log2, min_samples_leaf=3, min_samples_split=6, n_estimators=200; total time=   0.8s\n",
      "[CV] END bootstrap=True, max_depth=50, max_features=log2, min_samples_leaf=4, min_samples_split=4, n_estimators=50; total time=   0.2s\n",
      "[CV] END bootstrap=True, max_depth=50, max_features=log2, min_samples_leaf=4, min_samples_split=4, n_estimators=100; total time=   0.4s\n",
      "[CV] END bootstrap=True, max_depth=50, max_features=log2, min_samples_leaf=4, min_samples_split=6, n_estimators=50; total time=   0.2s\n",
      "[CV] END bootstrap=True, max_depth=50, max_features=log2, min_samples_leaf=4, min_samples_split=6, n_estimators=200; total time=   0.8s\n",
      "[CV] END bootstrap=True, max_depth=75, max_features=sqrt, min_samples_leaf=2, min_samples_split=4, n_estimators=50; total time=   0.2s\n",
      "[CV] END bootstrap=True, max_depth=75, max_features=sqrt, min_samples_leaf=2, min_samples_split=4, n_estimators=200; total time=   0.8s\n",
      "[CV] END bootstrap=True, max_depth=75, max_features=sqrt, min_samples_leaf=2, min_samples_split=8, n_estimators=50; total time=   0.2s\n",
      "[CV] END bootstrap=True, max_depth=75, max_features=sqrt, min_samples_leaf=2, min_samples_split=8, n_estimators=100; total time=   0.4s\n",
      "[CV] END bootstrap=True, max_depth=75, max_features=sqrt, min_samples_leaf=3, min_samples_split=4, n_estimators=50; total time=   0.2s\n",
      "[CV] END bootstrap=True, max_depth=75, max_features=sqrt, min_samples_leaf=3, min_samples_split=4, n_estimators=200; total time=   0.8s\n",
      "[CV] END bootstrap=True, max_depth=75, max_features=sqrt, min_samples_leaf=3, min_samples_split=8, n_estimators=100; total time=   0.4s\n",
      "[CV] END bootstrap=True, max_depth=75, max_features=sqrt, min_samples_leaf=3, min_samples_split=8, n_estimators=200; total time=   0.8s\n",
      "[CV] END bootstrap=True, max_depth=75, max_features=sqrt, min_samples_leaf=4, min_samples_split=6, n_estimators=100; total time=   0.4s\n",
      "[CV] END bootstrap=True, max_depth=75, max_features=sqrt, min_samples_leaf=4, min_samples_split=8, n_estimators=100; total time=   0.4s\n",
      "[CV] END bootstrap=True, max_depth=75, max_features=log2, min_samples_leaf=2, min_samples_split=4, n_estimators=50; total time=   0.2s\n",
      "[CV] END bootstrap=True, max_depth=75, max_features=log2, min_samples_leaf=2, min_samples_split=4, n_estimators=100; total time=   0.4s\n",
      "[CV] END bootstrap=True, max_depth=75, max_features=log2, min_samples_leaf=2, min_samples_split=6, n_estimators=100; total time=   0.4s\n",
      "[CV] END bootstrap=True, max_depth=75, max_features=log2, min_samples_leaf=2, min_samples_split=6, n_estimators=200; total time=   0.8s\n",
      "[CV] END bootstrap=True, max_depth=75, max_features=log2, min_samples_leaf=3, min_samples_split=4, n_estimators=100; total time=   0.4s\n",
      "[CV] END bootstrap=True, max_depth=75, max_features=log2, min_samples_leaf=3, min_samples_split=6, n_estimators=100; total time=   0.4s\n",
      "[CV] END bootstrap=True, max_depth=75, max_features=log2, min_samples_leaf=3, min_samples_split=6, n_estimators=200; total time=   0.8s\n",
      "[CV] END bootstrap=True, max_depth=75, max_features=log2, min_samples_leaf=4, min_samples_split=4, n_estimators=100; total time=   0.4s\n",
      "[CV] END bootstrap=True, max_depth=75, max_features=log2, min_samples_leaf=4, min_samples_split=6, n_estimators=100; total time=   0.4s\n",
      "[CV] END bootstrap=True, max_depth=75, max_features=log2, min_samples_leaf=4, min_samples_split=6, n_estimators=200; total time=   0.8s\n",
      "[CV] END bootstrap=True, max_depth=100, max_features=sqrt, min_samples_leaf=2, min_samples_split=4, n_estimators=100; total time=   0.4s\n",
      "[CV] END bootstrap=True, max_depth=100, max_features=sqrt, min_samples_leaf=2, min_samples_split=6, n_estimators=50; total time=   0.2s\n",
      "[CV] END bootstrap=True, max_depth=100, max_features=sqrt, min_samples_leaf=2, min_samples_split=6, n_estimators=200; total time=   0.9s\n",
      "[CV] END bootstrap=True, max_depth=100, max_features=sqrt, min_samples_leaf=3, min_samples_split=4, n_estimators=50; total time=   0.2s\n",
      "[CV] END bootstrap=True, max_depth=100, max_features=sqrt, min_samples_leaf=3, min_samples_split=4, n_estimators=200; total time=   0.9s\n",
      "[CV] END bootstrap=True, max_depth=100, max_features=sqrt, min_samples_leaf=3, min_samples_split=8, n_estimators=50; total time=   0.2s\n",
      "[CV] END bootstrap=True, max_depth=100, max_features=sqrt, min_samples_leaf=3, min_samples_split=8, n_estimators=100; total time=   0.4s\n",
      "[CV] END bootstrap=True, max_depth=100, max_features=sqrt, min_samples_leaf=4, min_samples_split=4, n_estimators=100; total time=   0.4s\n",
      "[CV] END bootstrap=True, max_depth=100, max_features=sqrt, min_samples_leaf=4, min_samples_split=6, n_estimators=50; total time=   0.2s\n",
      "[CV] END bootstrap=True, max_depth=100, max_features=sqrt, min_samples_leaf=4, min_samples_split=6, n_estimators=100; total time=   0.4s\n",
      "[CV] END bootstrap=True, max_depth=100, max_features=sqrt, min_samples_leaf=4, min_samples_split=8, n_estimators=100; total time=   0.4s\n",
      "[CV] END bootstrap=True, max_depth=100, max_features=sqrt, min_samples_leaf=4, min_samples_split=8, n_estimators=200; total time=   0.7s\n",
      "[CV] END bootstrap=True, max_depth=100, max_features=log2, min_samples_leaf=2, min_samples_split=6, n_estimators=100; total time=   0.4s\n",
      "[CV] END bootstrap=True, max_depth=100, max_features=log2, min_samples_leaf=2, min_samples_split=8, n_estimators=50; total time=   0.2s\n",
      "[CV] END bootstrap=True, max_depth=100, max_features=log2, min_samples_leaf=2, min_samples_split=8, n_estimators=100; total time=   0.4s\n",
      "[CV] END bootstrap=True, max_depth=100, max_features=log2, min_samples_leaf=3, min_samples_split=4, n_estimators=50; total time=   0.2s\n",
      "[CV] END bootstrap=True, max_depth=100, max_features=log2, min_samples_leaf=3, min_samples_split=4, n_estimators=200; total time=   0.8s\n",
      "[CV] END bootstrap=True, max_depth=100, max_features=log2, min_samples_leaf=3, min_samples_split=8, n_estimators=50; total time=   0.2s\n",
      "[CV] END bootstrap=True, max_depth=100, max_features=log2, min_samples_leaf=3, min_samples_split=8, n_estimators=200; total time=   0.8s\n",
      "[CV] END bootstrap=True, max_depth=100, max_features=log2, min_samples_leaf=4, min_samples_split=6, n_estimators=50; total time=   0.2s\n",
      "[CV] END bootstrap=True, max_depth=100, max_features=log2, min_samples_leaf=4, min_samples_split=6, n_estimators=100; total time=   0.4s\n",
      "[CV] END bootstrap=True, max_depth=100, max_features=log2, min_samples_leaf=4, min_samples_split=8, n_estimators=50; total time=   0.2s\n",
      "[CV] END bootstrap=True, max_depth=100, max_features=log2, min_samples_leaf=4, min_samples_split=8, n_estimators=200; total time=   0.6s\n",
      "[CV] END bootstrap=True, max_depth=50, max_features=sqrt, min_samples_leaf=2, min_samples_split=4, n_estimators=100; total time=   0.5s\n",
      "[CV] END bootstrap=True, max_depth=50, max_features=sqrt, min_samples_leaf=2, min_samples_split=6, n_estimators=100; total time=   0.5s\n",
      "[CV] END bootstrap=True, max_depth=50, max_features=sqrt, min_samples_leaf=2, min_samples_split=8, n_estimators=50; total time=   0.3s\n",
      "[CV] END bootstrap=True, max_depth=50, max_features=sqrt, min_samples_leaf=2, min_samples_split=8, n_estimators=200; total time=   0.9s\n",
      "[CV] END bootstrap=True, max_depth=50, max_features=sqrt, min_samples_leaf=3, min_samples_split=6, n_estimators=50; total time=   0.2s\n",
      "[CV] END bootstrap=True, max_depth=50, max_features=sqrt, min_samples_leaf=3, min_samples_split=6, n_estimators=100; total time=   0.4s\n",
      "[CV] END bootstrap=True, max_depth=50, max_features=sqrt, min_samples_leaf=3, min_samples_split=8, n_estimators=100; total time=   0.4s\n",
      "[CV] END bootstrap=True, max_depth=50, max_features=sqrt, min_samples_leaf=3, min_samples_split=8, n_estimators=200; total time=   1.0s\n",
      "[CV] END bootstrap=True, max_depth=50, max_features=sqrt, min_samples_leaf=4, min_samples_split=6, n_estimators=200; total time=   0.8s\n",
      "[CV] END bootstrap=True, max_depth=50, max_features=sqrt, min_samples_leaf=4, min_samples_split=8, n_estimators=200; total time=   0.9s\n",
      "[CV] END bootstrap=True, max_depth=50, max_features=log2, min_samples_leaf=2, min_samples_split=6, n_estimators=100; total time=   0.4s\n",
      "[CV] END bootstrap=True, max_depth=50, max_features=log2, min_samples_leaf=2, min_samples_split=6, n_estimators=200; total time=   0.9s\n",
      "[CV] END bootstrap=True, max_depth=50, max_features=log2, min_samples_leaf=3, min_samples_split=4, n_estimators=100; total time=   0.4s\n",
      "[CV] END bootstrap=True, max_depth=50, max_features=log2, min_samples_leaf=3, min_samples_split=6, n_estimators=100; total time=   0.4s\n",
      "[CV] END bootstrap=True, max_depth=50, max_features=log2, min_samples_leaf=3, min_samples_split=6, n_estimators=200; total time=   0.8s\n",
      "[CV] END bootstrap=True, max_depth=50, max_features=log2, min_samples_leaf=4, min_samples_split=4, n_estimators=100; total time=   0.4s\n",
      "[CV] END bootstrap=True, max_depth=50, max_features=log2, min_samples_leaf=4, min_samples_split=6, n_estimators=100; total time=   0.4s\n",
      "[CV] END bootstrap=True, max_depth=50, max_features=log2, min_samples_leaf=4, min_samples_split=6, n_estimators=200; total time=   0.8s\n",
      "[CV] END bootstrap=True, max_depth=75, max_features=sqrt, min_samples_leaf=2, min_samples_split=4, n_estimators=100; total time=   0.4s\n",
      "[CV] END bootstrap=True, max_depth=75, max_features=sqrt, min_samples_leaf=2, min_samples_split=6, n_estimators=100; total time=   0.4s\n",
      "[CV] END bootstrap=True, max_depth=75, max_features=sqrt, min_samples_leaf=2, min_samples_split=6, n_estimators=200; total time=   0.8s\n",
      "[CV] END bootstrap=True, max_depth=75, max_features=sqrt, min_samples_leaf=3, min_samples_split=4, n_estimators=100; total time=   0.4s\n",
      "[CV] END bootstrap=True, max_depth=75, max_features=sqrt, min_samples_leaf=3, min_samples_split=6, n_estimators=100; total time=   0.4s\n",
      "[CV] END bootstrap=True, max_depth=75, max_features=sqrt, min_samples_leaf=3, min_samples_split=6, n_estimators=200; total time=   0.8s\n",
      "[CV] END bootstrap=True, max_depth=75, max_features=sqrt, min_samples_leaf=4, min_samples_split=4, n_estimators=200; total time=   0.8s\n",
      "[CV] END bootstrap=True, max_depth=75, max_features=sqrt, min_samples_leaf=4, min_samples_split=8, n_estimators=50; total time=   0.2s\n",
      "[CV] END bootstrap=True, max_depth=75, max_features=sqrt, min_samples_leaf=4, min_samples_split=8, n_estimators=100; total time=   0.4s\n",
      "[CV] END bootstrap=True, max_depth=75, max_features=log2, min_samples_leaf=2, min_samples_split=4, n_estimators=100; total time=   0.4s\n",
      "[CV] END bootstrap=True, max_depth=75, max_features=log2, min_samples_leaf=2, min_samples_split=6, n_estimators=50; total time=   0.2s\n",
      "[CV] END bootstrap=True, max_depth=75, max_features=log2, min_samples_leaf=2, min_samples_split=6, n_estimators=100; total time=   0.4s\n",
      "[CV] END bootstrap=True, max_depth=75, max_features=log2, min_samples_leaf=2, min_samples_split=8, n_estimators=100; total time=   0.4s\n",
      "[CV] END bootstrap=True, max_depth=75, max_features=log2, min_samples_leaf=3, min_samples_split=4, n_estimators=50; total time=   0.2s\n",
      "[CV] END bootstrap=True, max_depth=75, max_features=log2, min_samples_leaf=3, min_samples_split=4, n_estimators=100; total time=   0.4s\n",
      "[CV] END bootstrap=True, max_depth=75, max_features=log2, min_samples_leaf=3, min_samples_split=6, n_estimators=50; total time=   0.2s\n",
      "[CV] END bootstrap=True, max_depth=75, max_features=log2, min_samples_leaf=3, min_samples_split=6, n_estimators=200; total time=   0.8s\n",
      "[CV] END bootstrap=True, max_depth=75, max_features=log2, min_samples_leaf=4, min_samples_split=4, n_estimators=50; total time=   0.2s\n",
      "[CV] END bootstrap=True, max_depth=75, max_features=log2, min_samples_leaf=4, min_samples_split=4, n_estimators=100; total time=   0.4s\n",
      "[CV] END bootstrap=True, max_depth=75, max_features=log2, min_samples_leaf=4, min_samples_split=6, n_estimators=50; total time=   0.2s\n",
      "[CV] END bootstrap=True, max_depth=75, max_features=log2, min_samples_leaf=4, min_samples_split=6, n_estimators=200; total time=   0.8s\n",
      "[CV] END bootstrap=True, max_depth=100, max_features=sqrt, min_samples_leaf=2, min_samples_split=4, n_estimators=50; total time=   0.2s\n",
      "[CV] END bootstrap=True, max_depth=100, max_features=sqrt, min_samples_leaf=2, min_samples_split=4, n_estimators=100; total time=   0.4s\n",
      "[CV] END bootstrap=True, max_depth=100, max_features=sqrt, min_samples_leaf=2, min_samples_split=6, n_estimators=100; total time=   0.4s\n",
      "[CV] END bootstrap=True, max_depth=100, max_features=sqrt, min_samples_leaf=2, min_samples_split=8, n_estimators=50; total time=   0.2s\n",
      "[CV] END bootstrap=True, max_depth=100, max_features=sqrt, min_samples_leaf=2, min_samples_split=8, n_estimators=100; total time=   0.4s\n",
      "[CV] END bootstrap=True, max_depth=100, max_features=sqrt, min_samples_leaf=3, min_samples_split=4, n_estimators=50; total time=   0.2s\n",
      "[CV] END bootstrap=True, max_depth=100, max_features=sqrt, min_samples_leaf=3, min_samples_split=4, n_estimators=200; total time=   0.8s\n",
      "[CV] END bootstrap=True, max_depth=100, max_features=sqrt, min_samples_leaf=3, min_samples_split=8, n_estimators=50; total time=   0.2s\n",
      "[CV] END bootstrap=True, max_depth=100, max_features=sqrt, min_samples_leaf=3, min_samples_split=8, n_estimators=200; total time=   0.7s\n",
      "[CV] END bootstrap=True, max_depth=100, max_features=sqrt, min_samples_leaf=4, min_samples_split=4, n_estimators=200; total time=   0.8s\n",
      "[CV] END bootstrap=True, max_depth=100, max_features=sqrt, min_samples_leaf=4, min_samples_split=8, n_estimators=100; total time=   0.4s\n",
      "[CV] END bootstrap=True, max_depth=100, max_features=log2, min_samples_leaf=2, min_samples_split=4, n_estimators=100; total time=   0.4s\n",
      "[CV] END bootstrap=True, max_depth=100, max_features=log2, min_samples_leaf=2, min_samples_split=6, n_estimators=50; total time=   0.2s\n",
      "[CV] END bootstrap=True, max_depth=100, max_features=log2, min_samples_leaf=2, min_samples_split=6, n_estimators=100; total time=   0.4s\n",
      "[CV] END bootstrap=True, max_depth=100, max_features=log2, min_samples_leaf=2, min_samples_split=8, n_estimators=50; total time=   0.2s\n",
      "[CV] END bootstrap=True, max_depth=100, max_features=log2, min_samples_leaf=2, min_samples_split=8, n_estimators=200; total time=   0.8s\n",
      "[CV] END bootstrap=True, max_depth=100, max_features=log2, min_samples_leaf=3, min_samples_split=6, n_estimators=50; total time=   0.2s\n",
      "[CV] END bootstrap=True, max_depth=100, max_features=log2, min_samples_leaf=3, min_samples_split=6, n_estimators=200; total time=   0.8s\n",
      "[CV] END bootstrap=True, max_depth=100, max_features=log2, min_samples_leaf=3, min_samples_split=8, n_estimators=200; total time=   0.8s\n",
      "[CV] END bootstrap=True, max_depth=100, max_features=log2, min_samples_leaf=4, min_samples_split=6, n_estimators=200; total time=   0.8s\n",
      "[CV] END bootstrap=True, max_depth=100, max_features=log2, min_samples_leaf=4, min_samples_split=8, n_estimators=200; total time=   0.5s\n"
     ]
    }
   ],
   "source": [
    "#now, let's implement the changes into our model\n",
    "best_rf = RandomForestRegressor(bootstrap=True, max_depth=50, max_features='sqrt',\n",
    "                                 min_samples_leaf=2, min_samples_split=6, n_estimators=100, \n",
    "                                 random_state=7)\n",
    "\n",
    "# Fit the model to the training set\n",
    "best_rf.fit(X_train, y_train)\n",
    "\n",
    "# Predict the labels of the test set\n",
    "y_pred = best_rf.predict(X_test)\n",
    "\n",
    "# Compute the mean squared error and R2 score\n",
    "mse = mean_squared_error(y_test, y_pred)\n",
    "r2 = r2_score(y_test, y_pred)\n",
    "\n",
    "print(\"Mean squared error: {:.2f}\".format(mse))\n",
    "print(\"R2 score: {:.2f}\".format(r2))\n",
    "\n"
   ]
  },
  {
   "cell_type": "markdown",
   "id": "ef3473d5",
   "metadata": {},
   "source": [
    "This decreased our mean squared error and increased our R2 score quite significantly. This was successful hypertuning. Now, these tuned hyperparameters will be applied to our random forest feature importance model as it builds off of our random forest regressor."
   ]
  },
  {
   "cell_type": "markdown",
   "id": "d6ad9be2",
   "metadata": {},
   "source": [
    "#### Random Forest Feature Importance\n",
    "Let's see which features are the most impactful on our model. We're curious to see which profile features contribute the most to a change in counts of kisses. "
   ]
  },
  {
   "cell_type": "code",
   "execution_count": 77,
   "id": "79a5e6bb",
   "metadata": {},
   "outputs": [],
   "source": [
    "# find the importances\n",
    "fi= best_rf.feature_importances_\n",
    "\n",
    "feats = X.columns.tolist()\n",
    "feats = np.array(feats)"
   ]
  },
  {
   "cell_type": "code",
   "execution_count": 78,
   "id": "13f94ee7",
   "metadata": {},
   "outputs": [
    {
     "name": "stdout",
     "output_type": "stream",
     "text": [
      "                      Importance\n",
      "age                     0.027979\n",
      "counts_pictures         0.099498\n",
      "counts_profileVisits    0.729654\n",
      "counts_fans             0.047533\n",
      "isOnline                0.008560\n",
      "verified                0.010704\n",
      "distance                0.076072\n"
     ]
    }
   ],
   "source": [
    "#create a chart that shows users the importance of each feature\n",
    "cdf = pd.DataFrame(fi, feats, columns=['Importance'])\n",
    "print(cdf)"
   ]
  },
  {
   "cell_type": "code",
   "execution_count": 79,
   "id": "aa92b7a6",
   "metadata": {},
   "outputs": [
    {
     "data": {
      "text/plain": [
       "Text(0.5, 1.0, 'Feature Importance for Count of Kisses')"
      ]
     },
     "execution_count": 79,
     "metadata": {},
     "output_type": "execute_result"
    },
    {
     "data": {
      "image/png": "[encoded data removed]",
      "text/plain": [
       "<Figure size 500x350 with 1 Axes>"
      ]
     },
     "metadata": {},
     "output_type": "display_data"
    }
   ],
   "source": [
    "idx = np.argsort(fi).astype(int)\n",
    "feats = [feats[_idx] for _idx in idx]\n",
    "fi = fi[idx]\n",
    "\n",
    "sns.set(font_scale=1.3)\n",
    "\n",
    "plt.barh(feats, fi)\n",
    "plt.gcf().set_size_inches(5, len(feats) / 2)\n",
    "plt.xlabel('importance value')\n",
    "plt.ylabel('features')\n",
    "plt.title('Feature Importance for Count of Kisses')"
   ]
  },
  {
   "cell_type": "markdown",
   "id": "e800f3ff",
   "metadata": {},
   "source": [
    "The feature importance indicates the magnitude of the effect each feature has on the number of profile likes or 'kisses'. The number of profile visits has the largest, most significant effect on the amount of kisses, shown by its very large, positive importance."
   ]
  },
  {
   "cell_type": "markdown",
   "id": "a20dfee9",
   "metadata": {},
   "source": [
    "#### Random Forest Classification\n",
    "While the random forest regressor is quite helpful with continous, numerical data, it's at times not as easy to interpret. We decided to also utilize random forest classification and separate the count of kisses into bins titled high, medium, and low, to better analyze the models accuracy, precision, and recall when predicting counts of kisses. We chose to split the counts of kisses into three bins to see if there was any major discrepancy in the model based on the magnititude of kisses.  "
   ]
  },
  {
   "cell_type": "markdown",
   "id": "49c4496b",
   "metadata": {},
   "source": [
    "We must begin by actually creating the bins. After analyzing the data, we decided that the best way to split up the data into three bins was to put counts of kisses above 141 into the 'high' bin, counts of less than 11 into the 'low' bin, and everything else into the 'medium' bin. We felt this most fairly and accurately split up the data."
   ]
  },
  {
   "cell_type": "code",
   "execution_count": 112,
   "id": "475596e2",
   "metadata": {},
   "outputs": [],
   "source": [
    "#create bins\n",
    "cats = []\n",
    "for i in new_df['counts_kisses']:\n",
    "    if i > 141: \n",
    "        cats.append('high')\n",
    "    elif i < 11:\n",
    "        cats.append('low')\n",
    "    else: \n",
    "        cats.append('medium')\n",
    "new_df['target'] = cats"
   ]
  },
  {
   "cell_type": "markdown",
   "id": "7e29b319",
   "metadata": {},
   "source": [
    "Now, we have to partition the data once again since we have a new target column."
   ]
  },
  {
   "cell_type": "code",
   "execution_count": 113,
   "id": "fc46111d",
   "metadata": {},
   "outputs": [],
   "source": [
    "#partition the data\n",
    "X   = new_df[['age', 'counts_pictures', 'counts_profileVisits',\n",
    "            'counts_fans', 'isOnline', 'verified', 'distance']] #get the input features\n",
    "y   = new_df['target']              #get the target\n",
    "\n",
    "X_train, X_test, y_train, y_test = train_test_split(X,              #the input features\n",
    "                                                    y,              #the label\n",
    "                                                    test_size=0.3,  #set aside 30% of the data as the test set\n",
    "                                                    random_state=7 #reproduce the results\n",
    "                                                   )"
   ]
  },
  {
   "cell_type": "code",
   "execution_count": 114,
   "id": "21f99ca4",
   "metadata": {},
   "outputs": [],
   "source": [
    "X_train = X_train.copy()\n",
    "X_test  = X_test.copy()\n",
    "\n",
    "#encode the categorical feature\n",
    "#encode the categorical feature verified\n",
    "encoder = OneHotEncoder(sparse=False, handle_unknown='ignore') #drop one of the encoded verified columns\n",
    "encoder.fit(X_train[['verified']])\n",
    "#enc.categories_ #view the categories\n",
    "\n",
    "X_train['verified'] = encoder.transform(X_train[['verified']])\n"
   ]
  },
  {
   "cell_type": "code",
   "execution_count": 27,
   "id": "3ddf2b64",
   "metadata": {},
   "outputs": [
    {
     "data": {
      "text/html": [
       "<style>#sk-container-id-2 {color: black;background-color: white;}#sk-container-id-2 pre{padding: 0;}#sk-container-id-2 div.sk-toggleable {background-color: white;}#sk-container-id-2 label.sk-toggleable__label {cursor: pointer;display: block;width: 100%;margin-bottom: 0;padding: 0.3em;box-sizing: border-box;text-align: center;}#sk-container-id-2 label.sk-toggleable__label-arrow:before {content: \"▸\";float: left;margin-right: 0.25em;color: #696969;}#sk-container-id-2 label.sk-toggleable__label-arrow:hover:before {color: black;}#sk-container-id-2 div.sk-estimator:hover label.sk-toggleable__label-arrow:before {color: black;}#sk-container-id-2 div.sk-toggleable__content {max-height: 0;max-width: 0;overflow: hidden;text-align: left;background-color: #f0f8ff;}#sk-container-id-2 div.sk-toggleable__content pre {margin: 0.2em;color: black;border-radius: 0.25em;background-color: #f0f8ff;}#sk-container-id-2 input.sk-toggleable__control:checked~div.sk-toggleable__content {max-height: 200px;max-width: 100%;overflow: auto;}#sk-container-id-2 input.sk-toggleable__control:checked~label.sk-toggleable__label-arrow:before {content: \"▾\";}#sk-container-id-2 div.sk-estimator input.sk-toggleable__control:checked~label.sk-toggleable__label {background-color: #d4ebff;}#sk-container-id-2 div.sk-label input.sk-toggleable__control:checked~label.sk-toggleable__label {background-color: #d4ebff;}#sk-container-id-2 input.sk-hidden--visually {border: 0;clip: rect(1px 1px 1px 1px);clip: rect(1px, 1px, 1px, 1px);height: 1px;margin: -1px;overflow: hidden;padding: 0;position: absolute;width: 1px;}#sk-container-id-2 div.sk-estimator {font-family: monospace;background-color: #f0f8ff;border: 1px dotted black;border-radius: 0.25em;box-sizing: border-box;margin-bottom: 0.5em;}#sk-container-id-2 div.sk-estimator:hover {background-color: #d4ebff;}#sk-container-id-2 div.sk-parallel-item::after {content: \"\";width: 100%;border-bottom: 1px solid gray;flex-grow: 1;}#sk-container-id-2 div.sk-label:hover label.sk-toggleable__label {background-color: #d4ebff;}#sk-container-id-2 div.sk-serial::before {content: \"\";position: absolute;border-left: 1px solid gray;box-sizing: border-box;top: 0;bottom: 0;left: 50%;z-index: 0;}#sk-container-id-2 div.sk-serial {display: flex;flex-direction: column;align-items: center;background-color: white;padding-right: 0.2em;padding-left: 0.2em;position: relative;}#sk-container-id-2 div.sk-item {position: relative;z-index: 1;}#sk-container-id-2 div.sk-parallel {display: flex;align-items: stretch;justify-content: center;background-color: white;position: relative;}#sk-container-id-2 div.sk-item::before, #sk-container-id-2 div.sk-parallel-item::before {content: \"\";position: absolute;border-left: 1px solid gray;box-sizing: border-box;top: 0;bottom: 0;left: 50%;z-index: -1;}#sk-container-id-2 div.sk-parallel-item {display: flex;flex-direction: column;z-index: 1;position: relative;background-color: white;}#sk-container-id-2 div.sk-parallel-item:first-child::after {align-self: flex-end;width: 50%;}#sk-container-id-2 div.sk-parallel-item:last-child::after {align-self: flex-start;width: 50%;}#sk-container-id-2 div.sk-parallel-item:only-child::after {width: 0;}#sk-container-id-2 div.sk-dashed-wrapped {border: 1px dashed gray;margin: 0 0.4em 0.5em 0.4em;box-sizing: border-box;padding-bottom: 0.4em;background-color: white;}#sk-container-id-2 div.sk-label label {font-family: monospace;font-weight: bold;display: inline-block;line-height: 1.2em;}#sk-container-id-2 div.sk-label-container {text-align: center;}#sk-container-id-2 div.sk-container {/* jupyter's `normalize.less` sets `[hidden] { display: none; }` but bootstrap.min.css set `[hidden] { display: none !important; }` so we also need the `!important` here to be able to override the default hidden behavior on the sphinx rendered scikit-learn.org. See: https://github.com/scikit-learn/scikit-learn/issues/21755 */display: inline-block !important;position: relative;}#sk-container-id-2 div.sk-text-repr-fallback {display: none;}</style><div id=\"sk-container-id-2\" class=\"sk-top-container\"><div class=\"sk-text-repr-fallback\"><pre>RandomForestClassifier(criterion=&#x27;entropy&#x27;, n_estimators=50, random_state=7)</pre><b>In a Jupyter environment, please rerun this cell to show the HTML representation or trust the notebook. <br />On GitHub, the HTML representation is unable to render, please try loading this page with nbviewer.org.</b></div><div class=\"sk-container\" hidden><div class=\"sk-item\"><div class=\"sk-estimator sk-toggleable\"><input class=\"sk-toggleable__control sk-hidden--visually\" id=\"sk-estimator-id-2\" type=\"checkbox\" checked><label for=\"sk-estimator-id-2\" class=\"sk-toggleable__label sk-toggleable__label-arrow\">RandomForestClassifier</label><div class=\"sk-toggleable__content\"><pre>RandomForestClassifier(criterion=&#x27;entropy&#x27;, n_estimators=50, random_state=7)</pre></div></div></div></div></div>"
      ],
      "text/plain": [
       "RandomForestClassifier(criterion='entropy', n_estimators=50, random_state=7)"
      ]
     },
     "execution_count": 27,
     "metadata": {},
     "output_type": "execute_result"
    }
   ],
   "source": [
    "#build the classifier\n",
    "rfc = RandomForestClassifier(criterion='entropy', n_estimators = 50, random_state = 7)\n",
    "rfc.fit(X_train, y_train)"
   ]
  },
  {
   "cell_type": "code",
   "execution_count": 28,
   "id": "9a8adbbd",
   "metadata": {},
   "outputs": [
    {
     "name": "stdout",
     "output_type": "stream",
     "text": [
      "The accuracy of the model is: 0.8021702838063439\n"
     ]
    }
   ],
   "source": [
    "#predict the labels for the test set\n",
    "y_pred   = rfc.predict(X_test)\n",
    "\n",
    "# Prediction accuracy\n",
    "print('The accuracy of the model is: {}'.format(rfc.score(X_test, y_test)))"
   ]
  },
  {
   "cell_type": "code",
   "execution_count": 29,
   "id": "ee22bb8a",
   "metadata": {},
   "outputs": [
    {
     "name": "stdout",
     "output_type": "stream",
     "text": [
      "              precision    recall  f1-score   support\n",
      "\n",
      "        high       0.83      0.78      0.81       290\n",
      "      medium       0.75      0.77      0.76       268\n",
      "         low       0.81      0.82      0.82       640\n",
      "\n",
      "    accuracy                           0.80      1198\n",
      "   macro avg       0.80      0.79      0.80      1198\n",
      "weighted avg       0.80      0.80      0.80      1198\n",
      "\n"
     ]
    }
   ],
   "source": [
    "#get the classification report for the decision tree\n",
    "y_pred = rfc.predict(X_test)\n",
    "\n",
    "target_names = ['high', 'medium', 'low']\n",
    "print(classification_report(y_test, y_pred, target_names = target_names))"
   ]
  },
  {
   "cell_type": "markdown",
   "id": "5964cca7",
   "metadata": {},
   "source": [
    "High: A precision value of .83 tells us that 83% of the predictions were true positives, and 13% of the predicitions were false positive; i.e, the model incorrectly deemed 13% of the items as having high counts of kisses when in actuality they were not. A recall value of .78 tells us that our model correctly identified 78% of true high kiss counts items as having high kiss counts.\n",
    "\n",
    "Medium: A precision value of .75 tells us that 75% of the predictions were true positives, and 25% of the predicitions were false positive; i.e, the model incorrectly deemed 25% of the items as having medium kiss counts when in actuality they were not. A recall value of .77 tells us that our model correctly identified 77% of true medium kiss counts items as medium kiss counts.\n",
    "\n",
    "Low: A precision value of .81 tells us that 81% of the predictions were true positives, and 19% of the predicitions were false positive; i.e, the model incorrectly deemed 19% of the items as low kiss counts when in actuality they were not. A recall value of .82 tells us that our model correctly identified 82% of true low kiss counts items as having low kiss counts."
   ]
  },
  {
   "cell_type": "markdown",
   "id": "0928428e",
   "metadata": {},
   "source": [
    "Overall, this model seems to work very well, and seems to perform the best with items in the high kiss count bin and worse with the medium kiss count bin. We will discuss the results further in our poster, but this model is very promising."
   ]
  },
  {
   "cell_type": "markdown",
   "id": "f02e2f5e",
   "metadata": {},
   "source": [
    "### Tuning Hyperparameters - Random Forest Classifier\n",
    "Now, let's perform tuning hyperparameters for our random forest classifier model. "
   ]
  },
  {
   "cell_type": "code",
   "execution_count": 90,
   "id": "1d662d10",
   "metadata": {},
   "outputs": [
    {
     "name": "stdout",
     "output_type": "stream",
     "text": [
      "Fitting 3 folds for each of 96 candidates, totalling 288 fits\n",
      "\n",
      "[CV] END bootstrap=False, max_depth=10, max_features=sqrt, min_samples_leaf=1, min_samples_split=2, n_estimators=100; total time=   0.5s\n",
      "[CV] END bootstrap=False, max_depth=10, max_features=sqrt, min_samples_leaf=4, min_samples_split=2, n_estimators=100; total time=   0.5s\n",
      "[CV] END bootstrap=False, max_depth=10, max_features=None, min_samples_leaf=1, min_samples_split=2, n_estimators=50; total time=   0.5s\n",
      "[CV] END bootstrap=False, max_depth=10, max_features=None, min_samples_leaf=1, min_samples_split=6, n_estimators=100; total time=   1.0s\n",
      "[CV] END bootstrap=False, max_depth=10, max_features=None, min_samples_leaf=4, min_samples_split=6, n_estimators=50; total time=   0.5s\n",
      "[CV] END bootstrap=False, max_depth=25, max_features=sqrt, min_samples_leaf=1, min_samples_split=2, n_estimators=50; total time=   0.2s\n",
      "[CV] END bootstrap=False, max_depth=25, max_features=sqrt, min_samples_leaf=1, min_samples_split=2, n_estimators=100; total time=   0.6s\n",
      "[CV] END bootstrap=False, max_depth=25, max_features=sqrt, min_samples_leaf=1, min_samples_split=6, n_estimators=100; total time=   0.5s\n",
      "[CV] END bootstrap=False, max_depth=25, max_features=sqrt, min_samples_leaf=4, min_samples_split=6, n_estimators=100; total time=   0.4s\n",
      "[CV] END bootstrap=False, max_depth=25, max_features=None, min_samples_leaf=1, min_samples_split=2, n_estimators=100; total time=   1.1s\n",
      "[CV] END bootstrap=False, max_depth=25, max_features=None, min_samples_leaf=4, min_samples_split=2, n_estimators=100; total time=   1.0s\n",
      "[CV] END bootstrap=False, max_depth=None, max_features=sqrt, min_samples_leaf=1, min_samples_split=2, n_estimators=100; total time=   0.6s\n",
      "[CV] END bootstrap=False, max_depth=None, max_features=sqrt, min_samples_leaf=4, min_samples_split=2, n_estimators=50; total time=   0.2s\n",
      "[CV] END bootstrap=False, max_depth=None, max_features=sqrt, min_samples_leaf=4, min_samples_split=6, n_estimators=50; total time=   0.2s\n",
      "[CV] END bootstrap=False, max_depth=None, max_features=None, min_samples_leaf=1, min_samples_split=2, n_estimators=50; total time=   0.5s\n",
      "[CV] END bootstrap=False, max_depth=None, max_features=None, min_samples_leaf=1, min_samples_split=6, n_estimators=50; total time=   0.5s\n",
      "[CV] END bootstrap=False, max_depth=None, max_features=None, min_samples_leaf=4, min_samples_split=2, n_estimators=50; total time=   0.5s\n",
      "[CV] END bootstrap=False, max_depth=None, max_features=None, min_samples_leaf=4, min_samples_split=6, n_estimators=50; total time=   0.5s\n",
      "[CV] END bootstrap=False, max_depth=None, max_features=None, min_samples_leaf=4, min_samples_split=6, n_estimators=100; total time=   0.8s\n",
      "[CV] END bootstrap=True, max_depth=10, max_features=sqrt, min_samples_leaf=1, min_samples_split=2, n_estimators=100; total time=   0.5s\n",
      "[CV] END bootstrap=True, max_depth=10, max_features=sqrt, min_samples_leaf=4, min_samples_split=2, n_estimators=100; total time=   0.5s\n",
      "[CV] END bootstrap=True, max_depth=10, max_features=None, min_samples_leaf=1, min_samples_split=2, n_estimators=50; total time=   0.4s\n",
      "[CV] END bootstrap=True, max_depth=10, max_features=None, min_samples_leaf=1, min_samples_split=6, n_estimators=50; total time=   0.5s\n",
      "[CV] END bootstrap=True, max_depth=10, max_features=None, min_samples_leaf=4, min_samples_split=2, n_estimators=50; total time=   0.4s\n",
      "[CV] END bootstrap=True, max_depth=10, max_features=None, min_samples_leaf=4, min_samples_split=6, n_estimators=50; total time=   0.5s\n",
      "[CV] END bootstrap=True, max_depth=25, max_features=sqrt, min_samples_leaf=1, min_samples_split=2, n_estimators=50; total time=   0.3s\n",
      "[CV] END bootstrap=True, max_depth=25, max_features=sqrt, min_samples_leaf=1, min_samples_split=2, n_estimators=100; total time=   0.5s\n",
      "[CV] END bootstrap=True, max_depth=25, max_features=sqrt, min_samples_leaf=4, min_samples_split=2, n_estimators=100; total time=   0.4s\n",
      "[CV] END bootstrap=True, max_depth=25, max_features=None, min_samples_leaf=1, min_samples_split=2, n_estimators=50; total time=   0.4s\n",
      "[CV] END bootstrap=True, max_depth=25, max_features=None, min_samples_leaf=1, min_samples_split=6, n_estimators=50; total time=   0.4s\n",
      "[CV] END bootstrap=True, max_depth=25, max_features=None, min_samples_leaf=4, min_samples_split=2, n_estimators=50; total time=   0.4s\n",
      "[CV] END bootstrap=True, max_depth=25, max_features=None, min_samples_leaf=4, min_samples_split=6, n_estimators=50; total time=   0.4s\n",
      "[CV] END bootstrap=True, max_depth=None, max_features=sqrt, min_samples_leaf=1, min_samples_split=2, n_estimators=50; total time=   0.3s\n",
      "[CV] END bootstrap=True, max_depth=None, max_features=sqrt, min_samples_leaf=1, min_samples_split=2, n_estimators=100; total time=   0.5s\n",
      "[CV] END bootstrap=True, max_depth=None, max_features=sqrt, min_samples_leaf=4, min_samples_split=2, n_estimators=50; total time=   0.2s\n",
      "[CV] END bootstrap=True, max_depth=None, max_features=sqrt, min_samples_leaf=4, min_samples_split=6, n_estimators=50; total time=   0.2s\n",
      "[CV] END bootstrap=True, max_depth=None, max_features=None, min_samples_leaf=1, min_samples_split=2, n_estimators=50; total time=   0.4s\n",
      "[CV] END bootstrap=True, max_depth=None, max_features=None, min_samples_leaf=1, min_samples_split=6, n_estimators=100; total time=   0.8s\n",
      "[CV] END bootstrap=True, max_depth=None, max_features=None, min_samples_leaf=4, min_samples_split=6, n_estimators=50; total time=   0.4s\n",
      "[CV] END bootstrap=False, max_depth=10, max_features=sqrt, min_samples_leaf=1, min_samples_split=2, n_estimators=50; total time=   0.2s\n",
      "[CV] END bootstrap=False, max_depth=10, max_features=sqrt, min_samples_leaf=1, min_samples_split=2, n_estimators=100; total time=   0.5s\n",
      "[CV] END bootstrap=False, max_depth=10, max_features=sqrt, min_samples_leaf=4, min_samples_split=2, n_estimators=100; total time=   0.4s\n",
      "[CV] END bootstrap=False, max_depth=10, max_features=None, min_samples_leaf=1, min_samples_split=2, n_estimators=50; total time=   0.6s\n",
      "[CV] END bootstrap=False, max_depth=10, max_features=None, min_samples_leaf=1, min_samples_split=6, n_estimators=100; total time=   1.0s\n",
      "[CV] END bootstrap=False, max_depth=10, max_features=None, min_samples_leaf=4, min_samples_split=6, n_estimators=100; total time=   0.9s\n",
      "[CV] END bootstrap=False, max_depth=25, max_features=sqrt, min_samples_leaf=1, min_samples_split=6, n_estimators=50; total time=   0.3s\n",
      "[CV] END bootstrap=False, max_depth=25, max_features=sqrt, min_samples_leaf=4, min_samples_split=2, n_estimators=50; total time=   0.2s\n",
      "[CV] END bootstrap=False, max_depth=25, max_features=sqrt, min_samples_leaf=4, min_samples_split=6, n_estimators=50; total time=   0.2s\n",
      "[CV] END bootstrap=False, max_depth=25, max_features=None, min_samples_leaf=1, min_samples_split=2, n_estimators=50; total time=   0.5s\n",
      "[CV] END bootstrap=False, max_depth=25, max_features=None, min_samples_leaf=1, min_samples_split=6, n_estimators=100; total time=   1.2s\n",
      "[CV] END bootstrap=False, max_depth=25, max_features=None, min_samples_leaf=4, min_samples_split=6, n_estimators=100; total time=   1.2s\n",
      "[CV] END bootstrap=False, max_depth=None, max_features=sqrt, min_samples_leaf=1, min_samples_split=6, n_estimators=50; total time=   0.4s\n",
      "[CV] END bootstrap=False, max_depth=None, max_features=sqrt, min_samples_leaf=4, min_samples_split=2, n_estimators=50; total time=   0.4s\n",
      "[CV] END bootstrap=False, max_depth=None, max_features=sqrt, min_samples_leaf=4, min_samples_split=2, n_estimators=100; total time=   0.9s\n",
      "[CV] END bootstrap=False, max_depth=None, max_features=None, min_samples_leaf=1, min_samples_split=2, n_estimators=100; total time=   1.1s\n",
      "[CV] END bootstrap=False, max_depth=None, max_features=None, min_samples_leaf=4, min_samples_split=2, n_estimators=100; total time=   1.1s\n",
      "[CV] END bootstrap=True, max_depth=10, max_features=sqrt, min_samples_leaf=1, min_samples_split=2, n_estimators=50; total time=   0.3s\n",
      "[CV] END bootstrap=True, max_depth=10, max_features=sqrt, min_samples_leaf=1, min_samples_split=6, n_estimators=100; total time=   0.4s\n",
      "[CV] END bootstrap=True, max_depth=10, max_features=sqrt, min_samples_leaf=4, min_samples_split=6, n_estimators=50; total time=   0.2s\n"
     ]
    },
    {
     "name": "stdout",
     "output_type": "stream",
     "text": [
      "[CV] END bootstrap=True, max_depth=10, max_features=sqrt, min_samples_leaf=4, min_samples_split=6, n_estimators=100; total time=   0.5s\n",
      "[CV] END bootstrap=False, max_depth=10, max_features=sqrt, min_samples_leaf=4, min_samples_split=6, n_estimators=100; total time=   0.4s\n",
      "[CV] END bootstrap=False, max_depth=10, max_features=None, min_samples_leaf=1, min_samples_split=6, n_estimators=50; total time=   0.5s\n",
      "[CV] END bootstrap=False, max_depth=10, max_features=None, min_samples_leaf=4, min_samples_split=2, n_estimators=50; total time=   0.5s\n",
      "[CV] END bootstrap=False, max_depth=10, max_features=None, min_samples_leaf=4, min_samples_split=2, n_estimators=100; total time=   1.0s\n",
      "[CV] END bootstrap=False, max_depth=25, max_features=sqrt, min_samples_leaf=1, min_samples_split=6, n_estimators=50; total time=   0.2s\n",
      "[CV] END bootstrap=False, max_depth=25, max_features=sqrt, min_samples_leaf=1, min_samples_split=6, n_estimators=100; total time=   0.5s\n",
      "[CV] END bootstrap=False, max_depth=25, max_features=sqrt, min_samples_leaf=4, min_samples_split=6, n_estimators=50; total time=   0.2s\n",
      "[CV] END bootstrap=False, max_depth=25, max_features=None, min_samples_leaf=1, min_samples_split=2, n_estimators=50; total time=   0.5s\n",
      "[CV] END bootstrap=False, max_depth=25, max_features=None, min_samples_leaf=1, min_samples_split=6, n_estimators=50; total time=   0.6s\n",
      "[CV] END bootstrap=False, max_depth=25, max_features=None, min_samples_leaf=4, min_samples_split=2, n_estimators=50; total time=   0.5s\n",
      "[CV] END bootstrap=False, max_depth=25, max_features=None, min_samples_leaf=4, min_samples_split=6, n_estimators=50; total time=   0.5s\n",
      "[CV] END bootstrap=False, max_depth=25, max_features=None, min_samples_leaf=4, min_samples_split=6, n_estimators=100; total time=   0.9s\n",
      "[CV] END bootstrap=False, max_depth=None, max_features=sqrt, min_samples_leaf=4, min_samples_split=2, n_estimators=100; total time=   0.5s\n",
      "[CV] END bootstrap=False, max_depth=None, max_features=None, min_samples_leaf=1, min_samples_split=2, n_estimators=50; total time=   0.5s\n",
      "[CV] END bootstrap=False, max_depth=None, max_features=None, min_samples_leaf=1, min_samples_split=6, n_estimators=100; total time=   1.0s\n",
      "[CV] END bootstrap=False, max_depth=None, max_features=None, min_samples_leaf=4, min_samples_split=6, n_estimators=50; total time=   0.5s\n",
      "[CV] END bootstrap=True, max_depth=10, max_features=sqrt, min_samples_leaf=1, min_samples_split=2, n_estimators=50; total time=   0.3s\n",
      "[CV] END bootstrap=True, max_depth=10, max_features=sqrt, min_samples_leaf=1, min_samples_split=6, n_estimators=50; total time=   0.2s\n",
      "[CV] END bootstrap=True, max_depth=10, max_features=sqrt, min_samples_leaf=4, min_samples_split=2, n_estimators=50; total time=   0.3s\n",
      "[CV] END bootstrap=True, max_depth=10, max_features=sqrt, min_samples_leaf=4, min_samples_split=6, n_estimators=50; total time=   0.3s\n",
      "[CV] END bootstrap=True, max_depth=10, max_features=None, min_samples_leaf=1, min_samples_split=2, n_estimators=50; total time=   0.4s\n",
      "[CV] END bootstrap=True, max_depth=10, max_features=None, min_samples_leaf=1, min_samples_split=6, n_estimators=100; total time=   0.9s\n",
      "[CV] END bootstrap=True, max_depth=10, max_features=None, min_samples_leaf=4, min_samples_split=6, n_estimators=50; total time=   0.5s\n",
      "[CV] END bootstrap=True, max_depth=25, max_features=sqrt, min_samples_leaf=1, min_samples_split=2, n_estimators=50; total time=   0.3s\n",
      "[CV] END bootstrap=True, max_depth=25, max_features=sqrt, min_samples_leaf=1, min_samples_split=2, n_estimators=100; total time=   0.5s\n",
      "[CV] END bootstrap=True, max_depth=25, max_features=sqrt, min_samples_leaf=4, min_samples_split=2, n_estimators=100; total time=   0.5s\n",
      "[CV] END bootstrap=True, max_depth=25, max_features=None, min_samples_leaf=1, min_samples_split=2, n_estimators=100; total time=   0.8s\n",
      "[CV] END bootstrap=True, max_depth=25, max_features=None, min_samples_leaf=4, min_samples_split=2, n_estimators=100; total time=   0.8s\n",
      "[CV] END bootstrap=True, max_depth=None, max_features=sqrt, min_samples_leaf=1, min_samples_split=2, n_estimators=50; total time=   0.2s\n",
      "[CV] END bootstrap=True, max_depth=None, max_features=sqrt, min_samples_leaf=1, min_samples_split=6, n_estimators=50; total time=   0.2s\n",
      "[CV] END bootstrap=True, max_depth=None, max_features=sqrt, min_samples_leaf=1, min_samples_split=6, n_estimators=100; total time=   0.4s\n",
      "[CV] END bootstrap=True, max_depth=None, max_features=sqrt, min_samples_leaf=4, min_samples_split=6, n_estimators=50; total time=   0.2s\n",
      "[CV] END bootstrap=True, max_depth=None, max_features=None, min_samples_leaf=1, min_samples_split=2, n_estimators=50; total time=   0.4s\n",
      "[CV] END bootstrap=True, max_depth=None, max_features=None, min_samples_leaf=1, min_samples_split=6, n_estimators=50; total time=   0.4s\n",
      "[CV] END bootstrap=True, max_depth=None, max_features=None, min_samples_leaf=4, min_samples_split=2, n_estimators=50; total time=   0.4s\n",
      "[CV] END bootstrap=True, max_depth=None, max_features=None, min_samples_leaf=4, min_samples_split=6, n_estimators=50; total time=   0.4s\n",
      "[CV] END bootstrap=True, max_depth=None, max_features=None, min_samples_leaf=4, min_samples_split=6, n_estimators=100; total time=   0.7s\n",
      "[CV] END bootstrap=False, max_depth=10, max_features=sqrt, min_samples_leaf=4, min_samples_split=2, n_estimators=50; total time=   0.2s\n",
      "[CV] END bootstrap=False, max_depth=10, max_features=sqrt, min_samples_leaf=4, min_samples_split=2, n_estimators=100; total time=   0.5s\n",
      "[CV] END bootstrap=False, max_depth=10, max_features=None, min_samples_leaf=1, min_samples_split=2, n_estimators=100; total time=   1.0s\n",
      "[CV] END bootstrap=False, max_depth=10, max_features=None, min_samples_leaf=4, min_samples_split=2, n_estimators=100; total time=   0.9s\n",
      "[CV] END bootstrap=False, max_depth=25, max_features=sqrt, min_samples_leaf=1, min_samples_split=2, n_estimators=100; total time=   0.6s\n",
      "[CV] END bootstrap=False, max_depth=25, max_features=sqrt, min_samples_leaf=4, min_samples_split=2, n_estimators=50; total time=   0.2s\n",
      "[CV] END bootstrap=False, max_depth=25, max_features=sqrt, min_samples_leaf=4, min_samples_split=6, n_estimators=50; total time=   0.2s\n",
      "[CV] END bootstrap=False, max_depth=25, max_features=sqrt, min_samples_leaf=4, min_samples_split=6, n_estimators=100; total time=   0.5s\n",
      "[CV] END bootstrap=False, max_depth=25, max_features=None, min_samples_leaf=1, min_samples_split=6, n_estimators=50; total time=   0.5s\n",
      "[CV] END bootstrap=False, max_depth=25, max_features=None, min_samples_leaf=4, min_samples_split=2, n_estimators=50; total time=   0.7s\n",
      "[CV] END bootstrap=False, max_depth=25, max_features=None, min_samples_leaf=4, min_samples_split=2, n_estimators=100; total time=   1.1s\n",
      "[CV] END bootstrap=False, max_depth=None, max_features=sqrt, min_samples_leaf=1, min_samples_split=6, n_estimators=50; total time=   0.4s\n",
      "[CV] END bootstrap=False, max_depth=None, max_features=sqrt, min_samples_leaf=1, min_samples_split=6, n_estimators=100; total time=   0.8s\n",
      "[CV] END bootstrap=False, max_depth=None, max_features=sqrt, min_samples_leaf=4, min_samples_split=6, n_estimators=50; total time=   0.4s\n",
      "[CV] END bootstrap=False, max_depth=None, max_features=None, min_samples_leaf=1, min_samples_split=2, n_estimators=50; total time=   0.8s\n",
      "[CV] END bootstrap=False, max_depth=None, max_features=None, min_samples_leaf=1, min_samples_split=6, n_estimators=100; total time=   1.1s\n",
      "[CV] END bootstrap=False, max_depth=None, max_features=None, min_samples_leaf=4, min_samples_split=6, n_estimators=50; total time=   0.5s\n",
      "[CV] END bootstrap=True, max_depth=10, max_features=sqrt, min_samples_leaf=1, min_samples_split=2, n_estimators=50; total time=   0.3s\n",
      "[CV] END bootstrap=True, max_depth=10, max_features=sqrt, min_samples_leaf=1, min_samples_split=6, n_estimators=50; total time=   0.2s\n",
      "[CV] END bootstrap=True, max_depth=10, max_features=sqrt, min_samples_leaf=4, min_samples_split=2, n_estimators=50; total time=   0.2s\n",
      "[CV] END bootstrap=True, max_depth=10, max_features=sqrt, min_samples_leaf=4, min_samples_split=6, n_estimators=50; total time=   0.2s\n",
      "[CV] END bootstrap=True, max_depth=10, max_features=None, min_samples_leaf=1, min_samples_split=2, n_estimators=50; total time=   0.4s\n",
      "[CV] END bootstrap=True, max_depth=10, max_features=None, min_samples_leaf=1, min_samples_split=6, n_estimators=100; total time=   0.8s"
     ]
    }
   ],
   "source": [
    "#define the parameter grid \n",
    "param_grid = {\n",
    "    'n_estimators': [50, 100],\n",
    "    'max_depth': [10, 25, None],\n",
    "    'min_samples_split': [2, 6],\n",
    "    'min_samples_leaf': [1, 4],\n",
    "    'max_features': ['sqrt', None],\n",
    "    'bootstrap': [True, False]\n",
    "}\n",
    "\n",
    "# Create a random forest classifier\n",
    "rfc = RandomForestClassifier(random_state=7)\n",
    "\n",
    "# Instantiate the grid search model\n",
    "grid_search = GridSearchCV(estimator=rfc, param_grid=param_grid, cv=3, n_jobs=-1, verbose=2)\n",
    "\n",
    "# Fit the grid search to the data\n",
    "grid_search.fit(X_train, y_train)\n",
    "\n",
    "#modify the code with the best hyperparameters found\n",
    "best_params = grid_search.best_params_\n",
    "\n",
    "# build the random forest classifier using the best hyperparameters\n",
    "best_rfc = RandomForestClassifier(random_state=7, **best_params)\n",
    "best_rfc.fit(X_train, y_train)\n",
    "\n",
    "# predict the labels for the test set\n",
    "y_pred = best_rfc.predict(X_test)\n"
   ]
  },
  {
   "cell_type": "code",
   "execution_count": 91,
   "id": "75d6dd4f",
   "metadata": {},
   "outputs": [
    {
     "name": "stdout",
     "output_type": "stream",
     "text": [
      "The accuracy of the model is: 0.8138564273789649\n",
      "              precision    recall  f1-score   support\n",
      "\n",
      "        high       0.85      0.77      0.81       290\n",
      "      medium       0.80      0.75      0.77       268\n",
      "         low       0.81      0.86      0.83       640\n",
      "\n",
      "    accuracy                           0.81      1198\n",
      "   macro avg       0.82      0.79      0.80      1198\n",
      "weighted avg       0.81      0.81      0.81      1198\n",
      "\n"
     ]
    }
   ],
   "source": [
    "# print the prediction accuracy\n",
    "print('The accuracy of the model is: {}'.format(best_rfc.score(X_test, y_test)))\n",
    "\n",
    "# get the classification report for the decision tree\n",
    "target_names = ['high', 'medium', 'low']\n",
    "\n",
    "print(classification_report(y_test, y_pred, target_names=target_names))"
   ]
  },
  {
   "cell_type": "markdown",
   "id": "3de0d140",
   "metadata": {},
   "source": [
    "The accuracy for this new model with the tuned hyperparameters is now .81, thus it only improved our original models accuracy by .01. The precision vaues for high and medium bins went up, while the precision value for low stayed the same. The recall values went down for high and medium, yet went up for low. \n",
    "\n",
    "Based on these results, the changes did not improve our model by a significant amount. "
   ]
  },
  {
   "cell_type": "markdown",
   "id": "74fa5624",
   "metadata": {},
   "source": [
    "## K-NN Classifer"
   ]
  },
  {
   "cell_type": "markdown",
   "id": "f51c7829",
   "metadata": {},
   "source": [
    "We also want to explore knn classification to create clusters of online dating profiles and determine if our model can pick out important similarities between profiles"
   ]
  },
  {
   "cell_type": "markdown",
   "id": "c0342e30",
   "metadata": {},
   "source": [
    "Since we are going to be using the same bins as the random forest classifier, we don't need to revert to the original data just yet. "
   ]
  },
  {
   "cell_type": "code",
   "execution_count": 115,
   "id": "b9ae1928",
   "metadata": {},
   "outputs": [
    {
     "name": "stdout",
     "output_type": "stream",
     "text": [
      "3609      high\n",
      "270       high\n",
      "170     medium\n",
      "3164    medium\n",
      "2747    medium\n",
      "         ...  \n",
      "1603    medium\n",
      "2550    medium\n",
      "537       high\n",
      "1220    medium\n",
      "175       high\n",
      "Name: target, Length: 2794, dtype: object\n"
     ]
    },
    {
     "data": {
      "text/html": [
       "<style>#sk-container-id-7 {color: black;background-color: white;}#sk-container-id-7 pre{padding: 0;}#sk-container-id-7 div.sk-toggleable {background-color: white;}#sk-container-id-7 label.sk-toggleable__label {cursor: pointer;display: block;width: 100%;margin-bottom: 0;padding: 0.3em;box-sizing: border-box;text-align: center;}#sk-container-id-7 label.sk-toggleable__label-arrow:before {content: \"▸\";float: left;margin-right: 0.25em;color: #696969;}#sk-container-id-7 label.sk-toggleable__label-arrow:hover:before {color: black;}#sk-container-id-7 div.sk-estimator:hover label.sk-toggleable__label-arrow:before {color: black;}#sk-container-id-7 div.sk-toggleable__content {max-height: 0;max-width: 0;overflow: hidden;text-align: left;background-color: #f0f8ff;}#sk-container-id-7 div.sk-toggleable__content pre {margin: 0.2em;color: black;border-radius: 0.25em;background-color: #f0f8ff;}#sk-container-id-7 input.sk-toggleable__control:checked~div.sk-toggleable__content {max-height: 200px;max-width: 100%;overflow: auto;}#sk-container-id-7 input.sk-toggleable__control:checked~label.sk-toggleable__label-arrow:before {content: \"▾\";}#sk-container-id-7 div.sk-estimator input.sk-toggleable__control:checked~label.sk-toggleable__label {background-color: #d4ebff;}#sk-container-id-7 div.sk-label input.sk-toggleable__control:checked~label.sk-toggleable__label {background-color: #d4ebff;}#sk-container-id-7 input.sk-hidden--visually {border: 0;clip: rect(1px 1px 1px 1px);clip: rect(1px, 1px, 1px, 1px);height: 1px;margin: -1px;overflow: hidden;padding: 0;position: absolute;width: 1px;}#sk-container-id-7 div.sk-estimator {font-family: monospace;background-color: #f0f8ff;border: 1px dotted black;border-radius: 0.25em;box-sizing: border-box;margin-bottom: 0.5em;}#sk-container-id-7 div.sk-estimator:hover {background-color: #d4ebff;}#sk-container-id-7 div.sk-parallel-item::after {content: \"\";width: 100%;border-bottom: 1px solid gray;flex-grow: 1;}#sk-container-id-7 div.sk-label:hover label.sk-toggleable__label {background-color: #d4ebff;}#sk-container-id-7 div.sk-serial::before {content: \"\";position: absolute;border-left: 1px solid gray;box-sizing: border-box;top: 0;bottom: 0;left: 50%;z-index: 0;}#sk-container-id-7 div.sk-serial {display: flex;flex-direction: column;align-items: center;background-color: white;padding-right: 0.2em;padding-left: 0.2em;position: relative;}#sk-container-id-7 div.sk-item {position: relative;z-index: 1;}#sk-container-id-7 div.sk-parallel {display: flex;align-items: stretch;justify-content: center;background-color: white;position: relative;}#sk-container-id-7 div.sk-item::before, #sk-container-id-7 div.sk-parallel-item::before {content: \"\";position: absolute;border-left: 1px solid gray;box-sizing: border-box;top: 0;bottom: 0;left: 50%;z-index: -1;}#sk-container-id-7 div.sk-parallel-item {display: flex;flex-direction: column;z-index: 1;position: relative;background-color: white;}#sk-container-id-7 div.sk-parallel-item:first-child::after {align-self: flex-end;width: 50%;}#sk-container-id-7 div.sk-parallel-item:last-child::after {align-self: flex-start;width: 50%;}#sk-container-id-7 div.sk-parallel-item:only-child::after {width: 0;}#sk-container-id-7 div.sk-dashed-wrapped {border: 1px dashed gray;margin: 0 0.4em 0.5em 0.4em;box-sizing: border-box;padding-bottom: 0.4em;background-color: white;}#sk-container-id-7 div.sk-label label {font-family: monospace;font-weight: bold;display: inline-block;line-height: 1.2em;}#sk-container-id-7 div.sk-label-container {text-align: center;}#sk-container-id-7 div.sk-container {/* jupyter's `normalize.less` sets `[hidden] { display: none; }` but bootstrap.min.css set `[hidden] { display: none !important; }` so we also need the `!important` here to be able to override the default hidden behavior on the sphinx rendered scikit-learn.org. See: https://github.com/scikit-learn/scikit-learn/issues/21755 */display: inline-block !important;position: relative;}#sk-container-id-7 div.sk-text-repr-fallback {display: none;}</style><div id=\"sk-container-id-7\" class=\"sk-top-container\"><div class=\"sk-text-repr-fallback\"><pre>KNeighborsClassifier(n_neighbors=65)</pre><b>In a Jupyter environment, please rerun this cell to show the HTML representation or trust the notebook. <br />On GitHub, the HTML representation is unable to render, please try loading this page with nbviewer.org.</b></div><div class=\"sk-container\" hidden><div class=\"sk-item\"><div class=\"sk-estimator sk-toggleable\"><input class=\"sk-toggleable__control sk-hidden--visually\" id=\"sk-estimator-id-9\" type=\"checkbox\" checked><label for=\"sk-estimator-id-9\" class=\"sk-toggleable__label sk-toggleable__label-arrow\">KNeighborsClassifier</label><div class=\"sk-toggleable__content\"><pre>KNeighborsClassifier(n_neighbors=65)</pre></div></div></div></div></div>"
      ],
      "text/plain": [
       "KNeighborsClassifier(n_neighbors=65)"
      ]
     },
     "execution_count": 115,
     "metadata": {},
     "output_type": "execute_result"
    }
   ],
   "source": [
    "# building the classifier\n",
    "print((y_train))\n",
    "knn = KNeighborsClassifier(n_neighbors = 65) #initialize the classifier and set the number of neighbors\n",
    "knn.fit(X_train, y_train)"
   ]
  },
  {
   "cell_type": "code",
   "execution_count": 116,
   "id": "5f315b30",
   "metadata": {},
   "outputs": [
    {
     "name": "stdout",
     "output_type": "stream",
     "text": [
      "The predicted BMI is: ['high' 'low' 'low' ... 'low' 'low' 'medium']\n",
      "The accuracy of the model is: 0.8121869782971619\n"
     ]
    }
   ],
   "source": [
    "#predict the labels for the test set\n",
    "y_pred   = knn.predict(X_test)\n",
    "\n",
    "print('The predicted BMI is: {}'.format(y_pred))\n",
    "# Prediction accuracy\n",
    "print('The accuracy of the model is: {}'.format(knn.score(X_test, y_test)))"
   ]
  },
  {
   "cell_type": "code",
   "execution_count": 117,
   "id": "22a6d0ad",
   "metadata": {},
   "outputs": [
    {
     "data": {
      "image/png": "[encoded data removed]",
      "text/plain": [
       "<Figure size 640x480 with 1 Axes>"
      ]
     },
     "metadata": {},
     "output_type": "display_data"
    },
    {
     "name": "stdout",
     "output_type": "stream",
     "text": [
      "Optimal k value: 19\n"
     ]
    }
   ],
   "source": [
    "#identify a suitable value of k\n",
    "predictions = {}\n",
    "\n",
    "for k in range(3, 200, 2): #increment k by 2\n",
    "    knn = KNeighborsClassifier(n_neighbors = k) #initialize the classifier and set the number of neighbors\n",
    "    knn.fit(X_train, y_train)\n",
    "    predictions[k] = knn.score(X_test, y_test)\n",
    "sns.lineplot(x=predictions.keys(), y=predictions.values())\n",
    "plt.show()\n",
    "print('Optimal k value:', max(predictions, key = predictions.get))"
   ]
  },
  {
   "cell_type": "markdown",
   "id": "377e6575",
   "metadata": {},
   "source": [
    "The K-NN model has an accuracy of .81 which is quite high, suggesting this model is good. The optimal k value is 19, suggesting that the best number of neighbors is 19. "
   ]
  },
  {
   "cell_type": "markdown",
   "id": "780ccf85",
   "metadata": {},
   "source": [
    "### Tuning HyperParameters - KNN Classifier"
   ]
  },
  {
   "cell_type": "markdown",
   "id": "5488dc1f",
   "metadata": {},
   "source": [
    "Even though we already performed action that found the best k-value, we are also going to perform tuning of the hyperparameters as we did with the other models. "
   ]
  },
  {
   "cell_type": "code",
   "execution_count": 118,
   "id": "99235aa3",
   "metadata": {},
   "outputs": [
    {
     "name": "stdout",
     "output_type": "stream",
     "text": [
      "Best parameters: {'n_neighbors': 19}\n",
      "Best score: 0.84\n"
     ]
    }
   ],
   "source": [
    "# Define the parameter grid to search over\n",
    "param_grid = {'n_neighbors': [3, 5, 7, 9, 11, 12, 16, 19, 50]}\n",
    "\n",
    "# Create a K-NN classifier\n",
    "knn = KNeighborsClassifier()\n",
    "\n",
    "# Use GridSearchCV to search over the parameter grid\n",
    "grid_search = GridSearchCV(knn, param_grid, cv=5)\n",
    "\n",
    "# Fit the grid search to the training data\n",
    "grid_search.fit(X_train, y_train)\n",
    "\n",
    "# Print the best parameters and score\n",
    "print(\"Best parameters: {}\".format(grid_search.best_params_))\n",
    "print(\"Best score: {:.2f}\".format(grid_search.best_score_))"
   ]
  },
  {
   "cell_type": "markdown",
   "id": "4aedb489",
   "metadata": {},
   "source": [
    "This verifies our conclusion that a k value of 19 was the best for our model, with the highest score of .84. "
   ]
  },
  {
   "cell_type": "markdown",
   "id": "29bcfb18",
   "metadata": {},
   "source": [
    "## Simple Linear Regression"
   ]
  },
  {
   "cell_type": "markdown",
   "id": "d061bdb8",
   "metadata": {},
   "source": [
    "Let's revert back to the original data without the bins. "
   ]
  },
  {
   "cell_type": "code",
   "execution_count": 96,
   "id": "b04e7b0a",
   "metadata": {},
   "outputs": [],
   "source": [
    "new_df = df[['counts_kisses', 'age', 'counts_pictures', 'counts_profileVisits',\n",
    "            'counts_fans', 'isOnline', 'verified', 'distance']].copy()\n",
    "#partition the data\n",
    "X   = new_df[['age', 'counts_pictures', 'counts_profileVisits',\n",
    "            'counts_fans', 'isOnline', 'verified', 'distance']] #get the input features\n",
    "y   = new_df['counts_kisses']              #get the target\n",
    "\n",
    "X_train, X_test, y_train, y_test = train_test_split(X,              #the input features\n",
    "                                                    y,              #the label\n",
    "                                                    test_size=0.3,  #set aside 30% of the data as the test set\n",
    "                                                    random_state=7 #reproduce the results\n",
    "                                                   )\n",
    "X_train = X_train.copy()\n",
    "X_test  = X_test.copy()\n",
    "\n",
    "#encode the categorical feature\n",
    "encoder = OneHotEncoder(sparse=False, handle_unknown='ignore') #drop one of the encoded verified columns\n",
    "encoder.fit(X_train[['verified']])\n",
    "#enc.categories_ #view the categories\n",
    "\n",
    "X_train['verified'] = encoder.transform(X_train[['verified']])\n",
    "\n",
    "\n"
   ]
  },
  {
   "cell_type": "code",
   "execution_count": 34,
   "id": "8d86b408",
   "metadata": {},
   "outputs": [
    {
     "data": {
      "image/png": "[encoded data removed]",
      "text/plain": [
       "<Figure size 640x480 with 1 Axes>"
      ]
     },
     "metadata": {},
     "output_type": "display_data"
    }
   ],
   "source": [
    "#Lets visualize this data again and show the trend line\n",
    "sns.regplot(data=new_df, x='age', y='counts_kisses') #display the trend line using regplot\n",
    "plt.show()"
   ]
  },
  {
   "cell_type": "code",
   "execution_count": 94,
   "id": "3fad5bf5",
   "metadata": {},
   "outputs": [
    {
     "name": "stdout",
     "output_type": "stream",
     "text": [
      "The intercept is:  400.4689735143315\n",
      "The slope is:  -11.089260078245944\n"
     ]
    }
   ],
   "source": [
    "# simple linear regression for kisses x age \n",
    "from sklearn.linear_model import LinearRegression\n",
    "import numpy as np\n",
    "\n",
    "# code from class\n",
    "\n",
    "X = new_df['age'].to_numpy() #get the explanatory variable\n",
    "X = X.reshape(-1, 1)\n",
    "\n",
    "y = new_df['counts_kisses'].to_numpy()  #get the response variable\n",
    "y = y.reshape(-1, 1)\n",
    "\n",
    "lr_model_1 = LinearRegression(fit_intercept=True) #initialize the regression model\n",
    "lr_model_1 = lr_model_1.fit(X, y)                   #fit the data to the model i.e. find the line of best fit\n",
    "\n",
    "#display the parameters for the slope and intercept\n",
    "print('The intercept is: ', lr_model_1.intercept_[0])\n",
    "print('The slope is: ', lr_model_1.coef_[0,0])"
   ]
  },
  {
   "cell_type": "code",
   "execution_count": 36,
   "id": "f1843319",
   "metadata": {},
   "outputs": [
    {
     "name": "stdout",
     "output_type": "stream",
     "text": [
      "r-squared for the kisses and age slr is:  0.00331\n"
     ]
    }
   ],
   "source": [
    "#get r-squared, i.e. the coefficient of determination\n",
    "r_sqrd = lr_model_1.score(X, y)\n",
    "r_sqrd = round(r_sqrd, 5)\n",
    "\n",
    "print('r-squared for the kisses and age slr is: ', r_sqrd)"
   ]
  },
  {
   "cell_type": "code",
   "execution_count": 37,
   "id": "f69b6df2",
   "metadata": {},
   "outputs": [
    {
     "data": {
      "image/png": "[encoded data removed]",
      "text/plain": [
       "<Figure size 640x480 with 1 Axes>"
      ]
     },
     "metadata": {},
     "output_type": "display_data"
    }
   ],
   "source": [
    "#Lets visualize this data again and show the trend line\n",
    "sns.regplot(data=new_df, x='counts_pictures', y='counts_kisses') #display the trend line using regplot\n",
    "plt.show()"
   ]
  },
  {
   "cell_type": "code",
   "execution_count": 38,
   "id": "4c0f58a3",
   "metadata": {},
   "outputs": [
    {
     "name": "stdout",
     "output_type": "stream",
     "text": [
      "The intercept is:  6.082856507122301\n",
      "The slope is:  31.445637263113237\n"
     ]
    }
   ],
   "source": [
    "# simple linear regression for kisses x count of pictures  \n",
    "from sklearn.linear_model import LinearRegression\n",
    "import numpy as np\n",
    "\n",
    "# code from class\n",
    "\n",
    "X = new_df['counts_pictures'].to_numpy() #get the explanatory variable\n",
    "X = X.reshape(-1, 1)\n",
    "\n",
    "y = new_df['counts_kisses'].to_numpy()  #get the response variable\n",
    "y = y.reshape(-1, 1)\n",
    "\n",
    "lr_model_2 = LinearRegression(fit_intercept=True) #initialize the regression model\n",
    "lr_model_2 = lr_model_2.fit(X, y)                   #fit the data to the model i.e. find the line of best fit\n",
    "\n",
    "#display the parameters for the slope and intercept\n",
    "print('The intercept is: ', lr_model_2.intercept_[0])\n",
    "print('The slope is: ', lr_model_2.coef_[0,0])"
   ]
  },
  {
   "cell_type": "code",
   "execution_count": 39,
   "id": "137705a3",
   "metadata": {},
   "outputs": [
    {
     "name": "stdout",
     "output_type": "stream",
     "text": [
      "r-squared for the kisses and counts of pictures slr is:  0.13547\n"
     ]
    }
   ],
   "source": [
    "#get r-squared, i.e. the coefficient of determination\n",
    "r_sqrd = lr_model_2.score(X, y)\n",
    "r_sqrd = round(r_sqrd, 5)\n",
    "\n",
    "print('r-squared for the kisses and counts of pictures slr is: ', r_sqrd)"
   ]
  },
  {
   "cell_type": "code",
   "execution_count": 40,
   "id": "92462b12",
   "metadata": {},
   "outputs": [
    {
     "data": {
      "image/png": "[encoded data removed]",
      "text/plain": [
       "<Figure size 640x480 with 1 Axes>"
      ]
     },
     "metadata": {},
     "output_type": "display_data"
    }
   ],
   "source": [
    "#Lets visualize this data again and show the trend line\n",
    "sns.regplot(data=new_df, x='counts_profileVisits', y='counts_kisses') #display the trend line using regplot\n",
    "plt.show()"
   ]
  },
  {
   "cell_type": "code",
   "execution_count": 41,
   "id": "d48d2edb",
   "metadata": {},
   "outputs": [
    {
     "name": "stdout",
     "output_type": "stream",
     "text": [
      "The intercept is:  -24.45246263624449\n",
      "The slope is:  0.04886081916979278\n"
     ]
    }
   ],
   "source": [
    "# simple linear regression for kisses x count of profile visits   \n",
    "from sklearn.linear_model import LinearRegression\n",
    "import numpy as np\n",
    "\n",
    "# code from class\n",
    "\n",
    "X = new_df['counts_profileVisits'].to_numpy() #get the explanatory variable\n",
    "X = X.reshape(-1, 1)\n",
    "\n",
    "y = new_df['counts_kisses'].to_numpy()  #get the response variable\n",
    "y = y.reshape(-1, 1)\n",
    "\n",
    "lr_model_3 = LinearRegression(fit_intercept=True) #initialize the regression model\n",
    "lr_model_3 = lr_model_3.fit(X, y)                   #fit the data to the model i.e. find the line of best fit\n",
    "\n",
    "#display the parameters for the slope and intercept\n",
    "print('The intercept is: ', lr_model_3.intercept_[0])\n",
    "print('The slope is: ', lr_model_3.coef_[0,0])"
   ]
  },
  {
   "cell_type": "code",
   "execution_count": 42,
   "id": "571c6323",
   "metadata": {},
   "outputs": [
    {
     "name": "stdout",
     "output_type": "stream",
     "text": [
      "r-squared for the kisses and counts of profile visits slr is:  0.78432\n"
     ]
    }
   ],
   "source": [
    "#get r-squared, i.e. the coefficient of determination\n",
    "r_sqrd = lr_model_3.score(X, y)\n",
    "r_sqrd = round(r_sqrd, 5)\n",
    "\n",
    "print('r-squared for the kisses and counts of profile visits slr is: ', r_sqrd)"
   ]
  },
  {
   "cell_type": "code",
   "execution_count": 43,
   "id": "bb6d6435",
   "metadata": {},
   "outputs": [
    {
     "data": {
      "image/png": "[encoded data removed]",
      "text/plain": [
       "<Figure size 640x480 with 1 Axes>"
      ]
     },
     "metadata": {},
     "output_type": "display_data"
    }
   ],
   "source": [
    "#Lets visualize this data again and show the trend line\n",
    "sns.regplot(data=new_df, x='counts_fans', y='counts_kisses') #display the trend line using regplot\n",
    "plt.show()"
   ]
  },
  {
   "cell_type": "code",
   "execution_count": 44,
   "id": "4aeaadd2",
   "metadata": {},
   "outputs": [
    {
     "name": "stdout",
     "output_type": "stream",
     "text": [
      "The intercept is:  147.55113479405338\n",
      "The slope is:  3.8744899605426264\n"
     ]
    }
   ],
   "source": [
    "# simple linear regression for kisses x count of fans  \n",
    "from sklearn.linear_model import LinearRegression\n",
    "import numpy as np\n",
    "\n",
    "# code from class\n",
    "\n",
    "X = new_df['counts_fans'].to_numpy() #get the explanatory variable\n",
    "X = X.reshape(-1, 1)\n",
    "\n",
    "y = new_df['counts_kisses'].to_numpy()  #get the response variable\n",
    "y = y.reshape(-1, 1)\n",
    "\n",
    "lr_model_4 = LinearRegression(fit_intercept=True) #initialize the regression model\n",
    "lr_model_4 = lr_model_3.fit(X, y)                   #fit the data to the model i.e. find the line of best fit\n",
    "\n",
    "#display the parameters for the slope and intercept\n",
    "print('The intercept is: ', lr_model_4.intercept_[0])\n",
    "print('The slope is: ', lr_model_4.coef_[0,0])"
   ]
  },
  {
   "cell_type": "code",
   "execution_count": 45,
   "id": "6513bc84",
   "metadata": {},
   "outputs": [
    {
     "name": "stdout",
     "output_type": "stream",
     "text": [
      "r-squared for the kisses and counts of pictures slr is:  0.01576\n"
     ]
    }
   ],
   "source": [
    "#get r-squared, i.e. the coefficient of determination\n",
    "r_sqrd = lr_model_4.score(X, y)\n",
    "r_sqrd = round(r_sqrd, 5)\n",
    "\n",
    "print('r-squared for the kisses and counts of pictures slr is: ', r_sqrd)"
   ]
  },
  {
   "cell_type": "code",
   "execution_count": 46,
   "id": "33edf0be",
   "metadata": {},
   "outputs": [
    {
     "data": {
      "image/png": "[encoded data removed]",
      "text/plain": [
       "<Figure size 640x480 with 1 Axes>"
      ]
     },
     "metadata": {},
     "output_type": "display_data"
    }
   ],
   "source": [
    "#Lets visualize this data again and show the trend line\n",
    "sns.regplot(data=new_df, x='isOnline', y='counts_kisses') #display the trend line using regplot\n",
    "plt.show()"
   ]
  },
  {
   "cell_type": "code",
   "execution_count": 47,
   "id": "9fd20f2c",
   "metadata": {},
   "outputs": [
    {
     "name": "stdout",
     "output_type": "stream",
     "text": [
      "The intercept is:  190.28157099697887\n",
      "The slope is:  -57.53445931533576\n"
     ]
    }
   ],
   "source": [
    "# simple linear regression for kisses x is Online  \n",
    "from sklearn.linear_model import LinearRegression\n",
    "import numpy as np\n",
    "\n",
    "# code from class\n",
    "\n",
    "X = new_df['isOnline'].to_numpy() #get the explanatory variable\n",
    "X = X.reshape(-1, 1)\n",
    "\n",
    "y = new_df['counts_kisses'].to_numpy()  #get the response variable\n",
    "y = y.reshape(-1, 1)\n",
    "\n",
    "lr_model_5 = LinearRegression(fit_intercept=True) #initialize the regression model\n",
    "lr_model_5 = lr_model_5.fit(X, y)                   #fit the data to the model i.e. find the line of best fit\n",
    "\n",
    "#display the parameters for the slope and intercept\n",
    "print('The intercept is: ', lr_model_5.intercept_[0])\n",
    "print('The slope is: ', lr_model_5.coef_[0,0])"
   ]
  },
  {
   "cell_type": "code",
   "execution_count": 48,
   "id": "60f35f88",
   "metadata": {},
   "outputs": [
    {
     "name": "stdout",
     "output_type": "stream",
     "text": [
      "r-squared for the kisses and isOnline slr is:  0.00563\n"
     ]
    }
   ],
   "source": [
    "#get r-squared, i.e. the coefficient of determination\n",
    "r_sqrd = lr_model_5.score(X, y)\n",
    "r_sqrd = round(r_sqrd, 5)\n",
    "\n",
    "print('r-squared for the kisses and isOnline slr is: ', r_sqrd)"
   ]
  },
  {
   "cell_type": "code",
   "execution_count": 49,
   "id": "b89125c9",
   "metadata": {},
   "outputs": [
    {
     "data": {
      "image/png": "[encoded data removed]",
      "text/plain": [
       "<Figure size 640x480 with 1 Axes>"
      ]
     },
     "metadata": {},
     "output_type": "display_data"
    }
   ],
   "source": [
    "#Lets visualize this data again and show the trend line\n",
    "sns.regplot(data=new_df, x='verified', y='counts_kisses') #display the trend line using regplot\n",
    "plt.show()"
   ]
  },
  {
   "cell_type": "code",
   "execution_count": 50,
   "id": "e483def7",
   "metadata": {},
   "outputs": [
    {
     "name": "stdout",
     "output_type": "stream",
     "text": [
      "The intercept is:  123.8564547206166\n",
      "The slope is:  148.87361361651313\n"
     ]
    }
   ],
   "source": [
    "# simple linear regression for kisses x is Online  \n",
    "from sklearn.linear_model import LinearRegression\n",
    "import numpy as np\n",
    "\n",
    "# code from class\n",
    "\n",
    "X = new_df['verified'].to_numpy() #get the explanatory variable\n",
    "X = X.reshape(-1, 1)\n",
    "\n",
    "y = new_df['counts_kisses'].to_numpy()  #get the response variable\n",
    "y = y.reshape(-1, 1)\n",
    "\n",
    "lr_model_6 = LinearRegression(fit_intercept=True) #initialize the regression model\n",
    "lr_model_6 = lr_model_6.fit(X, y)                   #fit the data to the model i.e. find the line of best fit\n",
    "\n",
    "#display the parameters for the slope and intercept\n",
    "print('The intercept is: ', lr_model_6.intercept_[0])\n",
    "print('The slope is: ', lr_model_6.coef_[0,0])"
   ]
  },
  {
   "cell_type": "code",
   "execution_count": 51,
   "id": "9ec090fa",
   "metadata": {},
   "outputs": [
    {
     "name": "stdout",
     "output_type": "stream",
     "text": [
      "r-squared for the kisses and verified slr is:  0.02667\n"
     ]
    }
   ],
   "source": [
    "#get r-squared, i.e. the coefficient of determination\n",
    "r_sqrd = lr_model_6.score(X, y)\n",
    "r_sqrd = round(r_sqrd, 5)\n",
    "\n",
    "print('r-squared for the kisses and verified slr is: ', r_sqrd)"
   ]
  },
  {
   "cell_type": "code",
   "execution_count": 52,
   "id": "2ca758cd",
   "metadata": {},
   "outputs": [
    {
     "data": {
      "image/png": "[encoded data removed]",
      "text/plain": [
       "<Figure size 640x480 with 1 Axes>"
      ]
     },
     "metadata": {},
     "output_type": "display_data"
    }
   ],
   "source": [
    "#Lets visualize this data again and show the trend line\n",
    "sns.regplot(data=new_df, x='distance', y='counts_kisses') #display the trend line using regplot\n",
    "plt.show()"
   ]
  },
  {
   "cell_type": "code",
   "execution_count": 53,
   "id": "f745213a",
   "metadata": {},
   "outputs": [
    {
     "data": {
      "text/plain": [
       "<bound method IndexOpsMixin.value_counts of 0       175.000000\n",
       "1       138.000000\n",
       "2       137.000000\n",
       "3        77.300000\n",
       "4       286.000000\n",
       "           ...    \n",
       "3987    207.230005\n",
       "3988    207.230005\n",
       "3989    207.230005\n",
       "3990    207.230005\n",
       "3991    207.230005\n",
       "Name: distance, Length: 3992, dtype: float64>"
      ]
     },
     "execution_count": 53,
     "metadata": {},
     "output_type": "execute_result"
    }
   ],
   "source": [
    "new_df['distance'].value_counts"
   ]
  },
  {
   "cell_type": "code",
   "execution_count": 54,
   "id": "1f6ef36c",
   "metadata": {},
   "outputs": [
    {
     "name": "stdout",
     "output_type": "stream",
     "text": [
      "The intercept is:  172.53642724741292\n",
      "The slope is:  -0.0769035731256837\n"
     ]
    }
   ],
   "source": [
    "# simple linear regression for kisses x is Online  \n",
    "from sklearn.linear_model import LinearRegression\n",
    "import numpy as np\n",
    "\n",
    "# code from class\n",
    "\n",
    "X = new_df['distance'].to_numpy() #get the explanatory variable\n",
    "X = X.reshape(-1, 1)\n",
    "\n",
    "y = new_df['counts_kisses'].to_numpy()  #get the response variable\n",
    "y = y.reshape(-1, 1)\n",
    "\n",
    "lr_model_7 = LinearRegression(fit_intercept=True) #initialize the regression model\n",
    "lr_model_7 = lr_model_7.fit(X, y)                   #fit the data to the model i.e. find the line of best fit\n",
    "\n",
    "#display the parameters for the slope and intercept\n",
    "print('The intercept is: ', lr_model_7.intercept_[0])\n",
    "print('The slope is: ', lr_model_7.coef_[0,0])"
   ]
  },
  {
   "cell_type": "code",
   "execution_count": 55,
   "id": "9352405b",
   "metadata": {},
   "outputs": [
    {
     "name": "stdout",
     "output_type": "stream",
     "text": [
      "r-squared for the kisses and distance slr is:  0.00158\n"
     ]
    }
   ],
   "source": [
    "#get r-squared, i.e. the coefficient of determination\n",
    "r_sqrd = lr_model_7.score(X, y)\n",
    "r_sqrd = round(r_sqrd, 5)\n",
    "\n",
    "print('r-squared for the kisses and distance slr is: ', r_sqrd)"
   ]
  },
  {
   "cell_type": "markdown",
   "id": "b9ee143c",
   "metadata": {},
   "source": [
    "### Tuning Hyperparameters - Simple Linear Regression\n",
    "Considering lr_model_3 had the best r2 score, we will be tuning the hyperparameters for this model only."
   ]
  },
  {
   "cell_type": "code",
   "execution_count": 107,
   "id": "396be2af",
   "metadata": {},
   "outputs": [
    {
     "name": "stdout",
     "output_type": "stream",
     "text": [
      "Fitting 3 folds for each of 8 candidates, totalling 24 fits\n",
      "\n",
      "[CV] END bootstrap=False, max_depth=25, max_features=None, min_samples_leaf=4, min_samples_split=2, n_estimators=50; total time=   0.6s\n",
      "[CV] END bootstrap=False, max_depth=25, max_features=None, min_samples_leaf=4, min_samples_split=6, n_estimators=50; total time=   0.5s\n",
      "[CV] END bootstrap=False, max_depth=None, max_features=sqrt, min_samples_leaf=1, min_samples_split=2, n_estimators=50; total time=   0.3s\n",
      "[CV] END bootstrap=False, max_depth=None, max_features=sqrt, min_samples_leaf=1, min_samples_split=2, n_estimators=100; total time=   0.5s\n",
      "[CV] END bootstrap=False, max_depth=None, max_features=sqrt, min_samples_leaf=4, min_samples_split=2, n_estimators=100; total time=   0.4s\n",
      "[CV] END bootstrap=False, max_depth=None, max_features=None, min_samples_leaf=1, min_samples_split=2, n_estimators=50; total time=   0.6s\n",
      "[CV] END bootstrap=False, max_depth=None, max_features=None, min_samples_leaf=1, min_samples_split=6, n_estimators=100; total time=   1.0s\n",
      "[CV] END bootstrap=False, max_depth=None, max_features=None, min_samples_leaf=4, min_samples_split=6, n_estimators=100; total time=   1.0s\n",
      "[CV] END bootstrap=True, max_depth=10, max_features=sqrt, min_samples_leaf=1, min_samples_split=2, n_estimators=100; total time=   0.5s\n",
      "[CV] END bootstrap=True, max_depth=10, max_features=sqrt, min_samples_leaf=4, min_samples_split=2, n_estimators=100; total time=   0.5s\n",
      "[CV] END bootstrap=True, max_depth=10, max_features=None, min_samples_leaf=1, min_samples_split=2, n_estimators=50; total time=   0.5s\n",
      "[CV] END bootstrap=True, max_depth=10, max_features=None, min_samples_leaf=1, min_samples_split=6, n_estimators=100; total time=   0.9s\n",
      "[CV] END bootstrap=True, max_depth=10, max_features=None, min_samples_leaf=4, min_samples_split=6, n_estimators=100; total time=   0.9s\n",
      "[CV] END bootstrap=True, max_depth=25, max_features=sqrt, min_samples_leaf=1, min_samples_split=6, n_estimators=50; total time=   0.2s\n",
      "[CV] END bootstrap=True, max_depth=25, max_features=sqrt, min_samples_leaf=1, min_samples_split=6, n_estimators=100; total time=   0.5s\n",
      "[CV] END bootstrap=True, max_depth=25, max_features=sqrt, min_samples_leaf=4, min_samples_split=6, n_estimators=100; total time=   0.4s\n",
      "[CV] END bootstrap=True, max_depth=25, max_features=None, min_samples_leaf=1, min_samples_split=2, n_estimators=100; total time=   0.8s\n",
      "[CV] END bootstrap=True, max_depth=25, max_features=None, min_samples_leaf=4, min_samples_split=2, n_estimators=100; total time=   0.8s\n",
      "[CV] END bootstrap=True, max_depth=None, max_features=sqrt, min_samples_leaf=1, min_samples_split=2, n_estimators=100; total time=   0.5s\n",
      "[CV] END bootstrap=True, max_depth=None, max_features=sqrt, min_samples_leaf=4, min_samples_split=2, n_estimators=100; total time=   0.4s\n",
      "[CV] END bootstrap=True, max_depth=None, max_features=None, min_samples_leaf=1, min_samples_split=2, n_estimators=50; total time=   0.4s\n",
      "[CV] END bootstrap=True, max_depth=None, max_features=None, min_samples_leaf=1, min_samples_split=6, n_estimators=100; total time=   0.8s\n",
      "[CV] END bootstrap=True, max_depth=None, max_features=None, min_samples_leaf=4, min_samples_split=6, n_estimators=50; total time=   0.3s\n",
      "[CV] END bootstrap=False, max_depth=10, max_features=sqrt, min_samples_leaf=1, min_samples_split=2, n_estimators=50; total time=   0.3s\n",
      "[CV] END bootstrap=False, max_depth=10, max_features=sqrt, min_samples_leaf=1, min_samples_split=2, n_estimators=100; total time=   0.5s\n",
      "[CV] END bootstrap=False, max_depth=10, max_features=sqrt, min_samples_leaf=4, min_samples_split=2, n_estimators=100; total time=   0.5s\n",
      "[CV] END bootstrap=False, max_depth=10, max_features=None, min_samples_leaf=1, min_samples_split=2, n_estimators=50; total time=   0.4s\n",
      "[CV] END bootstrap=False, max_depth=10, max_features=None, min_samples_leaf=1, min_samples_split=6, n_estimators=100; total time=   1.0s\n",
      "[CV] END bootstrap=False, max_depth=10, max_features=None, min_samples_leaf=4, min_samples_split=6, n_estimators=50; total time=   0.5s\n",
      "[CV] END bootstrap=False, max_depth=25, max_features=sqrt, min_samples_leaf=1, min_samples_split=2, n_estimators=50; total time=   0.3s\n",
      "[CV] END bootstrap=False, max_depth=25, max_features=sqrt, min_samples_leaf=1, min_samples_split=2, n_estimators=100; total time=   0.5s\n",
      "[CV] END bootstrap=False, max_depth=25, max_features=sqrt, min_samples_leaf=4, min_samples_split=2, n_estimators=100; total time=   0.4s\n",
      "[CV] END bootstrap=False, max_depth=25, max_features=None, min_samples_leaf=1, min_samples_split=2, n_estimators=50; total time=   0.5s\n",
      "[CV] END bootstrap=False, max_depth=25, max_features=None, min_samples_leaf=1, min_samples_split=6, n_estimators=50; total time=   0.5s\n",
      "[CV] END bootstrap=False, max_depth=25, max_features=None, min_samples_leaf=4, min_samples_split=2, n_estimators=50; total time=   0.6s\n",
      "[CV] END bootstrap=False, max_depth=25, max_features=None, min_samples_leaf=4, min_samples_split=6, n_estimators=50; total time=   0.6s\n",
      "[CV] END bootstrap=False, max_depth=25, max_features=None, min_samples_leaf=4, min_samples_split=6, n_estimators=100; total time=   1.3s\n",
      "[CV] END bootstrap=False, max_depth=None, max_features=sqrt, min_samples_leaf=4, min_samples_split=2, n_estimators=100; total time=   0.9s\n",
      "[CV] END bootstrap=False, max_depth=None, max_features=None, min_samples_leaf=1, min_samples_split=2, n_estimators=100; total time=   1.4s\n",
      "[CV] END bootstrap=False, max_depth=None, max_features=None, min_samples_leaf=4, min_samples_split=2, n_estimators=50; total time=   0.6s\n",
      "[CV] END bootstrap=False, max_depth=None, max_features=None, min_samples_leaf=4, min_samples_split=6, n_estimators=50; total time=   0.5s\n",
      "[CV] END bootstrap=True, max_depth=10, max_features=sqrt, min_samples_leaf=1, min_samples_split=6, n_estimators=50; total time=   0.3s\n",
      "[CV] END bootstrap=True, max_depth=10, max_features=sqrt, min_samples_leaf=4, min_samples_split=2, n_estimators=50; total time=   0.2s\n",
      "[CV] END bootstrap=True, max_depth=10, max_features=sqrt, min_samples_leaf=4, min_samples_split=2, n_estimators=100"
     ]
    },
    {
     "name": "stderr",
     "output_type": "stream",
     "text": [
      "/opt/anaconda3/lib/python3.8/site-packages/sklearn/linear_model/_base.py:141: FutureWarning: 'normalize' was deprecated in version 1.0 and will be removed in 1.2.\n",
      "If you wish to scale the data, use Pipeline with a StandardScaler in a preprocessing stage. To reproduce the previous behavior:\n",
      "\n",
      "from sklearn.pipeline import make_pipeline\n",
      "\n",
      "model = make_pipeline(StandardScaler(with_mean=False), LinearRegression())\n",
      "\n",
      "If you wish to pass a sample_weight parameter, you need to pass it as a fit parameter to each step of the pipeline as follows:\n",
      "\n",
      "kwargs = {s[0] + '__sample_weight': sample_weight for s in model.steps}\n",
      "model.fit(X, y, **kwargs)\n",
      "\n",
      "\n",
      "  warnings.warn(\n",
      "/opt/anaconda3/lib/python3.8/site-packages/sklearn/linear_model/_base.py:141: FutureWarning: 'normalize' was deprecated in version 1.0 and will be removed in 1.2.\n",
      "If you wish to scale the data, use Pipeline with a StandardScaler in a preprocessing stage. To reproduce the previous behavior:\n",
      "\n",
      "from sklearn.pipeline import make_pipeline\n",
      "\n",
      "model =/opt/anaconda3/lib/python3.8/site-packages/sklearn/linear_model/_base.py:141: FutureWarning: 'normalize' was deprecated in version 1.0 and will be removed in 1.2.\n",
      "If you wish to scale the data, use Pipeline with a StandardScaler in a preprocessing stage. To reproduce the previous behavior:\n",
      "\n",
      "from sklearn.pipeline import make_pipeline\n",
      "\n",
      "model = make_pipeline(StandardScaler(with_mean=False), LinearRegression())\n",
      "\n",
      "If you wish to pass a sample_weight parameter, you need to pass it as a fit parameter to each step of the pipeline as follows:\n",
      "\n",
      "kwargs = {s[0] + '__sample_weight': sample_weight for s in model.steps}\n",
      "model.fit(X, y, **kwargs)\n",
      "\n",
      "\n",
      "  warnings.warn(\n",
      "/opt/anaconda3/lib/python3.8/site-packages/sklearn/linear_model/_base.py:141: FutureWarning: 'normalize' was deprecated in version 1.0 and will be removed in 1.2.\n",
      "If you wish to scale the data, use Pipeline with a StandardScaler in a preprocessing stage. To reproduce the previous behavior:\n",
      "\n",
      "from sklearn.pipeline import make_pipeline\n",
      "\n",
      "model = make_pipeline(StandardScaler(with_mean=False), LinearRegression())\n",
      "\n",
      "If you wish to pass a sample_weight parameter, you need to pass it as a fit parameter to each step of the pipeline as follows:\n",
      "\n",
      "kwargs = {s[0] + '__sample_weight': sample_weight for s in model.steps}\n",
      "model.fit(X, y, **kwargs)\n",
      "\n",
      "\n",
      "  warnings.warn(\n"
     ]
    },
    {
     "data": {
      "text/html": [
       "<style>#sk-container-id-6 {color: black;background-color: white;}#sk-container-id-6 pre{padding: 0;}#sk-container-id-6 div.sk-toggleable {background-color: white;}#sk-container-id-6 label.sk-toggleable__label {cursor: pointer;display: block;width: 100%;margin-bottom: 0;padding: 0.3em;box-sizing: border-box;text-align: center;}#sk-container-id-6 label.sk-toggleable__label-arrow:before {content: \"▸\";float: left;margin-right: 0.25em;color: #696969;}#sk-container-id-6 label.sk-toggleable__label-arrow:hover:before {color: black;}#sk-container-id-6 div.sk-estimator:hover label.sk-toggleable__label-arrow:before {color: black;}#sk-container-id-6 div.sk-toggleable__content {max-height: 0;max-width: 0;overflow: hidden;text-align: left;background-color: #f0f8ff;}#sk-container-id-6 div.sk-toggleable__content pre {margin: 0.2em;color: black;border-radius: 0.25em;background-color: #f0f8ff;}#sk-container-id-6 input.sk-toggleable__control:checked~div.sk-toggleable__content {max-height: 200px;max-width: 100%;overflow: auto;}#sk-container-id-6 input.sk-toggleable__control:checked~label.sk-toggleable__label-arrow:before {content: \"▾\";}#sk-container-id-6 div.sk-estimator input.sk-toggleable__control:checked~label.sk-toggleable__label {background-color: #d4ebff;}#sk-container-id-6 div.sk-label input.sk-toggleable__control:checked~label.sk-toggleable__label {background-color: #d4ebff;}#sk-container-id-6 input.sk-hidden--visually {border: 0;clip: rect(1px 1px 1px 1px);clip: rect(1px, 1px, 1px, 1px);height: 1px;margin: -1px;overflow: hidden;padding: 0;position: absolute;width: 1px;}#sk-container-id-6 div.sk-estimator {font-family: monospace;background-color: #f0f8ff;border: 1px dotted black;border-radius: 0.25em;box-sizing: border-box;margin-bottom: 0.5em;}#sk-container-id-6 div.sk-estimator:hover {background-color: #d4ebff;}#sk-container-id-6 div.sk-parallel-item::after {content: \"\";width: 100%;border-bottom: 1px solid gray;flex-grow: 1;}#sk-container-id-6 div.sk-label:hover label.sk-toggleable__label {background-color: #d4ebff;}#sk-container-id-6 div.sk-serial::before {content: \"\";position: absolute;border-left: 1px solid gray;box-sizing: border-box;top: 0;bottom: 0;left: 50%;z-index: 0;}#sk-container-id-6 div.sk-serial {display: flex;flex-direction: column;align-items: center;background-color: white;padding-right: 0.2em;padding-left: 0.2em;position: relative;}#sk-container-id-6 div.sk-item {position: relative;z-index: 1;}#sk-container-id-6 div.sk-parallel {display: flex;align-items: stretch;justify-content: center;background-color: white;position: relative;}#sk-container-id-6 div.sk-item::before, #sk-container-id-6 div.sk-parallel-item::before {content: \"\";position: absolute;border-left: 1px solid gray;box-sizing: border-box;top: 0;bottom: 0;left: 50%;z-index: -1;}#sk-container-id-6 div.sk-parallel-item {display: flex;flex-direction: column;z-index: 1;position: relative;background-color: white;}#sk-container-id-6 div.sk-parallel-item:first-child::after {align-self: flex-end;width: 50%;}#sk-container-id-6 div.sk-parallel-item:last-child::after {align-self: flex-start;width: 50%;}#sk-container-id-6 div.sk-parallel-item:only-child::after {width: 0;}#sk-container-id-6 div.sk-dashed-wrapped {border: 1px dashed gray;margin: 0 0.4em 0.5em 0.4em;box-sizing: border-box;padding-bottom: 0.4em;background-color: white;}#sk-container-id-6 div.sk-label label {font-family: monospace;font-weight: bold;display: inline-block;line-height: 1.2em;}#sk-container-id-6 div.sk-label-container {text-align: center;}#sk-container-id-6 div.sk-container {/* jupyter's `normalize.less` sets `[hidden] { display: none; }` but bootstrap.min.css set `[hidden] { display: none !important; }` so we also need the `!important` here to be able to override the default hidden behavior on the sphinx rendered scikit-learn.org. See: https://github.com/scikit-learn/scikit-learn/issues/21755 */display: inline-block !important;position: relative;}#sk-container-id-6 div.sk-text-repr-fallback {display: none;}</style><div id=\"sk-container-id-6\" class=\"sk-top-container\"><div class=\"sk-text-repr-fallback\"><pre>LinearRegression(fit_intercept=False, normalize=True)</pre><b>In a Jupyter environment, please rerun this cell to show the HTML representation or trust the notebook. <br />On GitHub, the HTML representation is unable to render, please try loading this page with nbviewer.org.</b></div><div class=\"sk-container\" hidden><div class=\"sk-item\"><div class=\"sk-estimator sk-toggleable\"><input class=\"sk-toggleable__control sk-hidden--visually\" id=\"sk-estimator-id-8\" type=\"checkbox\" checked><label for=\"sk-estimator-id-8\" class=\"sk-toggleable__label sk-toggleable__label-arrow\">LinearRegression</label><div class=\"sk-toggleable__content\"><pre>LinearRegression(fit_intercept=False, normalize=True)</pre></div></div></div></div></div>"
      ],
      "text/plain": [
       "LinearRegression(fit_intercept=False, normalize=True)"
      ]
     },
     "execution_count": 107,
     "metadata": {},
     "output_type": "execute_result"
    },
    {
     "name": "stdout",
     "output_type": "stream",
     "text": [
      "; total time=   0.5s\n",
      "[CV] END bootstrap=True, max_depth=10, max_features=None, min_samples_leaf=1, min_samples_split=2, n_estimators=100; total time=   0.9s\n",
      "[CV] END bootstrap=True, max_depth=10, max_features=None, min_samples_leaf=4, min_samples_split=2, n_estimators=100; total time=   0.8s\n",
      "[CV] END bootstrap=True, max_depth=25, max_features=sqrt, min_samples_leaf=1, min_samples_split=2, n_estimators=100; total time=   0.6s\n",
      "[CV] END bootstrap=True, max_depth=25, max_features=sqrt, min_samples_leaf=1, min_samples_split=6, n_estimators=100; total time=   0.5s\n",
      "[CV] END bootstrap=True, max_depth=25, max_features=sqrt, min_samples_leaf=4, min_samples_split=6, n_estimators=100; total time=   0.5s\n",
      "[CV] END bootstrap=True, max_depth=25, max_features=None, min_samples_leaf=1, min_samples_split=6, n_estimators=50; total time=   0.5s\n",
      "[CV] END bootstrap=True, max_depth=25, max_features=None, min_samples_leaf=1, min_samples_split=6, n_estimators=100; total time=   0.9s\n",
      "[CV] END bootstrap=True, max_depth=None, max_features=sqrt, min_samples_leaf=1, min_samples_split=2, n_estimators=50; total time=   0.3s\n",
      "[CV] END bootstrap=True, max_depth=None, max_features=sqrt, min_samples_leaf=1, min_samples_split=2, n_estimators=100; total time=   0.6s\n",
      "[CV] END bootstrap=True, max_depth=None, max_features=sqrt, min_samples_leaf=4, min_samples_split=2, n_estimators=100; total time=   0.5s\n",
      "[CV] END bootstrap=True, max_depth=None, max_features=None, min_samples_leaf=1, min_samples_split=2, n_estimators=50; total time=   0.4s\n",
      "[CV] END bootstrap=True, max_depth=None, max_features=None, min_samples_leaf=1, min_samples_split=6, n_estimators=50; total time=   0.4s\n",
      "[CV] END bootstrap=True, max_depth=None, max_features=None, min_samples_leaf=1, min_samples_split=6, n_estimators=100; total time=   0.9s\n",
      "[CV] END bootstrap=False, max_depth=10, max_features=sqrt, min_samples_leaf=1, min_samples_split=2, n_estimators=50; total time=   0.3s\n",
      "[CV] END bootstrap=False, max_depth=10, max_features=sqrt, min_samples_leaf=1, min_samples_split=2, n_estimators=100; total time=   0.5s\n",
      "[CV] END bootstrap=False, max_depth=10, max_features=sqrt, min_samples_leaf=4, min_samples_split=2, n_estimators=100; total time=   0.5s"
     ]
    },
    {
     "name": "stderr",
     "output_type": "stream",
     "text": [
      " make_pipeline(StandardScaler(with_mean=False), LinearRegression())\n",
      "\n",
      "If you wish to pass a sample_weight parameter, you need to pass it as a fit parameter to each step of the pipeline as follows:\n",
      "\n",
      "kwargs = {s[0] + '__sample_weight': sample_weight for s in model.steps}\n",
      "model.fit(X, y, **kwargs)\n",
      "\n",
      "\n",
      "  warnings.warn(\n",
      "/opt/anaconda3/lib/python3.8/site-packages/sklearn/linear_model/_base.py:148: FutureWarning: 'normalize' was deprecated in version 1.0 and will be removed in 1.2. Please leave the normalize parameter to its default value to silence this warning. The default behavior of this estimator is to not do any normalization. If normalization is needed please use sklearn.preprocessing.StandardScaler instead.\n",
      "  warnings.warn(\n",
      "/opt/anaconda3/lib/python3.8/site-packages/sklearn/linear_model/_base.py:141: FutureWarning: 'normalize' was deprecated in version 1.0 and will be removed in 1.2.\n",
      "If you wish to scale the data, use Pipeline with a StandardScaler in a preprocessing stage. To reproduce the previous behavior:\n",
      "\n",
      "from sklearn.pipeline import make_pipeline\n",
      "\n",
      "model = make_pipeline(StandardScaler(with_mean=False), LinearRegression())\n",
      "\n",
      "If you wish to pass a sample_weight parameter, you need to pass it as a fit parameter to each step of the pipeline as follows:\n",
      "\n",
      "kwargs = {s[0] + '__sample_weight': sample_weight for s in model.steps}\n",
      "model.fit(X, y, **kwargs)\n",
      "\n",
      "\n",
      "  warnings.warn(\n",
      "/opt/anaconda3/lib/python3.8/site-packages/sklearn/linear_model/_base.py:148: FutureWarning: 'normalize' was deprecated in version 1.0 and will be removed in 1.2. Please leave the normalize parameter to its default value to silence this warning. The default behavior of this estimator is to not do any normalization. If normalization is needed please use sklearn.preprocessing.StandardScaler instead.\n",
      "  warnings.warn(\n",
      "/opt/anaconda3/lib/python3.8/site-packages/sklearn/linear_model/_base.py:141: FutureWarning: 'normalize' was deprecated in version 1.0 and will be removed in 1.2.\n",
      "If you wish to scale the data, use Pipeline with a StandardScaler in a preprocessing stage. To reproduce the previous behavior:\n",
      "\n",
      "from sklearn.pipeline import make_pipeline\n",
      "\n",
      "model = make_pipeline(StandardScaler(with_mean=False), LinearRegression())\n",
      "\n",
      "If you wish to pass a sample_weight parameter, you need to pass it as a fit parameter to each step of the pipeline as follows:\n",
      "\n",
      "kwargs = {s[0] + '__sample_weight': sample_weight for s in model.steps}\n",
      "model.fit(X, y, **kwargs)\n",
      "\n",
      "\n",
      "  warnings.warn(\n",
      "/opt/anaconda3/lib/python3.8/site-packages/sklearn/linear_model/_base.py:141: FutureWarning: 'normalize' was deprecated in version 1.0 and will be removed in 1.2.\n",
      "If you wish to scale the data, use Pipeline with a StandardScaler in a preprocessing stage. To reproduce the previous behavior:\n",
      "\n",
      "from sklearn.pipeline import make_pipeline\n",
      "\n",
      "model = make_pipeline(StandardScaler(with_mean=False), LinearRegression())\n",
      "\n",
      "If you wish to pass a sample_weight parameter, you need to pass it as a fit parameter to each step of the pipeline as follows:\n",
      "\n",
      "kwargs = {s[0] + '__sample_weight': sample_weight for s in model.steps}\n",
      "model.fit(X, y, **kwargs)\n",
      "\n",
      "\n",
      "  warnings.warn(\n",
      "/opt/anaconda3/lib/python3.8/site-packages/sklearn/linear_model/_base.py:141: FutureWarning: 'normalize' was deprecated in version 1.0 and will be removed in 1.2.\n",
      "If you wish to scale the data, use Pipeline with a StandardScaler in a preprocessing stage. To reproduce the previous behavior:\n",
      "\n",
      "from sklearn.pipeline import make_pipeline\n",
      "\n",
      "model = make_pipeline(StandardScaler(with_mean=False), LinearRegression())\n",
      "\n",
      "If you wish to pass a sample_weight parameter, you need to pass it as a fit parameter to each step of the pipeline as follows:\n",
      "\n",
      "kwargs = {s[0] + '__sample_weight': sample_weight for s in model.steps}\n",
      "model.fit(X, y, **kwargs)\n",
      "\n",
      "\n",
      "  warnings.warn(\n",
      "/opt/anaconda3/lib/python3.8/site-packages/sklearn/linear_model/_base.py:148: FutureWarning: 'normalize' was deprecated in version 1.0 and will be removed in 1.2. Please leave the normalize parameter to its default value to silence this warning. The default behavior of this estimator is to not do any normalization. If normalization is needed please use sklearn.preprocessing.StandardScaler instead.\n",
      "  warnings.warn(\n",
      "/opt/anaconda3/lib/python3.8/site-packages/sklearn/linear_model/_base.py:148: FutureWarning: 'normalize' was deprecated in version 1.0 and will be removed in 1.2. Please leave the normalize parameter to its default value to silence this warning. The default behavior of this estimator is to not do any normalization. If normalization is needed please use sklearn.preprocessing.StandardScaler instead.\n",
      "  warnings.warn(\n",
      "/opt/anaconda3/lib/python3.8/site-packages/sklearn/linear_model/_base.py:148: FutureWarning: 'normalize' was deprecated in version 1.0 and will be removed in 1.2. Please leave the normalize parameter to its default value to silence this warning. The default behavior of this estimator is to not do any normalization. If normalization is needed please use sklearn.preprocessing.StandardScaler instead.\n",
      "  warnings.warn(\n",
      "/opt/anaconda3/lib/python3.8/site-packages/sklearn/linear_model/_base.py:148: FutureWarning: 'normalize' was deprecated in version 1.0 and will be removed in 1.2. Please leave the normalize parameter to its default value to silence this warning. The default behavior of this estimator is to not do any normalization. If normalization is needed please use sklearn.preprocessing.StandardScaler instead.\n",
      "  warnings.warn(\n",
      "/opt/anaconda3/lib/python3.8/site-packages/sklearn/linear_model/_base.py:148: FutureWarning: 'normalize' was deprecated in version 1.0 and will be removed in 1.2. Please leave the normalize parameter to its default value to silence this warning. The default behavior of this estimator is to not do any normalization. If normalization is needed please use sklearn.preprocessing.StandardScaler instead.\n",
      "  warnings.warn(\n",
      "/opt/anaconda3/lib/python3.8/site-packages/sklearn/linear_model/_base.py:148: FutureWarning: 'normalize' was deprecated in version 1.0 and will be removed in 1.2. Please leave the normalize parameter to its default value to silence this warning. The default behavior of this estimator is to not do any normalization. If normalization is needed please use sklearn.preprocessing.StandardScaler instead.\n",
      "  warnings.warn(\n",
      "/opt/anaconda3/lib/python3.8/site-packages/sklearn/linear_model/_base.py:141: FutureWarning: 'normalize' was deprecated in version 1.0 and will be removed in 1.2.\n",
      "If you wish to scale the data, use Pipeline with a StandardScaler in a preprocessing stage. To reproduce the previous behavior:\n",
      "\n",
      "from sklearn.pipeline import make_pipeline\n",
      "\n",
      "model = make_pipeline(StandardScaler(with_mean=False), LinearRegression())\n",
      "\n",
      "If you wish to pass a sample_weight parameter, you need to pass it as a fit parameter to each step of the pipeline as follows:\n",
      "\n",
      "kwargs = {s[0] + '__sample_weight': sample_weight for s in model.steps}\n",
      "model.fit(X, y, **kwargs)\n",
      "\n",
      "\n",
      "  warnings.warn(\n",
      "/opt/anaconda3/lib/python3.8/site-packages/sklearn/linear_model/_base.py:141: FutureWarning: 'normalize' was deprecated in version 1.0 and will be removed in 1.2.\n",
      "If you wish to scale the data, use Pipeline with a StandardScaler in a preprocessing stage. To reproduce the previous behavior:\n",
      "\n",
      "from sklearn.pipeline import make_pipeline\n",
      "\n",
      "model = make_pipeline(StandardScaler(with_mean=False), LinearRegression())\n",
      "\n",
      "If you wish to pass a sample_weight parameter, you need to pass it as a fit parameter to each step of the pipeline as follows:\n",
      "\n",
      "kwargs = {s[0] + '__sample_weight': sample_weight for s in model.steps}\n",
      "model.fit(X, y, **kwargs)\n",
      "\n",
      "\n",
      "  warnings.warn(\n"
     ]
    }
   ],
   "source": [
    "# Define the parameter grid\n",
    "param_grid = {\n",
    "    'fit_intercept': [True, False],\n",
    "    'normalize': [True, False],\n",
    "    'copy_X': [True, False]\n",
    "}\n",
    "\n",
    "# only use lr_model_3\n",
    "# simple linear regression for kisses x count of profile visits   \n",
    "X = new_df['counts_profileVisits'].to_numpy() #get the explanatory variable\n",
    "X = X.reshape(-1, 1)\n",
    "\n",
    "y = new_df['counts_kisses'].to_numpy()  #get the response variable\n",
    "y = y.reshape(-1, 1)\n",
    "\n",
    "# Instantiate the grid search model\n",
    "grid_search = GridSearchCV(estimator=lr_model_3, param_grid=param_grid, cv=3, n_jobs=-1, verbose=2)\n",
    "\n",
    "# Fit the grid search to the data\n",
    "grid_search.fit(X, y)\n",
    "\n",
    "# Get the best hyperparameters found\n",
    "best_params = grid_search.best_params_\n",
    "\n",
    "# Build the linear regression model using the best hyperparameters\n",
    "lr_model_3 = LinearRegression(**best_params)\n",
    "lr_model_3.fit(X, y)\n",
    "\n",
    "\n"
   ]
  },
  {
   "cell_type": "code",
   "execution_count": 109,
   "id": "0c192835",
   "metadata": {},
   "outputs": [
    {
     "name": "stdout",
     "output_type": "stream",
     "text": [
      "The new r-squared for the profile visits and kissesis:  0.78108\n",
      "\n",
      "[CV] END bootstrap=True, max_depth=None, max_features=sqrt, min_samples_leaf=4, min_samples_split=6, n_estimators=50; total time=   0.3s\n",
      "[CV] END bootstrap=True, max_depth=None, max_features=sqrt, min_samples_leaf=4, min_samples_split=6, n_estimators=100; total time=   0.4s\n",
      "[CV] END bootstrap=True, max_depth=None, max_features=None, min_samples_leaf=1, min_samples_split=6, n_estimators=100; total time=   0.8s\n",
      "[CV] END bootstrap=True, max_depth=None, max_features=None, min_samples_leaf=4, min_samples_split=2, n_estimators=100; total time=   0.9s\n",
      "[CV] END bootstrap=False, max_depth=10, max_features=sqrt, min_samples_leaf=1, min_samples_split=6, n_estimators=50; total time=   0.2s\n",
      "[CV] END bootstrap=False, max_depth=10, max_features=sqrt, min_samples_leaf=1, min_samples_split=6, n_estimators=100; total time=   0.5s\n",
      "[CV] END bootstrap=False, max_depth=10, max_features=sqrt, min_samples_leaf=4, min_samples_split=6, n_estimators=100; total time=   0.5s\n",
      "[CV] END bootstrap=False, max_depth=10, max_features=None, min_samples_leaf=1, min_samples_split=6, n_estimators=50; total time=   0.6s\n",
      "[CV] END bootstrap=False, max_depth=10, max_features=None, min_samples_leaf=1, min_samples_split=6, n_estimators=100; total time=   1.0s\n",
      "[CV] END bootstrap=False, max_depth=10, max_features=None, min_samples_leaf=4, min_samples_split=6, n_estimators=100; total time=   1.0s\n",
      "[CV] END bootstrap=False, max_depth=25, max_features=sqrt, min_samples_leaf=1, min_samples_split=6, n_estimators=100; total time=   0.5s\n",
      "[CV] END bootstrap=False, max_depth=25, max_features=sqrt, min_samples_leaf=4, min_samples_split=6, n_estimators=100; total time=   0.5s\n",
      "[CV] END bootstrap=False, max_depth=25, max_features=None, min_samples_leaf=1, min_samples_split=6, n_estimators=50; total time=   0.5s\n",
      "[CV] END bootstrap=False, max_depth=25, max_features=None, min_samples_leaf=1, min_samples_split=6, n_estimators=100; total time=   1.0s\n",
      "[CV] END bootstrap=False, max_depth=25, max_features=None, min_samples_leaf=4, min_samples_split=6, n_estimators=100; total time=   1.0s\n",
      "[CV] END bootstrap=False, max_depth=None, max_features=sqrt, min_samples_leaf=4, min_samples_split=2, n_estimators=50; total time=   0.2s\n",
      "[CV] END bootstrap=False, max_depth=None, max_features=sqrt, min_samples_leaf=4, min_samples_split=6, n_estimators=50; total time=   0.4s\n",
      "[CV] END bootstrap=False, max_depth=None, max_features=None, min_samples_leaf=1, min_samples_split=2, n_estimators=50; total time=   0.6s\n",
      "[CV] END bootstrap=False, max_depth=None, max_features=None, min_samples_leaf=1, min_samples_split=6, n_estimators=50; total time=   0.6s\n",
      "[CV] END bootstrap=False, max_depth=None, max_features=None, min_samples_leaf=4, min_samples_split=2, n_estimators=50; total time=   0.5s\n",
      "[CV] END bootstrap=False, max_depth=None, max_features=None, min_samples_leaf=4, min_samples_split=6, n_estimators=50; total time=   0.5s\n",
      "[CV] END bootstrap=False, max_depth=None, max_features=None, min_samples_leaf=4, min_samples_split=6, n_estimators=100; total time=   0.8s\n",
      "[CV] END bootstrap=True, max_depth=10, max_features=sqrt, min_samples_leaf=1, min_samples_split=6, n_estimators=50; total time=   0.3s\n",
      "[CV] END bootstrap=True, max_depth=10, max_features=sqrt, min_samples_leaf=4, min_samples_split=2, n_estimators=50; total time=   0.4s\n",
      "[CV] END bootstrap=True, max_depth=10, max_features=sqrt, min_samples_leaf=4, min_samples_split=6, n_estimators=100; total time=   0.5s\n",
      "[CV] END bootstrap=True, max_depth=10, max_features=None, min_samples_leaf=1, min_samples_split=2, n_estimators=100; total time=   0.8s\n",
      "[CV] END bootstrap=True, max_depth=10, max_features=None, min_samples_leaf=4, min_samples_split=2, n_estimators=100; total time=   0.7s\n",
      "[CV] END bootstrap=True, max_depth=25, max_features=sqrt, min_samples_leaf=1, min_samples_split=2, n_estimators=100; total time=   0.5s\n",
      "[CV] END bootstrap=True, max_depth=25, max_features=sqrt, min_samples_leaf=4, min_samples_split=2, n_estimators=50; total time=   0.2s\n",
      "[CV] END bootstrap=True, max_depth=25, max_features=sqrt, min_samples_leaf=4, min_samples_split=2, n_estimators=100; total time=   0.5s\n",
      "[CV] END bootstrap=True, max_depth=25, max_features=None, min_samples_leaf=1, min_samples_split=2, n_estimators=100; total time=   1.0s\n",
      "[CV] END bootstrap=True, max_depth=25, max_features=None, min_samples_leaf=4, min_samples_split=2, n_estimators=100; total time=   0.9s\n",
      "[CV] END bootstrap=True, max_depth=None, max_features=sqrt, min_samples_leaf=1, min_samples_split=2, n_estimators=50; total time=   0.3s\n",
      "[CV] END bootstrap=True, max_depth=None, max_features=sqrt, min_samples_leaf=1, min_samples_split=6, n_estimators=50; total time=   0.2s\n",
      "[CV] END bootstrap=True, max_depth=None, max_features=sqrt, min_samples_leaf=4, min_samples_split=2, n_estimators=50; total time=   0.3s\n",
      "[CV] END bootstrap=True, max_depth=None, max_features=sqrt, min_samples_leaf=4, min_samples_split=2, n_estimators=100; total time=   0.6s\n",
      "[CV] END bootstrap=True, max_depth=None, max_features=None, min_samples_leaf=1, min_samples_split=2, n_estimators=100; total time=   0.8s\n",
      "[CV] END bootstrap=True, max_depth=None, max_features=None, min_samples_leaf=4, min_samples_split=2, n_estimators=100; total time=   0.9s\n",
      "[CV] END bootstrap=False, max_depth=10, max_features=sqrt, min_samples_leaf=1, min_samples_split=2, n_estimators=50; total time=   0.3s\n",
      "[CV] END bootstrap=False, max_depth=10, max_features=sqrt, min_samples_leaf=1, min_samples_split=6, n_estimators=50; total time=   0.3s\n",
      "[CV] END bootstrap=False, max_depth=10, max_features=sqrt, min_samples_leaf=1, min_samples_split=6, n_estimators=100; total time=   0.5s\n",
      "[CV] END bootstrap=False, max_depth=10, max_features=sqrt, min_samples_leaf=4, min_samples_split=6, n_estimators=50; total time=   0.2s\n",
      "[CV] END bootstrap=False, max_depth=10, max_features=None, min_samples_leaf=1, min_samples_split=2, n_estimators=100; total time=   1.1s\n",
      "[CV] END bootstrap=False, max_depth=10, max_features=None, min_samples_leaf=4, min_samples_split=2, n_estimators=50; total time=   0.5s\n",
      "[CV] END bootstrap=False, max_depth=10, max_features=None, min_samples_leaf=4, min_samples_split=6, n_estimators=100; total time=   1.0s\n",
      "[CV] END bootstrap=False, max_depth=25, max_features=sqrt, min_samples_leaf=1, min_samples_split=6, n_estimators=50; total time=   0.3s\n",
      "[CV] END bootstrap=False, max_depth=25, max_features=sqrt, min_samples_leaf=4, min_samples_split=2, n_estimators=50; total time=   0.3s\n",
      "[CV] END bootstrap=False, max_depth=25, max_features=sqrt, min_samples_leaf=4, min_samples_split=6, n_estimators=50; total time=   0.3s\n",
      "[CV] END bootstrap=False, max_depth=25, max_features=None, min_samples_leaf=1, min_samples_split=2, n_estimators=50; total time=   0.6s\n",
      "[CV] END bootstrap=False, max_depth=25, max_features=None, min_samples_leaf=1, min_samples_split=6, n_estimators=50; total time=   0.6s\n",
      "[CV] END bootstrap=False, max_depth=25, max_features=None, min_samples_leaf=4, min_samples_split=2, n_estimators=50; total time=   0.5s\n",
      "[CV] END bootstrap=False, max_depth=25, max_features=None, min_samples_leaf=4, min_samples_split=6, n_estimators=50; total time=   0.5s\n",
      "[CV] END bootstrap=False, max_depth=25, max_features=None, min_samples_leaf=4, min_samples_split=6, n_estimators=100; total time=   1.0s\n",
      "[CV] END bootstrap=False, max_depth=None, max_features=sqrt, min_samples_leaf=4, min_samples_split=2, n_estimators=100; total time=   0.5s\n",
      "[CV] END bootstrap=False, max_depth=None, max_features=None, min_samples_leaf=1, min_samples_split=2, n_estimators=50; total time=   0.6s\n",
      "[CV] END bootstrap=False, max_depth=None, max_features=None, min_samples_leaf=1, min_samples_split=6, n_estimators=100; total time=   1.2s\n",
      "[CV] END bootstrap=False, max_depth=None, max_features=None, min_samples_leaf=4, min_samples_split=6, n_estimators=50; total time=   0.5s\n",
      "[CV] END ..copy_X=True, fit_intercept=False, normalize=False; total time=   0.0s\n",
      "[CV] END ....copy_X=True, fit_intercept=True, normalize=True; total time=   0.1s\n",
      "[CV] END ...copy_X=True, fit_intercept=False, normalize=True; total time=   0.0s\n",
      "[CV] END ...copy_X=False, fit_intercept=True, normalize=True; total time=   0.0s\n",
      "[CV] END ..copy_X=False, fit_intercept=True, normalize=False; total time=   0.0s\n",
      "[CV] END ....copy_X=True, fit_intercept=True, normalize=True; total time=   0.0s\n",
      "[CV] END ...copy_X=True, fit_intercept=False, normalize=True; total time=   0.0s\n",
      "[CV] END ..copy_X=True, fit_intercept=False, normalize=False; total time=   0.0s\n",
      "[CV] END ..copy_X=False, fit_intercept=True, normalize=False; total time=   0.0s\n",
      "[CV] END ..copy_X=False, fit_intercept=False, normalize=True; total time=   0.0s\n",
      "[CV] END ....copy_X=True, fit_intercept=True, normalize=True; total time=   0.0s\n",
      "[CV] END ...copy_X=True, fit_intercept=False, normalize=True; total time=   0.0s\n",
      "[CV] END ..copy_X=True, fit_intercept=False, normalize=False; total time=   0.0s\n",
      "[CV] END ...copy_X=False, fit_intercept=True, normalize=True; total time=   0.0s\n",
      "[CV] END ..copy_X=False, fit_intercept=True, normalize=False; total time=   0.0s\n",
      "[CV] END .copy_X=False, fit_intercept=False, normalize=False; total time=   0.0s\n",
      "[CV] END ...copy_X=True, fit_intercept=True, normalize=False; total time=   0.0s\n",
      "[CV] END ..copy_X=False, fit_intercept=False, normalize=True; total time=   0.0s\n",
      "[CV] END ....copy_X=True, fit_intercept=True, normalize=True; total time=   0.0s\n"
     ]
    },
    {
     "name": "stderr",
     "output_type": "stream",
     "text": [
      "/opt/anaconda3/lib/python3.8/site-packages/sklearn/linear_model/_base.py:148: FutureWarning: 'normalize' was deprecated in version 1.0 and will be removed in 1.2. Please leave the normalize parameter to its default value to silence this warning. The default behavior of this estimator is to not do any normalization. If normalization is needed please use sklearn.preprocessing.StandardScaler instead.\n",
      "  warnings.warn(\n",
      "/opt/anaconda3/lib/python3.8/site-packages/sklearn/linear_model/_base.py:141: FutureWarning: 'normalize' was deprecated in version 1.0 and will be removed in 1.2.\n",
      "If you wish to scale the data, use Pipeline with a StandardScaler in a preprocessing stage. To reproduce the previous behavior:\n",
      "\n",
      "from sklearn.pipeline import make_pipeline\n",
      "\n",
      "model = make_pipeline(StandardScaler(with_mean=False), LinearRegression())\n",
      "\n",
      "If you wish to pass a sample_weight parameter, you need to pass it as a fit parameter to each step of the pipeline as follows:\n",
      "\n",
      "kwargs = {s[0] + '__sample_weight': sample_weight for s in model.steps}\n",
      "model.fit(X, y, **kwargs)\n",
      "\n",
      "\n",
      "  warnings.warn(\n",
      "/opt/anaconda3/lib/python3.8/site-packages/sklearn/linear_model/_base.py:141: FutureWarning: 'normalize' was deprecated in version 1.0 and will be removed in 1.2.\n",
      "If you wish to scale the data, use Pipeline with a StandardScaler in a preprocessing stage. To reproduce the previous behavior:\n",
      "\n",
      "from sklearn.pipeline import make_pipeline\n",
      "\n",
      "model = make_pipeline(StandardScaler(with_mean=False), LinearRegression())\n",
      "\n",
      "If you wish to pass a sample_weight parameter, you need to pass it as a fit parameter to each step of the pipeline as follows:\n",
      "\n",
      "kwargs = {s[0] + '__sample_weight': sample_weight for s in model.steps}\n",
      "model.fit(X, y, **kwargs)\n",
      "\n",
      "\n",
      "  warnings.warn(\n",
      "/opt/anaconda3/lib/python3.8/site-packages/sklearn/linear_model/_base.py:141: FutureWarning: 'normalize' was deprecated in version 1.0 and will be removed in 1.2.\n",
      "If you wish to scale the data, use Pipeline with a StandardScaler in a preprocessing stage. To reproduce the previous behavior:\n",
      "\n",
      "from sklearn.pipeline import make_pipeline\n",
      "\n",
      "model = make_pipeline(StandardScaler(with_mean=False), LinearRegression())\n",
      "\n",
      "If you wish to pass a sample_weight parameter, you need to pass it as a fit parameter to each step of the pipeline as follows:\n",
      "\n",
      "kwargs = {s[0] + '__sample_weight': sample_weight for s in model.steps}\n",
      "model.fit(X, y, **kwargs)\n",
      "\n",
      "\n",
      "  warnings.warn(\n",
      "/opt/anaconda3/lib/python3.8/site-packages/sklearn/linear_model/_base.py:148: FutureWarning: 'normalize' was deprecated in version 1.0 and will be removed in 1.2. Please leave the normalize parameter to its default value to silence this warning. The default behavior of this estimator is to not do any normalization. If normalization is needed please use sklearn.preprocessing.StandardScaler instead.\n",
      "  warnings.warn(\n",
      "/opt/anaconda3/lib/python3.8/site-packages/sklearn/linear_model/_base.py:141: FutureWarning: 'normalize' was deprecated in version 1.0 and will be removed in 1.2.\n",
      "If you wish to scale the data, use Pipeline with a StandardScaler in a preprocessing stage. To reproduce the previous behavior:\n",
      "\n",
      "from sklearn.pipeline import make_pipeline\n",
      "\n",
      "model = make_pipeline(StandardScaler(with_mean=False), LinearRegression())\n",
      "\n",
      "If you wish to pass a sample_weight parameter, you need to pass it as a fit parameter to each step of the pipeline as follows:\n",
      "\n",
      "kwargs = {s[0] + '__sample_weight': sample_weight for s in model.steps}\n",
      "model.fit(X, y, **kwargs)\n",
      "\n",
      "\n",
      "  warnings.warn(\n",
      "/opt/anaconda3/lib/python3.8/site-packages/sklearn/linear_model/_base.py:141: FutureWarning: 'normalize' was deprecated in version 1.0 and will be removed in 1.2.\n",
      "If you wish to scale the data, use Pipeline with a StandardScaler in a preprocessing stage. To reproduce the previous behavior:\n",
      "\n",
      "from sklearn.pipeline import make_pipeline\n",
      "\n",
      "model = make_pipeline(StandardScaler(with_mean=False), LinearRegression())\n",
      "\n",
      "If you wish to pass a sample_weight parameter, you need to pass it as a fit parameter to each step of the pipeline as follows:\n",
      "\n",
      "kwargs = {s[0] + '__sample_weight': sample_weight for s in model.steps}\n",
      "model.fit(X, y, **kwargs)\n",
      "\n",
      "\n",
      "  warnings.warn(\n",
      "/opt/anaconda3/lib/python3.8/site-packages/sklearn/linear_model/_base.py:148: FutureWarning: 'normalize' was deprecated in version 1.0 and will be removed in 1.2. Please leave the normalize parameter to its default value to silence this warning. The default behavior of this estimator is to not do any normalization. If normalization is needed please use sklearn.preprocessing.StandardScaler instead.\n",
      "  warnings.warn(\n",
      "/opt/anaconda3/lib/python3.8/site-packages/sklearn/linear_model/_base.py:148: FutureWarning: 'normalize' was deprecated in version 1.0 and will be removed in 1.2. Please leave the normalize parameter to its default value to silence this warning. The default behavior of this estimator is to not do any normalization. If normalization is needed please use sklearn.preprocessing.StandardScaler instead.\n",
      "  warnings.warn(\n",
      "/opt/anaconda3/lib/python3.8/site-packages/sklearn/linear_model/_base.py:141: FutureWarning: 'normalize' was deprecated in version 1.0 and will be removed in 1.2.\n",
      "If you wish to scale the data, use Pipeline with a StandardScaler in a preprocessing stage. To reproduce the previous behavior:\n",
      "\n",
      "from sklearn.pipeline import make_pipeline\n",
      "\n",
      "model = make_pipeline(StandardScaler(with_mean=False), LinearRegression())\n",
      "\n",
      "If you wish to pass a sample_weight parameter, you need to pass it as a fit parameter to each step of the pipeline as follows:\n",
      "\n",
      "kwargs = {s[0] + '__sample_weight': sample_weight for s in model.steps}\n",
      "model.fit(X, y, **kwargs)\n",
      "\n",
      "\n",
      "  warnings.warn(\n",
      "/opt/anaconda3/lib/python3.8/site-packages/sklearn/linear_model/_base.py:141: FutureWarning: 'normalize' was deprecated in version 1.0 and will be removed in 1.2.\n",
      "If you wish to scale the data, use Pipeline with a StandardScaler in a preprocessing stage. To reproduce the previous behavior:\n",
      "\n",
      "from sklearn.pipeline import make_pipeline\n",
      "\n",
      "model = make_pipeline(StandardScaler(with_mean=False), LinearRegression())\n",
      "\n",
      "If you wish to pass a sample_weight parameter, you need to pass it as a fit parameter to each step of the pipeline as follows:\n",
      "\n",
      "kwargs = {s[0] + '__sample_weight': sample_weight for s in model.steps}\n",
      "model.fit(X, y, **kwargs)\n",
      "\n",
      "\n",
      "  warnings.warn(\n",
      "/opt/anaconda3/lib/python3.8/site-packages/sklearn/linear_model/_base.py:141: FutureWarning: 'normalize' was deprecated in version 1.0 and will be removed in 1.2.\n",
      "If you wish to scale the data, use Pipeline with a StandardScaler in a preprocessing stage. To reproduce the previous behavior:\n",
      "\n",
      "from sklearn.pipeline import make_pipeline\n",
      "\n",
      "model = make_pipeline(StandardScaler(with_mean=False), LinearRegression())\n",
      "\n",
      "If you wish to pass a sample_weight parameter, you need to pass it as a fit parameter to each step of the pipeline as follows:\n",
      "\n",
      "kwargs = {s[0] + '__sample_weight': sample_weight for s in model.steps}\n",
      "model.fit(X, y, **kwargs)\n",
      "\n",
      "\n",
      "  warnings.warn(\n",
      "/opt/anaconda3/lib/python3.8/site-packages/sklearn/linear_model/_base.py:148: FutureWarning: 'normalize' was deprecated in version 1.0 and will be removed in 1.2. Please leave the normalize parameter to its default value to silence this warning. The default behavior of this estimator is to not do any normalization. If normalization is needed please use sklearn.preprocessing.StandardScaler instead.\n",
      "  warnings.warn(\n",
      "/opt/anaconda3/lib/python3.8/site-packages/sklearn/linear_model/_base.py:141: FutureWarning: 'normalize' was deprecated in version 1.0 and will be removed in 1.2.\n",
      "If you wish to scale the data, use Pipeline with a StandardScaler in a preprocessing stage. To reproduce the previous behavior:\n",
      "\n",
      "from sklearn.pipeline import make_pipeline\n",
      "\n",
      "model = make_pipeline(StandardScaler(with_mean=False), LinearRegression())\n",
      "\n",
      "If you wish to pass a sample_weight parameter, you need to pass it as a fit parameter to each step of the pipeline as follows:\n",
      "\n",
      "kwargs = {s[0] + '__sample_weight': sample_weight for s in model.steps}\n",
      "model.fit(X, y, **kwargs)\n",
      "\n",
      "\n",
      "  warnings.warn(\n",
      "/opt/anaconda3/lib/python3.8/site-packages/sklearn/linear_model/_base.py:148: FutureWarning: 'normalize' was deprecated in version 1.0 and will be removed in 1.2. Please leave the normalize parameter to its default value to silence this warning. The default behavior of this estimator is to not do any normalization. If normalization is needed please use sklearn.preprocessing.StandardScaler instead.\n",
      "  warnings.warn(\n",
      "/opt/anaconda3/lib/python3.8/site-packages/sklearn/linear_model/_base.py:148: FutureWarning: 'normalize' was deprecated in version 1.0 and will be removed in 1.2. Please leave the normalize parameter to its default value to silence this warning. The default behavior of this estimator is to not do any normalization. If normalization is needed please use sklearn.preprocessing.StandardScaler instead.\n",
      "  warnings.warn(\n",
      "/opt/anaconda3/lib/python3.8/site-packages/sklearn/linear_model/_base.py:148: FutureWarning: 'normalize' was deprecated in version 1.0 and will be removed in 1.2. Please leave the normalize parameter to its default value to silence this warning. The default behavior of this estimator is to not do any normalization. If normalization is needed please use sklearn.preprocessing.StandardScaler instead.\n",
      "  warnings.warn(\n",
      "/opt/anaconda3/lib/python3.8/site-packages/sklearn/linear_model/_base.py:141: FutureWarning: 'normalize' was deprecated in version 1.0 and will be removed in 1.2.\n",
      "If you wish to scale the data, use Pipeline with a StandardScaler in a preprocessing stage. To reproduce the previous behavior:\n",
      "\n",
      "from sklearn.pipeline import make_pipeline\n",
      "\n",
      "model = make_pipeline(StandardScaler(with_mean=False), LinearRegression())\n",
      "\n",
      "If you wish to pass a sample_weight parameter, you need to pass it as a fit parameter to each step of the pipeline as follows:\n",
      "\n",
      "kwargs = {s[0] + '__sample_weight': sample_weight for s in model.steps}\n",
      "model.fit(X, y, **kwargs)\n",
      "\n",
      "\n",
      "  warnings.warn(\n",
      "/opt/anaconda3/lib/python3.8/site-packages/sklearn/linear_model/_base.py:141: FutureWarning: 'normalize' was deprecated in version 1.0 and will be removed in 1.2.\n",
      "If you wish to scale the data, use Pipeline with a StandardScaler in a preprocessing stage. To reproduce the previous behavior:\n",
      "\n",
      "from sklearn.pipeline import make_pipeline\n",
      "\n",
      "model = make_pipeline(StandardScaler(with_mean=False), LinearRegression())\n",
      "\n",
      "If you wish to pass a sample_weight parameter, you need to pass it as a fit parameter to each step of the pipeline as follows:\n",
      "\n",
      "kwargs = {s[0] + '__sample_weight': sample_weight for s in model.steps}\n",
      "model.fit(X, y, **kwargs)\n",
      "\n",
      "\n",
      "  warnings.warn(\n"
     ]
    },
    {
     "name": "stdout",
     "output_type": "stream",
     "text": [
      "\n",
      "[CV] END bootstrap=True, max_depth=None, max_features=sqrt, min_samples_leaf=1, min_samples_split=6, n_estimators=100; total time=   0.5s\n",
      "[CV] END bootstrap=True, max_depth=None, max_features=sqrt, min_samples_leaf=4, min_samples_split=6, n_estimators=50; total time=   0.3s\n",
      "[CV] END bootstrap=True, max_depth=None, max_features=None, min_samples_leaf=1, min_samples_split=2, n_estimators=100; total time=   0.8s\n",
      "[CV] END bootstrap=True, max_depth=None, max_features=None, min_samples_leaf=4, min_samples_split=2, n_estimators=50; total time=   0.4s\n",
      "[CV] END bootstrap=True, max_depth=None, max_features=None, min_samples_leaf=4, min_samples_split=6, n_estimators=50; total time=   0.4s\n",
      "[CV] END bootstrap=False, max_depth=10, max_features=sqrt, min_samples_leaf=1, min_samples_split=2, n_estimators=50; total time=   0.3s\n",
      "[CV] END bootstrap=False, max_depth=10, max_features=sqrt, min_samples_leaf=1, min_samples_split=2, n_estimators=100; total time=   0.5s\n",
      "[CV] END bootstrap=False, max_depth=10, max_features=sqrt, min_samples_leaf=4, min_samples_split=2, n_estimators=100; total time=   0.5s\n",
      "[CV] END bootstrap=False, max_depth=10, max_features=None, min_samples_leaf=1, min_samples_split=2, n_estimators=50; total time=   0.5s\n",
      "[CV] END bootstrap=False, max_depth=10, max_features=None, min_samples_leaf=1, min_samples_split=6, n_estimators=50; total time=   0.6s\n",
      "[CV] END bootstrap=False, max_depth=10, max_features=None, min_samples_leaf=4, min_samples_split=2, n_estimators=50; total time=   0.5s\n",
      "[CV] END bootstrap=False, max_depth=10, max_features=None, min_samples_leaf=4, min_samples_split=2, n_estimators=100; total time=   0.9s\n",
      "[CV] END bootstrap=False, max_depth=25, max_features=sqrt, min_samples_leaf=1, min_samples_split=2, n_estimators=100; total time=   0.6s\n",
      "[CV] END bootstrap=False, max_depth=25, max_features=sqrt, min_samples_leaf=4, min_samples_split=2, n_estimators=50; total time=   0.3s\n",
      "[CV] END bootstrap=False, max_depth=25, max_features=sqrt, min_samples_leaf=4, min_samples_split=6, n_estimators=50; total time=   0.3s\n",
      "[CV] END bootstrap=False, max_depth=25, max_features=None, min_samples_leaf=1, min_samples_split=2, n_estimators=50; total time=   0.5s\n",
      "[CV] END bootstrap=False, max_depth=25, max_features=None, min_samples_leaf=1, min_samples_split=6, n_estimators=50; total time=   0.5s\n",
      "[CV] END bootstrap=False, max_depth=25, max_features=None, min_samples_leaf=4, min_samples_split=2, n_estimators=50; total time=   0.5s\n",
      "[CV] END bootstrap=False, max_depth=25, max_features=None, min_samples_leaf=4, min_samples_split=6, n_estimators=50; total time=   0.5s\n",
      "[CV] END bootstrap=False, max_depth=25, max_features=None, min_samples_leaf=4, min_samples_split=6, n_estimators=100; total time=   1.1s\n",
      "[CV] END bootstrap=False, max_depth=None, max_features=sqrt, min_samples_leaf=4, min_samples_split=2, n_estimators=100; total time=   0.5s\n",
      "[CV] END bootstrap=False, max_depth=None, max_features=None, min_samples_leaf=1, min_samples_split=2, n_estimators=50; total time=   0.6s\n",
      "[CV] END bootstrap=False, max_depth=None, max_features=None, min_samples_leaf=1, min_samples_split=6, n_estimators=100; total time=   1.2s\n",
      "[CV] END bootstrap=False, max_depth=None, max_features=None, min_samples_leaf=4, min_samples_split=6, n_estimators=50; total time=   0.5s\n",
      "[CV] END bootstrap=True, max_depth=10, max_features=sqrt, min_samples_leaf=1, min_samples_split=2, n_estimators=50; total time=   0.3s\n",
      "[CV] END bootstrap=True, max_depth=10, max_features=sqrt, min_samples_leaf=1, min_samples_split=6, n_estimators=50; total time=   0.3s\n",
      "[CV] END bootstrap=True, max_depth=10, max_features=sqrt, min_samples_leaf=4, min_samples_split=2, n_estimators=50; total time=   0.2s\n",
      "[CV] END bootstrap=True, max_depth=10, max_features=sqrt, min_samples_leaf=4, min_samples_split=2, n_estimators=100; total time=   0.6s\n",
      "[CV] END bootstrap=True, max_depth=10, max_features=None, min_samples_leaf=1, min_samples_split=2, n_estimators=100; total time=   0.8s\n",
      "[CV] END bootstrap=True, max_depth=10, max_features=None, min_samples_leaf=4, min_samples_split=2, n_estimators=100; total time=   0.7s\n",
      "[CV] END bootstrap=True, max_depth=25, max_features=sqrt, min_samples_leaf=1, min_samples_split=2, n_estimators=50; total time=   0.3s\n",
      "[CV] END bootstrap=True, max_depth=25, max_features=sqrt, min_samples_leaf=1, min_samples_split=6, n_estimators=50; total time=   0.2s\n",
      "[CV] END bootstrap=True, max_depth=25, max_features=sqrt, min_samples_leaf=1, min_samples_split=6, n_estimators=100; total time=   0.5s\n",
      "[CV] END bootstrap=True, max_depth=25, max_features=sqrt, min_samples_leaf=4, min_samples_split=6, n_estimators=100; total time=   0.4s\n",
      "[CV] END bootstrap=True, max_depth=25, max_features=None, min_samples_leaf=1, min_samples_split=6, n_estimators=50; total time=   0.5s\n",
      "[CV] END bootstrap=True, max_depth=25, max_features=None, min_samples_leaf=1, min_samples_split=6, n_estimators=100; total time=   1.0s\n",
      "[CV] END bootstrap=True, max_depth=25, max_features=None, min_samples_leaf=4, min_samples_split=6, n_estimators=100; total time=   0.8s\n",
      "[CV] END bootstrap=True, max_depth=None, max_features=sqrt, min_samples_leaf=1, min_samples_split=6, n_estimators=100; total time=   0.6s\n",
      "[CV] END bootstrap=True, max_depth=None, max_features=sqrt, min_samples_leaf=4, min_samples_split=6, n_estimators=100; total time=   0.5s\n",
      "[CV] END bootstrap=True, max_depth=None, max_features=None, min_samples_leaf=1, min_samples_split=6, n_estimators=50; total time=   0.4s\n",
      "[CV] END bootstrap=True, max_depth=None, max_features=None, min_samples_leaf=1, min_samples_split=6, n_estimators=100; total time=   0.8s\n",
      "[CV] END bootstrap=True, max_depth=None, max_features=None, min_samples_leaf=4, min_samples_split=6, n_estimators=100; total time=   0.9s\n",
      "[CV] END bootstrap=False, max_depth=10, max_features=sqrt, min_samples_leaf=1, min_samples_split=6, n_estimators=100; total time=   0.6s\n",
      "[CV] END bootstrap=False, max_depth=10, max_features=None, min_samples_leaf=1, min_samples_split=2, n_estimators=50; total time=   0.5s\n",
      "[CV] END bootstrap=False, max_depth=10, max_features=None, min_samples_leaf=1, min_samples_split=6, n_estimators=50; total time=   0.5s\n",
      "[CV] END bootstrap=False, max_depth=10, max_features=None, min_samples_leaf=4, min_samples_split=2, n_estimators=50; total time=   0.5s\n",
      "[CV] END bootstrap=False, max_depth=10, max_features=None, min_samples_leaf=4, min_samples_split=6, n_estimators=50; total time=   0.5s\n",
      "[CV] END bootstrap=False, max_depth=10, max_features=None, min_samples_leaf=4, min_samples_split=6, n_estimators=100; total time=   1.0s\n",
      "[CV] END bootstrap=False, max_depth=25, max_features=sqrt, min_samples_leaf=4, min_samples_split=2, n_estimators=100; total time=   0.5s\n",
      "[CV] END bootstrap=False, max_depth=25, max_features=None, min_samples_leaf=1, min_samples_split=2, n_estimators=50; total time=   0.7s\n",
      "[CV] END bootstrap=False, max_depth=25, max_features=None, min_samples_leaf=1, min_samples_split=6, n_estimators=100; total time=   1.1s\n",
      "[CV] END bootstrap=False, max_depth=25, max_features=None, min_samples_leaf=4, min_samples_split=6, n_estimators=50; total time=   0.5s\n",
      "[CV] END bootstrap=False, max_depth=None, max_features=sqrt, min_samples_leaf=1, min_samples_split=2, n_estimators=50; total time=   0.3s\n",
      "[CV] END bootstrap=False, max_depth=None, max_features=sqrt, min_samples_leaf=1, min_samples_split=2, n_estimators=100; total time=   0.6s\n",
      "[CV] END bootstrap=False, max_depth=None, max_features=sqrt, min_samples_leaf=1, min_samples_split=6, n_estimators=100; total time=   0.6s\n",
      "[CV] END bootstrap=False, max_depth=None, max_features=None, min_samples_leaf=1, min_samples_split=2, n_estimators=50; total time=   0.5s\n",
      "[CV] END bootstrap=False, max_depth=None, max_features=None, min_samples_leaf=1, min_samples_split=6, n_estimators=100; total time=   1.1s\n",
      "[CV] END bootstrap=False, max_depth=None, max_features=None, min_samples_leaf=4, min_samples_split=2, n_estimators=100; total time=   1.0s\n",
      "[CV] END ...copy_X=True, fit_intercept=True, normalize=False; total time=   0.0s\n",
      "[CV] END ....copy_X=True, fit_intercept=True, normalize=True; total time=   0.1s\n",
      "[CV] END ..copy_X=True, fit_intercept=False, normalize=False; total time=   0.0s\n",
      "[CV] END ..copy_X=False, fit_intercept=False, normalize=True; total time=   0.0s\n",
      "[CV] END ....copy_X=True, fit_intercept=True, normalize=True; total time=   0.0s\n",
      "[CV] END ...copy_X=True, fit_intercept=False, normalize=True; total time=   0.0s\n",
      "[CV] END ..copy_X=True, fit_intercept=False, normalize=False; total time=   0.0s\n",
      "[CV] END ...copy_X=False, fit_intercept=True, normalize=True; total time=   0.0s\n",
      "[CV] END ..copy_X=False, fit_intercept=True, normalize=False; total time=   0.0s\n",
      "[CV] END .copy_X=False, fit_intercept=False, normalize=False; total time=   0.0s\n",
      "[CV] END ..copy_X=False, fit_intercept=True, normalize=False; total time=   0.0s\n",
      "[CV] END ...copy_X=False, fit_intercept=True, normalize=True; total time=   0.0s\n",
      "[CV] END ...copy_X=True, fit_intercept=False, normalize=True; total time=   0.0s\n",
      "[CV] END ..copy_X=False, fit_intercept=True, normalize=False; total time=   0.0s\n",
      "[CV] END .copy_X=False, fit_intercept=False, normalize=False; total time=   0.0s\n"
     ]
    },
    {
     "name": "stderr",
     "output_type": "stream",
     "text": [
      "/opt/anaconda3/lib/python3.8/site-packages/sklearn/linear_model/_base.py:148: FutureWarning: 'normalize' was deprecated in version 1.0 and will be removed in 1.2. Please leave the normalize parameter to its default value to silence this warning. The default behavior of this estimator is to not do any normalization. If normalization is needed please use sklearn.preprocessing.StandardScaler instead.\n",
      "  warnings.warn(\n",
      "/opt/anaconda3/lib/python3.8/site-packages/sklearn/linear_model/_base.py:141: FutureWarning: 'normalize' was deprecated in version 1.0 and will be removed in 1.2.\n",
      "If you wish to scale the data, use Pipeline with a StandardScaler in a preprocessing stage. To reproduce the previous behavior:\n",
      "\n",
      "from sklearn.pipeline import make_pipeline\n",
      "\n",
      "model = make_pipeline(StandardScaler(with_mean=False), LinearRegression())\n",
      "\n",
      "If you wish to pass a sample_weight parameter, you need to pass it as a fit parameter to each step of the pipeline as follows:\n",
      "\n",
      "kwargs = {s[0] + '__sample_weight': sample_weight for s in model.steps}\n",
      "model.fit(X, y, **kwargs)\n",
      "\n",
      "\n",
      "  warnings.warn(\n",
      "/opt/anaconda3/lib/python3.8/site-packages/sklearn/linear_model/_base.py:148: FutureWarning: 'normalize' was deprecated in version 1.0 and will be removed in 1.2. Please leave the normalize parameter to its default value to silence this warning. The default behavior of this estimator is to not do any normalization. If normalization is needed please use sklearn.preprocessing.StandardScaler instead.\n",
      "  warnings.warn(\n",
      "/opt/anaconda3/lib/python3.8/site-packages/sklearn/linear_model/_base.py:141: FutureWarning: 'normalize' was deprecated in version 1.0 and will be removed in 1.2.\n",
      "If you wish to scale the data, use Pipeline with a StandardScaler in a preprocessing stage. To reproduce the previous behavior:\n",
      "\n",
      "from sklearn.pipeline import make_pipeline\n",
      "\n",
      "model = make_pipeline(StandardScaler(with_mean=False), LinearRegression())\n",
      "\n",
      "If you wish to pass a sample_weight parameter, you need to pass it as a fit parameter to each step of the pipeline as follows:\n",
      "\n",
      "kwargs = {s[0] + '__sample_weight': sample_weight for s in model.steps}\n",
      "model.fit(X, y, **kwargs)\n",
      "\n",
      "\n",
      "  warnings.warn(\n",
      "/opt/anaconda3/lib/python3.8/site-packages/sklearn/linear_model/_base.py:141: FutureWarning: 'normalize' was deprecated in version 1.0 and will be removed in 1.2.\n",
      "If you wish to scale the data, use Pipeline with a StandardScaler in a preprocessing stage. To reproduce the previous behavior:\n",
      "\n",
      "from sklearn.pipeline import make_pipeline\n",
      "\n",
      "model = make_pipeline(StandardScaler(with_mean=False), LinearRegression())\n",
      "\n",
      "If you wish to pass a sample_weight parameter, you need to pass it as a fit parameter to each step of the pipeline as follows:\n",
      "\n",
      "kwargs = {s[0] + '__sample_weight': sample_weight for s in model.steps}\n",
      "model.fit(X, y, **kwargs)\n",
      "\n",
      "\n",
      "  warnings.warn(\n",
      "/opt/anaconda3/lib/python3.8/site-packages/sklearn/linear_model/_base.py:141: FutureWarning: 'normalize' was deprecated in version 1.0 and will be removed in 1.2.\n",
      "If you wish to scale the data, use Pipeline with a StandardScaler in a preprocessing stage. To reproduce the previous behavior:\n",
      "\n",
      "from sklearn.pipeline import make_pipeline\n",
      "\n",
      "model = make_pipeline(StandardScaler(with_mean=False), LinearRegression())\n",
      "\n",
      "If you wish to pass a sample_weight parameter, you need to pass it as a fit parameter to each step of the pipeline as follows:\n",
      "\n",
      "kwargs = {s[0] + '__sample_weight': sample_weight for s in model.steps}\n",
      "model.fit(X, y, **kwargs)\n",
      "\n",
      "\n",
      "  warnings.warn(\n",
      "/opt/anaconda3/lib/python3.8/site-packages/sklearn/linear_model/_base.py:148: FutureWarning: 'normalize' was deprecated in version 1.0 and will be removed in 1.2. Please leave the normalize parameter to its default value to silence this warning. The default behavior of this estimator is to not do any normalization. If normalization is needed please use sklearn.preprocessing.StandardScaler instead.\n",
      "  warnings.warn(\n",
      "/opt/anaconda3/lib/python3.8/site-packages/sklearn/linear_model/_base.py:141: FutureWarning: 'normalize' was deprecated in version 1.0 and will be removed in 1.2.\n",
      "If you wish to scale the data, use Pipeline with a StandardScaler in a preprocessing stage. To reproduce the previous behavior:\n",
      "\n",
      "from sklearn.pipeline import make_pipeline\n",
      "\n",
      "model = make_pipeline(StandardScaler(with_mean=False), LinearRegression())\n",
      "\n",
      "If you wish to pass a sample_weight parameter, you need to pass it as a fit parameter to each step of the pipeline as follows:\n",
      "\n",
      "kwargs = {s[0] + '__sample_weight': sample_weight for s in model.steps}\n",
      "model.fit(X, y, **kwargs)\n",
      "\n",
      "\n",
      "  warnings.warn(\n",
      "/opt/anaconda3/lib/python3.8/site-packages/sklearn/linear_model/_base.py:148: FutureWarning: 'normalize' was deprecated in version 1.0 and will be removed in 1.2. Please leave the normalize parameter to its default value to silence this warning. The default behavior of this estimator is to not do any normalization. If normalization is needed please use sklearn.preprocessing.StandardScaler instead.\n",
      "  warnings.warn(\n",
      "/opt/anaconda3/lib/python3.8/site-packages/sklearn/linear_model/_base.py:148: FutureWarning: 'normalize' was deprecated in version 1.0 and will be removed in 1.2. Please leave the normalize parameter to its default value to silence this warning. The default behavior of this estimator is to not do any normalization. If normalization is needed please use sklearn.preprocessing.StandardScaler instead.\n",
      "  warnings.warn(\n",
      "/opt/anaconda3/lib/python3.8/site-packages/sklearn/linear_model/_base.py:148: FutureWarning: 'normalize' was deprecated in version 1.0 and will be removed in 1.2. Please leave the normalize parameter to its default value to silence this warning. The default behavior of this estimator is to not do any normalization. If normalization is needed please use sklearn.preprocessing.StandardScaler instead.\n",
      "  warnings.warn(\n",
      "/opt/anaconda3/lib/python3.8/site-packages/sklearn/linear_model/_base.py:141: FutureWarning: 'normalize' was deprecated in version 1.0 and will be removed in 1.2.\n",
      "If you wish to scale the data, use Pipeline with a StandardScaler in a preprocessing stage. To reproduce the previous behavior:\n",
      "\n",
      "from sklearn.pipeline import make_pipeline\n",
      "\n",
      "model = make_pipeline(StandardScaler(with_mean=False), LinearRegression())\n",
      "\n",
      "If you wish to pass a sample_weight parameter, you need to pass it as a fit parameter to each step of the pipeline as follows:\n",
      "\n",
      "kwargs = {s[0] + '__sample_weight': sample_weight for s in model.steps}\n",
      "model.fit(X, y, **kwargs)\n",
      "\n",
      "\n",
      "  warnings.warn(\n",
      "/opt/anaconda3/lib/python3.8/site-packages/sklearn/linear_model/_base.py:141: FutureWarning: 'normalize' was deprecated in version 1.0 and will be removed in 1.2.\n",
      "If you wish to scale the data, use Pipeline with a StandardScaler in a preprocessing stage. To reproduce the previous behavior:\n",
      "\n",
      "from sklearn.pipeline import make_pipeline\n",
      "\n",
      "model = make_pipeline(StandardScaler(with_mean=False), LinearRegression())\n",
      "\n",
      "If you wish to pass a sample_weight parameter, you need to pass it as a fit parameter to each step of the pipeline as follows:\n",
      "\n",
      "kwargs = {s[0] + '__sample_weight': sample_weight for s in model.steps}\n",
      "model.fit(X, y, **kwargs)\n",
      "\n",
      "\n",
      "  warnings.warn(\n",
      "/opt/anaconda3/lib/python3.8/site-packages/sklearn/linear_model/_base.py:148: FutureWarning: 'normalize' was deprecated in version 1.0 and will be removed in 1.2. Please leave the normalize parameter to its default value to silence this warning. The default behavior of this estimator is to not do any normalization. If normalization is needed please use sklearn.preprocessing.StandardScaler instead.\n",
      "  warnings.warn(\n",
      "/opt/anaconda3/lib/python3.8/site-packages/sklearn/linear_model/_base.py:148: FutureWarning: 'normalize' was deprecated in version 1.0 and will be removed in 1.2. Please leave the normalize parameter to its default value to silence this warning. The default behavior of this estimator is to not do any normalization. If normalization is needed please use sklearn.preprocessing.StandardScaler instead.\n",
      "  warnings.warn(\n"
     ]
    },
    {
     "name": "stdout",
     "output_type": "stream",
     "text": [
      "\n",
      "[CV] END bootstrap=True, max_depth=None, max_features=sqrt, min_samples_leaf=4, min_samples_split=2, n_estimators=100; total time=   0.5s\n",
      "[CV] END bootstrap=True, max_depth=None, max_features=None, min_samples_leaf=1, min_samples_split=2, n_estimators=50; total time=   0.4s\n",
      "[CV] END bootstrap=True, max_depth=None, max_features=None, min_samples_leaf=1, min_samples_split=6, n_estimators=50; total time=   0.4s\n",
      "[CV] END bootstrap=True, max_depth=None, max_features=None, min_samples_leaf=4, min_samples_split=2, n_estimators=50; total time=   0.5s\n",
      "[CV] END bootstrap=True, max_depth=None, max_features=None, min_samples_leaf=4, min_samples_split=6, n_estimators=50; total time=   0.4s\n",
      "[CV] END bootstrap=False, max_depth=10, max_features=sqrt, min_samples_leaf=1, min_samples_split=2, n_estimators=50; total time=   0.3s\n",
      "[CV] END bootstrap=False, max_depth=10, max_features=sqrt, min_samples_leaf=1, min_samples_split=6, n_estimators=50; total time=   0.2s\n",
      "[CV] END bootstrap=False, max_depth=10, max_features=sqrt, min_samples_leaf=1, min_samples_split=6, n_estimators=100; total time=   0.5s\n",
      "[CV] END bootstrap=False, max_depth=10, max_features=sqrt, min_samples_leaf=4, min_samples_split=6, n_estimators=50; total time=   0.3s\n",
      "[CV] END bootstrap=False, max_depth=10, max_features=None, min_samples_leaf=1, min_samples_split=2, n_estimators=100; total time=   1.1s\n",
      "[CV] END bootstrap=False, max_depth=10, max_features=None, min_samples_leaf=4, min_samples_split=2, n_estimators=50; total time=   0.5s\n",
      "[CV] END bootstrap=False, max_depth=10, max_features=None, min_samples_leaf=4, min_samples_split=6, n_estimators=100; total time=   1.0s\n",
      "[CV] END bootstrap=False, max_depth=25, max_features=sqrt, min_samples_leaf=1, min_samples_split=6, n_estimators=50; total time=   0.3s\n",
      "[CV] END bootstrap=False, max_depth=25, max_features=sqrt, min_samples_leaf=4, min_samples_split=2, n_estimators=50; total time=   0.3s\n",
      "[CV] END bootstrap=False, max_depth=25, max_features=sqrt, min_samples_leaf=4, min_samples_split=6, n_estimators=50; total time=   0.3s\n",
      "[CV] END bootstrap=False, max_depth=25, max_features=sqrt, min_samples_leaf=4, min_samples_split=6, n_estimators=100; total time=   0.5s\n",
      "[CV] END bootstrap=False, max_depth=25, max_features=None, min_samples_leaf=1, min_samples_split=6, n_estimators=50; total time=   0.5s\n",
      "[CV] END bootstrap=False, max_depth=25, max_features=None, min_samples_leaf=4, min_samples_split=2, n_estimators=50; total time=   0.5s\n",
      "[CV] END bootstrap=False, max_depth=25, max_features=None, min_samples_leaf=4, min_samples_split=2, n_estimators=100; total time=   1.0s\n",
      "[CV] END bootstrap=False, max_depth=None, max_features=sqrt, min_samples_leaf=1, min_samples_split=6, n_estimators=50; total time=   0.3s\n",
      "[CV] END bootstrap=False, max_depth=None, max_features=sqrt, min_samples_leaf=1, min_samples_split=6, n_estimators=100; total time=   0.6s\n",
      "[CV] END bootstrap=False, max_depth=None, max_features=sqrt, min_samples_leaf=4, min_samples_split=6, n_estimators=50; total time=   0.3s\n",
      "[CV] END bootstrap=False, max_depth=None, max_features=None, min_samples_leaf=1, min_samples_split=2, n_estimators=100; total time=   1.2s\n",
      "[CV] END bootstrap=False, max_depth=None, max_features=None, min_samples_leaf=4, min_samples_split=2, n_estimators=100; total time=   1.1s\n",
      "[CV] END bootstrap=True, max_depth=10, max_features=sqrt, min_samples_leaf=1, min_samples_split=2, n_estimators=50; total time=   0.3s\n",
      "[CV] END bootstrap=True, max_depth=10, max_features=sqrt, min_samples_leaf=1, min_samples_split=6, n_estimators=100; total time=   0.4s\n",
      "[CV] END bootstrap=True, max_depth=10, max_features=sqrt, min_samples_leaf=4, min_samples_split=6, n_estimators=50; total time=   0.3s\n",
      "[CV] END bootstrap=True, max_depth=10, max_features=sqrt, min_samples_leaf=4, min_samples_split=6, n_estimators=100; total time=   0.5s\n",
      "[CV] END bootstrap=True, max_depth=10, max_features=None, min_samples_leaf=1, min_samples_split=6, n_estimators=100; total time=   0.8s\n",
      "[CV] END bootstrap=True, max_depth=10, max_features=None, min_samples_leaf=4, min_samples_split=6, n_estimators=50; total time=   0.3s\n",
      "[CV] END bootstrap=True, max_depth=25, max_features=sqrt, min_samples_leaf=1, min_samples_split=2, n_estimators=50; total time=   0.2s\n",
      "[CV] END bootstrap=True, max_depth=25, max_features=sqrt, min_samples_leaf=1, min_samples_split=2, n_estimators=100; total time=   0.5s\n",
      "[CV] END bootstrap=True, max_depth=25, max_features=sqrt, min_samples_leaf=4, min_samples_split=2, n_estimators=100; total time=   0.5s\n",
      "[CV] END bootstrap=True, max_depth=25, max_features=None, min_samples_leaf=1, min_samples_split=2, n_estimators=50; total time=   0.5s\n",
      "[CV] END bootstrap=True, max_depth=25, max_features=None, min_samples_leaf=1, min_samples_split=6, n_estimators=100; total time=   0.9s\n",
      "[CV] END bootstrap=True, max_depth=25, max_features=None, min_samples_leaf=4, min_samples_split=6, n_estimators=50; total time=   0.5s\n",
      "[CV] END bootstrap=True, max_depth=None, max_features=sqrt, min_samples_leaf=1, min_samples_split=2, n_estimators=50; total time=   0.3s\n",
      "[CV] END bootstrap=True, max_depth=None, max_features=sqrt, min_samples_leaf=1, min_samples_split=6, n_estimators=50; total time=   0.3s\n",
      "[CV] END bootstrap=True, max_depth=None, max_features=sqrt, min_samples_leaf=1, min_samples_split=6, n_estimators=100; total time=   0.6s\n",
      "[CV] END bootstrap=True, max_depth=None, max_features=sqrt, min_samples_leaf=4, min_samples_split=6, n_estimators=100; total time=   0.5s\n",
      "[CV] END bootstrap=True, max_depth=None, max_features=None, min_samples_leaf=1, min_samples_split=2, n_estimators=100; total time=   0.9s\n",
      "[CV] END bootstrap=True, max_depth=None, max_features=None, min_samples_leaf=4, min_samples_split=2, n_estimators=100; total time=   0.9s\n",
      "[CV] END bootstrap=False, max_depth=10, max_features=sqrt, min_samples_leaf=1, min_samples_split=2, n_estimators=100; total time=   0.5s\n",
      "[CV] END bootstrap=False, max_depth=10, max_features=sqrt, min_samples_leaf=4, min_samples_split=2, n_estimators=100; total time=   0.6s\n",
      "[CV] END bootstrap=False, max_depth=10, max_features=None, min_samples_leaf=1, min_samples_split=2, n_estimators=50; total time=   0.5s\n",
      "[CV] END bootstrap=False, max_depth=10, max_features=None, min_samples_leaf=1, min_samples_split=6, n_estimators=100; total time=   1.0s\n",
      "[CV] END bootstrap=False, max_depth=10, max_features=None, min_samples_leaf=4, min_samples_split=2, n_estimators=100; total time=   1.0s\n",
      "[CV] END bootstrap=False, max_depth=25, max_features=sqrt, min_samples_leaf=1, min_samples_split=6, n_estimators=50; total time=   0.3s\n",
      "[CV] END bootstrap=False, max_depth=25, max_features=sqrt, min_samples_leaf=1, min_samples_split=6, n_estimators=100; total time=   0.6s\n",
      "[CV] END bootstrap=False, max_depth=25, max_features=sqrt, min_samples_leaf=4, min_samples_split=6, n_estimators=100; total time=   0.6s\n",
      "[CV] END bootstrap=False, max_depth=25, max_features=None, min_samples_leaf=1, min_samples_split=2, n_estimators=100; total time=   1.1s\n",
      "[CV] END bootstrap=False, max_depth=25, max_features=None, min_samples_leaf=4, min_samples_split=2, n_estimators=100; total time=   1.0s\n",
      "[CV] END bootstrap=False, max_depth=None, max_features=sqrt, min_samples_leaf=1, min_samples_split=2, n_estimators=100; total time=   0.6s\n",
      "[CV] END bootstrap=False, max_depth=None, max_features=sqrt, min_samples_leaf=4, min_samples_split=2, n_estimators=50; total time=   0.3s\n",
      "[CV] END bootstrap=False, max_depth=None, max_features=sqrt, min_samples_leaf=4, min_samples_split=6, n_estimators=50; total time=   0.2s\n",
      "[CV] END bootstrap=False, max_depth=None, max_features=sqrt, min_samples_leaf=4, min_samples_split=6, n_estimators=100; total time=   0.5s\n",
      "[CV] END bootstrap=False, max_depth=None, max_features=None, min_samples_leaf=1, min_samples_split=6, n_estimators=50; total time=   0.4s\n",
      "[CV] END bootstrap=False, max_depth=None, max_features=None, min_samples_leaf=1, min_samples_split=6, n_estimators=100; total time=   1.1s\n",
      "[CV] END bootstrap=False, max_depth=None, max_features=None, min_samples_leaf=4, min_samples_split=6, n_estimators=100; total time=   0.8s\n",
      "[CV] END ...copy_X=True, fit_intercept=True, normalize=False; total time=   0.0s\n",
      "[CV] END ..copy_X=False, fit_intercept=True, normalize=False; total time=   0.0s\n",
      "[CV] END .copy_X=False, fit_intercept=False, normalize=False; total time=   0.0s\n",
      "[CV] END ....copy_X=True, fit_intercept=True, normalize=True; total time=   0.0s\n",
      "[CV] END ...copy_X=True, fit_intercept=False, normalize=True; total time=   0.0s\n",
      "[CV] END ...copy_X=True, fit_intercept=False, normalize=True; total time=   0.0s\n",
      "[CV] END ..copy_X=True, fit_intercept=False, normalize=False; total time=   0.0s\n",
      "[CV] END ...copy_X=False, fit_intercept=True, normalize=True; total time=   0.0s\n",
      "[CV] END ..copy_X=False, fit_intercept=True, normalize=False; total time=   0.0s\n",
      "[CV] END ..copy_X=False, fit_intercept=False, normalize=True; total time=   0.0s\n",
      "[CV] END ...copy_X=True, fit_intercept=False, normalize=True; total time=   0.0s\n",
      "[CV] END ..copy_X=False, fit_intercept=False, normalize=True; total time=   0.0s\n",
      "[CV] END .copy_X=False, fit_intercept=False, normalize=False; total time=   0.0s\n",
      "[CV] END ....copy_X=True, fit_intercept=True, normalize=True; total time=   0.0s\n",
      "[CV] END ..copy_X=True, fit_intercept=False, normalize=False; total time=   0.0s\n",
      "[CV] END ..copy_X=False, fit_intercept=True, normalize=False; total time=   0.0s\n",
      "[CV] END .copy_X=False, fit_intercept=False, normalize=False; total time=   0.0s\n",
      "[CV] END ...copy_X=True, fit_intercept=True, normalize=False; total time=   0.0s\n",
      "[CV] END ..copy_X=False, fit_intercept=False, normalize=True; total time=   0.0s\n",
      "[CV] END ....copy_X=True, fit_intercept=True, normalize=True; total time=   0.0s\n",
      "[CV] END ...copy_X=True, fit_intercept=False, normalize=True; total time=   0.0s\n",
      "[CV] END ..copy_X=True, fit_intercept=False, normalize=False; total time=   0.0s\n",
      "[CV] END ...copy_X=False, fit_intercept=True, normalize=True; total time=   0.0s\n",
      "[CV] END .copy_X=False, fit_intercept=False, normalize=False; total time=   0.0s\n",
      "[CV] END ...copy_X=True, fit_intercept=True, normalize=False; total time=   0.0s\n",
      "[CV] END ..copy_X=True, fit_intercept=False, normalize=False; total time=   0.0s\n",
      "[CV] END ...copy_X=False, fit_intercept=True, normalize=True; total time=   0.0s\n",
      "[CV] END ..copy_X=False, fit_intercept=False, normalize=True; total time=   0.0s\n",
      "[CV] END .copy_X=False, fit_intercept=False, normalize=False; total time=   0.0s\n"
     ]
    },
    {
     "name": "stderr",
     "output_type": "stream",
     "text": [
      "/opt/anaconda3/lib/python3.8/site-packages/sklearn/linear_model/_base.py:148: FutureWarning: 'normalize' was deprecated in version 1.0 and will be removed in 1.2. Please leave the normalize parameter to its default value to silence this warning. The default behavior of this estimator is to not do any normalization. If normalization is needed please use sklearn.preprocessing.StandardScaler instead.\n",
      "  warnings.warn(\n",
      "/opt/anaconda3/lib/python3.8/site-packages/sklearn/linear_model/_base.py:148: FutureWarning: 'normalize' was deprecated in version 1.0 and will be removed in 1.2. Please leave the normalize parameter to its default value to silence this warning. The default behavior of this estimator is to not do any normalization. If normalization is needed please use sklearn.preprocessing.StandardScaler instead.\n",
      "  warnings.warn(\n",
      "/opt/anaconda3/lib/python3.8/site-packages/sklearn/linear_model/_base.py:148: FutureWarning: 'normalize' was deprecated in version 1.0 and will be removed in 1.2. Please leave the normalize parameter to its default value to silence this warning. The default behavior of this estimator is to not do any normalization. If normalization is needed please use sklearn.preprocessing.StandardScaler instead.\n",
      "  warnings.warn(\n",
      "/opt/anaconda3/lib/python3.8/site-packages/sklearn/linear_model/_base.py:141: FutureWarning: 'normalize' was deprecated in version 1.0 and will be removed in 1.2.\n",
      "If you wish to scale the data, use Pipeline with a StandardScaler in a preprocessing stage. To reproduce the previous behavior:\n",
      "\n",
      "from sklearn.pipeline import make_pipeline\n",
      "\n",
      "model = make_pipeline(StandardScaler(with_mean=False), LinearRegression())\n",
      "\n",
      "If you wish to pass a sample_weight parameter, you need to pass it as a fit parameter to each step of the pipeline as follows:\n",
      "\n",
      "kwargs = {s[0] + '__sample_weight': sample_weight for s in model.steps}\n",
      "model.fit(X, y, **kwargs)\n",
      "\n",
      "\n",
      "  warnings.warn(\n",
      "/opt/anaconda3/lib/python3.8/site-packages/sklearn/linear_model/_base.py:141: FutureWarning: 'normalize' was deprecated in version 1.0 and will be removed in 1.2.\n",
      "If you wish to scale the data, use Pipeline with a StandardScaler in a preprocessing stage. To reproduce the previous behavior:\n",
      "\n",
      "from sklearn.pipeline import make_pipeline\n",
      "\n",
      "model = make_pipeline(StandardScaler(with_mean=False), LinearRegression())\n",
      "\n",
      "If you wish to pass a sample_weight parameter, you need to pass it as a fit parameter to each step of the pipeline as follows:\n",
      "\n",
      "kwargs = {s[0] + '__sample_weight': sample_weight for s in model.steps}\n",
      "model.fit(X, y, **kwargs)\n",
      "\n",
      "\n",
      "  warnings.warn(\n",
      "/opt/anaconda3/lib/python3.8/site-packages/sklearn/linear_model/_base.py:141: FutureWarning: 'normalize' was deprecated in version 1.0 and will be removed in 1.2.\n",
      "If you wish to scale the data, use Pipeline with a StandardScaler in a preprocessing stage. To reproduce the previous behavior:\n",
      "\n",
      "from sklearn.pipeline import make_pipeline\n",
      "\n",
      "model = make_pipeline(StandardScaler(with_mean=False), LinearRegression())\n",
      "\n",
      "If you wish to pass a sample_weight parameter, you need to pass it as a fit parameter to each step of the pipeline as follows:\n",
      "\n",
      "kwargs = {s[0] + '__sample_weight': sample_weight for s in model.steps}\n",
      "model.fit(X, y, **kwargs)\n",
      "\n",
      "\n",
      "  warnings.warn(\n",
      "/opt/anaconda3/lib/python3.8/site-packages/sklearn/linear_model/_base.py:148: FutureWarning: 'normalize' was deprecated in version 1.0 and will be removed in 1.2. Please leave the normalize parameter to its default value to silence this warning. The default behavior of this estimator is to not do any normalization. If normalization is needed please use sklearn.preprocessing.StandardScaler instead.\n",
      "  warnings.warn(\n",
      "/opt/anaconda3/lib/python3.8/site-packages/sklearn/linear_model/_base.py:141: FutureWarning: 'normalize' was deprecated in version 1.0 and will be removed in 1.2.\n",
      "If you wish to scale the data, use Pipeline with a StandardScaler in a preprocessing stage. To reproduce the previous behavior:\n",
      "\n",
      "from sklearn.pipeline import make_pipeline\n",
      "\n",
      "model = make_pipeline(StandardScaler(with_mean=False), LinearRegression())\n",
      "\n",
      "If you wish to pass a sample_weight parameter, you need to pass it as a fit parameter to each step of the pipeline as follows:\n",
      "\n",
      "kwargs = {s[0] + '__sample_weight': sample_weight for s in model.steps}\n",
      "model.fit(X, y, **kwargs)\n",
      "\n",
      "\n",
      "  warnings.warn(\n",
      "/opt/anaconda3/lib/python3.8/site-packages/sklearn/linear_model/_base.py:148: FutureWarning: 'normalize' was deprecated in version 1.0 and will be removed in 1.2. Please leave the normalize parameter to its default value to silence this warning. The default behavior of this estimator is to not do any normalization. If normalization is needed please use sklearn.preprocessing.StandardScaler instead.\n",
      "  warnings.warn(\n",
      "/opt/anaconda3/lib/python3.8/site-packages/sklearn/linear_model/_base.py:141: FutureWarning: 'normalize' was deprecated in version 1.0 and will be removed in 1.2.\n",
      "If you wish to scale the data, use Pipeline with a StandardScaler in a preprocessing stage. To reproduce the previous behavior:\n",
      "\n",
      "from sklearn.pipeline import make_pipeline\n",
      "\n",
      "model = make_pipeline(StandardScaler(with_mean=False), LinearRegression())\n",
      "\n",
      "If you wish to pass a sample_weight parameter, you need to pass it as a fit parameter to each step of the pipeline as follows:\n",
      "\n",
      "kwargs = {s[0] + '__sample_weight': sample_weight for s in model.steps}\n",
      "model.fit(X, y, **kwargs)\n",
      "\n",
      "\n",
      "  warnings.warn(\n",
      "/opt/anaconda3/lib/python3.8/site-packages/sklearn/linear_model/_base.py:141: FutureWarning: 'normalize' was deprecated in version 1.0 and will be removed in 1.2.\n",
      "If you wish to scale the data, use Pipeline with a StandardScaler in a preprocessing stage. To reproduce the previous behavior:\n",
      "\n",
      "from sklearn.pipeline import make_pipeline\n",
      "\n",
      "model = make_pipeline(StandardScaler(with_mean=False), LinearRegression())\n",
      "\n",
      "If you wish to pass a sample_weight parameter, you need to pass it as a fit parameter to each step of the pipeline as follows:\n",
      "\n",
      "kwargs = {s[0] + '__sample_weight': sample_weight for s in model.steps}\n",
      "model.fit(X, y, **kwargs)\n",
      "\n",
      "\n",
      "  warnings.warn(\n",
      "/opt/anaconda3/lib/python3.8/site-packages/sklearn/linear_model/_base.py:141: FutureWarning: 'normalize' was deprecated in version 1.0 and will be removed in 1.2.\n",
      "If you wish to scale the data, use Pipeline with a StandardScaler in a preprocessing stage. To reproduce the previous behavior:\n",
      "\n",
      "from sklearn.pipeline import make_pipeline\n",
      "\n",
      "model = make_pipeline(StandardScaler(with_mean=False), LinearRegression())\n",
      "\n",
      "If you wish to pass a sample_weight parameter, you need to pass it as a fit parameter to each step of the pipeline as follows:\n",
      "\n",
      "kwargs = {s[0] + '__sample_weight': sample_weight for s in model.steps}\n",
      "model.fit(X, y, **kwargs)\n",
      "\n",
      "\n",
      "  warnings.warn(\n",
      "/opt/anaconda3/lib/python3.8/site-packages/sklearn/linear_model/_base.py:148: FutureWarning: 'normalize' was deprecated in version 1.0 and will be removed in 1.2. Please leave the normalize parameter to its default value to silence this warning. The default behavior of this estimator is to not do any normalization. If normalization is needed please use sklearn.preprocessing.StandardScaler instead.\n",
      "  warnings.warn(\n",
      "/opt/anaconda3/lib/python3.8/site-packages/sklearn/linear_model/_base.py:141: FutureWarning: 'normalize' was deprecated in version 1.0 and will be removed in 1.2.\n",
      "If you wish to scale the data, use Pipeline with a StandardScaler in a preprocessing stage. To reproduce the previous behavior:\n",
      "\n",
      "from sklearn.pipeline import make_pipeline\n",
      "\n",
      "model = make_pipeline(StandardScaler(with_mean=False), LinearRegression())\n",
      "\n",
      "If you wish to pass a sample_weight parameter, you need to pass it as a fit parameter to each step of the pipeline as follows:\n",
      "\n",
      "kwargs = {s[0] + '__sample_weight': sample_weight for s in model.steps}\n",
      "model.fit(X, y, **kwargs)\n",
      "\n",
      "\n",
      "  warnings.warn(\n",
      "/opt/anaconda3/lib/python3.8/site-packages/sklearn/linear_model/_base.py:148: FutureWarning: 'normalize' was deprecated in version 1.0 and will be removed in 1.2. Please leave the normalize parameter to its default value to silence this warning. The default behavior of this estimator is to not do any normalization. If normalization is needed please use sklearn.preprocessing.StandardScaler instead.\n",
      "  warnings.warn(\n",
      "/opt/anaconda3/lib/python3.8/site-packages/sklearn/linear_model/_base.py:148: FutureWarning: 'normalize' was deprecated in version 1.0 and will be removed in 1.2. Please leave the normalize parameter to its default value to silence this warning. The default behavior of this estimator is to not do any normalization. If normalization is needed please use sklearn.preprocessing.StandardScaler instead.\n",
      "  warnings.warn(\n",
      "/opt/anaconda3/lib/python3.8/site-packages/sklearn/linear_model/_base.py:148: FutureWarning: 'normalize' was deprecated in version 1.0 and will be removed in 1.2. Please leave the normalize parameter to its default value to silence this warning. The default behavior of this estimator is to not do any normalization. If normalization is needed please use sklearn.preprocessing.StandardScaler instead.\n",
      "  warnings.warn(\n",
      "/opt/anaconda3/lib/python3.8/site-packages/sklearn/linear_model/_base.py:148: FutureWarning: 'normalize' was deprecated in version 1.0 and will be removed in 1.2. Please leave the normalize parameter to its default value to silence this warning. The default behavior of this estimator is to not do any normalization. If normalization is needed please use sklearn.preprocessing.StandardScaler instead.\n",
      "  warnings.warn(\n",
      "/opt/anaconda3/lib/python3.8/site-packages/sklearn/linear_model/_base.py:141: FutureWarning: 'normalize' was deprecated in version 1.0 and will be removed in 1.2.\n",
      "If you wish to scale the data, use Pipeline with a StandardScaler in a preprocessing stage. To reproduce the previous behavior:\n",
      "\n",
      "from sklearn.pipeline import make_pipeline\n",
      "\n",
      "model = make_pipeline(StandardScaler(with_mean=False), LinearRegression())\n",
      "\n",
      "If you wish to pass a sample_weight parameter, you need to pass it as a fit parameter to each step of the pipeline as follows:\n",
      "\n",
      "kwargs = {s[0] + '__sample_weight': sample_weight for s in model.steps}\n",
      "model.fit(X, y, **kwargs)\n",
      "\n",
      "\n",
      "  warnings.warn(\n",
      "/opt/anaconda3/lib/python3.8/site-packages/sklearn/linear_model/_base.py:141: FutureWarning: 'normalize' was deprecated in version 1.0 and will be removed in 1.2.\n",
      "If you wish to scale the data, use Pipeline with a StandardScaler in a preprocessing stage. To reproduce the previous behavior:\n",
      "\n",
      "from sklearn.pipeline import make_pipeline\n",
      "\n",
      "model = make_pipeline(StandardScaler(with_mean=False), LinearRegression())\n",
      "\n",
      "If you wish to pass a sample_weight parameter, you need to pass it as a fit parameter to each step of the pipeline as follows:\n",
      "\n",
      "kwargs = {s[0] + '__sample_weight': sample_weight for s in model.steps}\n",
      "model.fit(X, y, **kwargs)\n",
      "\n",
      "\n",
      "  warnings.warn(\n",
      "/opt/anaconda3/lib/python3.8/site-packages/sklearn/linear_model/_base.py:141: FutureWarning: 'normalize' was deprecated in version 1.0 and will be removed in 1.2.\n",
      "If you wish to scale the data, use Pipeline with a StandardScaler in a preprocessing stage. To reproduce the previous behavior:\n",
      "\n",
      "from sklearn.pipeline import make_pipeline\n",
      "\n",
      "model = make_pipeline(StandardScaler(with_mean=False), LinearRegression())\n",
      "\n",
      "If you wish to pass a sample_weight parameter, you need to pass it as a fit parameter to each step of the pipeline as follows:\n",
      "\n",
      "kwargs = {s[0] + '__sample_weight': sample_weight for s in model.steps}\n",
      "model.fit(X, y, **kwargs)\n",
      "\n",
      "\n",
      "  warnings.warn(\n",
      "/opt/anaconda3/lib/python3.8/site-packages/sklearn/linear_model/_base.py:148: FutureWarning: 'normalize' was deprecated in version 1.0 and will be removed in 1.2. Please leave the normalize parameter to its default value to silence this warning. The default behavior of this estimator is to not do any normalization. If normalization is needed please use sklearn.preprocessing.StandardScaler instead.\n",
      "  warnings.warn(\n",
      "/opt/anaconda3/lib/python3.8/site-packages/sklearn/linear_model/_base.py:141: FutureWarning: 'normalize' was deprecated in version 1.0 and will be removed in 1.2.\n",
      "If you wish to scale the data, use Pipeline with a StandardScaler in a preprocessing stage. To reproduce the previous behavior:\n",
      "\n",
      "from sklearn.pipeline import make_pipeline\n",
      "\n",
      "model = make_pipeline(StandardScaler(with_mean=False), LinearRegression())\n",
      "\n",
      "If you wish to pass a sample_weight parameter, you need to pass it as a fit parameter to each step of the pipeline as follows:\n",
      "\n",
      "kwargs = {s[0] + '__sample_weight': sample_weight for s in model.steps}\n",
      "model.fit(X, y, **kwargs)\n",
      "\n",
      "\n",
      "  warnings.warn(\n",
      "/opt/anaconda3/lib/python3.8/site-packages/sklearn/linear_model/_base.py:148: FutureWarning: 'normalize' was deprecated in version 1.0 and will be removed in 1.2. Please leave the normalize parameter to its default value to silence this warning. The default behavior of this estimator is to not do any normalization. If normalization is needed please use sklearn.preprocessing.StandardScaler instead.\n",
      "  warnings.warn(\n",
      "/opt/anaconda3/lib/python3.8/site-packages/sklearn/linear_model/_base.py:148: FutureWarning: 'normalize' was deprecated in version 1.0 and will be removed in 1.2. Please leave the normalize parameter to its default value to silence this warning. The default behavior of this estimator is to not do any normalization. If normalization is needed please use sklearn.preprocessing.StandardScaler instead.\n",
      "  warnings.warn(\n",
      "/opt/anaconda3/lib/python3.8/site-packages/sklearn/linear_model/_base.py:148: FutureWarning: 'normalize' was deprecated in version 1.0 and will be removed in 1.2. Please leave the normalize parameter to its default value to silence this warning. The default behavior of this estimator is to not do any normalization. If normalization is needed please use sklearn.preprocessing.StandardScaler instead.\n",
      "  warnings.warn(\n",
      "/opt/anaconda3/lib/python3.8/site-packages/sklearn/linear_model/_base.py:141: FutureWarning: 'normalize' was deprecated in version 1.0 and will be removed in 1.2.\n",
      "If you wish to scale the data, use Pipeline with a StandardScaler in a preprocessing stage. To reproduce the previous behavior:\n",
      "\n",
      "from sklearn.pipeline import make_pipeline\n",
      "\n",
      "model = make_pipeline(StandardScaler(with_mean=False), LinearRegression())\n",
      "\n",
      "If you wish to pass a sample_weight parameter, you need to pass it as a fit parameter to each step of the pipeline as follows:\n",
      "\n",
      "kwargs = {s[0] + '__sample_weight': sample_weight for s in model.steps}\n",
      "model.fit(X, y, **kwargs)\n",
      "\n",
      "\n",
      "  warnings.warn(\n",
      "/opt/anaconda3/lib/python3.8/site-packages/sklearn/linear_model/_base.py:141: FutureWarning: 'normalize' was deprecated in version 1.0 and will be removed in 1.2.\n",
      "If you wish to scale the data, use Pipeline with a StandardScaler in a preprocessing stage. To reproduce the previous behavior:\n",
      "\n",
      "from sklearn.pipeline import make_pipeline\n",
      "\n",
      "model = make_pipeline(StandardScaler(with_mean=False), LinearRegression())\n",
      "\n",
      "If you wish to pass a sample_weight parameter, you need to pass it as a fit parameter to each step of the pipeline as follows:\n",
      "\n",
      "kwargs = {s[0] + '__sample_weight': sample_weight for s in model.steps}\n",
      "model.fit(X, y, **kwargs)\n",
      "\n",
      "\n",
      "  warnings.warn(\n",
      "/opt/anaconda3/lib/python3.8/site-packages/sklearn/linear_model/_base.py:148: FutureWarning: 'normalize' was deprecated in version 1.0 and will be removed in 1.2. Please leave the normalize parameter to its default value to silence this warning. The default behavior of this estimator is to not do any normalization. If normalization is needed please use sklearn.preprocessing.StandardScaler instead.\n",
      "  warnings.warn(\n"
     ]
    }
   ],
   "source": [
    "# Print the new r_sqrd\n",
    "r_sqrd = lr_model_3.score(X, y)\n",
    "r_sqrd = round(r_sqrd, 5)\n",
    "print('The new r-squared for the profile visits and kissesis: ', r_sqrd)\n",
    "\n"
   ]
  },
  {
   "cell_type": "markdown",
   "id": "c2d5fd82",
   "metadata": {},
   "source": [
    "This tuning of hyperparameters overfitted the model as our r-squared score actually went dow by .03."
   ]
  },
  {
   "cell_type": "code",
   "execution_count": null,
   "id": "9520b83f",
   "metadata": {},
   "outputs": [],
   "source": []
  }
 ],
 "metadata": {
  "kernelspec": {
   "display_name": "Python 3 (ipykernel)",
   "language": "python",
   "name": "python3"
  },
  "language_info": {
   "codemirror_mode": {
    "name": "ipython",
    "version": 3
   },
   "file_extension": ".py",
   "mimetype": "text/x-python",
   "name": "python",
   "nbconvert_exporter": "python",
   "pygments_lexer": "ipython3",
   "version": "3.8.8"
  }
 },
 "nbformat": 4,
 "nbformat_minor": 5
}
