{
 "cells": [
  {
   "cell_type": "markdown",
   "id": "fd69f7ad",
   "metadata": {},
   "source": [
    "## How to Hack your Dating App\n",
    "\n",
    "Group members: Alison Picerno, Simone Ritchenson, Arielle Greenberg, Vivian Weigel"
   ]
  },
  {
   "cell_type": "code",
   "execution_count": 1,
   "id": "80b15316",
   "metadata": {},
   "outputs": [
    {
     "data": {
      "text/html": [
       "<div>\n",
       "<style scoped>\n",
       "    .dataframe tbody tr th:only-of-type {\n",
       "        vertical-align: middle;\n",
       "    }\n",
       "\n",
       "    .dataframe tbody tr th {\n",
       "        vertical-align: top;\n",
       "    }\n",
       "\n",
       "    .dataframe thead th {\n",
       "        text-align: right;\n",
       "    }\n",
       "</style>\n",
       "<table border=\"1\" class=\"dataframe\">\n",
       "  <thead>\n",
       "    <tr style=\"text-align: right;\">\n",
       "      <th></th>\n",
       "      <th>gender</th>\n",
       "      <th>genderLooking</th>\n",
       "      <th>age</th>\n",
       "      <th>name</th>\n",
       "      <th>counts_details</th>\n",
       "      <th>counts_pictures</th>\n",
       "      <th>counts_profileVisits</th>\n",
       "      <th>counts_kisses</th>\n",
       "      <th>counts_fans</th>\n",
       "      <th>counts_g</th>\n",
       "      <th>...</th>\n",
       "      <th>shareProfileEnabled</th>\n",
       "      <th>lastOnlineDate</th>\n",
       "      <th>lastOnlineTime</th>\n",
       "      <th>birthd</th>\n",
       "      <th>crypt</th>\n",
       "      <th>freetext</th>\n",
       "      <th>whazzup</th>\n",
       "      <th>userId</th>\n",
       "      <th>pictureId</th>\n",
       "      <th>isSystemProfile</th>\n",
       "    </tr>\n",
       "  </thead>\n",
       "  <tbody>\n",
       "    <tr>\n",
       "      <th>0</th>\n",
       "      <td>F</td>\n",
       "      <td>M</td>\n",
       "      <td>25</td>\n",
       "      <td>daeni</td>\n",
       "      <td>1.00</td>\n",
       "      <td>4</td>\n",
       "      <td>8279</td>\n",
       "      <td>239</td>\n",
       "      <td>0</td>\n",
       "      <td>3</td>\n",
       "      <td>...</td>\n",
       "      <td>1</td>\n",
       "      <td>2015-04-25T20:43:26Z</td>\n",
       "      <td>1.429995e+09</td>\n",
       "      <td>0</td>\n",
       "      <td>NaN</td>\n",
       "      <td>Nur tote Fisch schwimmen mit dem Strom</td>\n",
       "      <td>Nur tote fische schwimmen mit dem strom</td>\n",
       "      <td>4e3842f79b70e7ea57000064</td>\n",
       "      <td>55303fc3160ba0eb728b4575</td>\n",
       "      <td>NaN</td>\n",
       "    </tr>\n",
       "    <tr>\n",
       "      <th>1</th>\n",
       "      <td>F</td>\n",
       "      <td>M</td>\n",
       "      <td>22</td>\n",
       "      <td>italiana 92</td>\n",
       "      <td>0.85</td>\n",
       "      <td>5</td>\n",
       "      <td>663</td>\n",
       "      <td>13</td>\n",
       "      <td>0</td>\n",
       "      <td>0</td>\n",
       "      <td>...</td>\n",
       "      <td>1</td>\n",
       "      <td>2015-04-26T09:19:35Z</td>\n",
       "      <td>1.430040e+09</td>\n",
       "      <td>0</td>\n",
       "      <td>NaN</td>\n",
       "      <td>NaN</td>\n",
       "      <td>Primaveraaa&lt;3</td>\n",
       "      <td>4e3d34bf5d2bce7b160006a3</td>\n",
       "      <td>552e7b61c66da10d1e8b4c82</td>\n",
       "      <td>NaN</td>\n",
       "    </tr>\n",
       "    <tr>\n",
       "      <th>2</th>\n",
       "      <td>F</td>\n",
       "      <td>M</td>\n",
       "      <td>21</td>\n",
       "      <td>Lauraaa</td>\n",
       "      <td>0.00</td>\n",
       "      <td>4</td>\n",
       "      <td>1369</td>\n",
       "      <td>88</td>\n",
       "      <td>0</td>\n",
       "      <td>2</td>\n",
       "      <td>...</td>\n",
       "      <td>1</td>\n",
       "      <td>2015-04-06T14:24:07Z</td>\n",
       "      <td>1.428330e+09</td>\n",
       "      <td>0</td>\n",
       "      <td>NaN</td>\n",
       "      <td>NaN</td>\n",
       "      <td>NaN</td>\n",
       "      <td>4ec96c090dc82cb25d00000a</td>\n",
       "      <td>54a584ecc56da128638b4674</td>\n",
       "      <td>NaN</td>\n",
       "    </tr>\n",
       "    <tr>\n",
       "      <th>3</th>\n",
       "      <td>F</td>\n",
       "      <td>none</td>\n",
       "      <td>20</td>\n",
       "      <td>Qqkwmdowlo</td>\n",
       "      <td>0.12</td>\n",
       "      <td>3</td>\n",
       "      <td>22187</td>\n",
       "      <td>1015</td>\n",
       "      <td>2</td>\n",
       "      <td>3</td>\n",
       "      <td>...</td>\n",
       "      <td>1</td>\n",
       "      <td>2015-04-07T11:21:01Z</td>\n",
       "      <td>1.428406e+09</td>\n",
       "      <td>0</td>\n",
       "      <td>NaN</td>\n",
       "      <td>NaN</td>\n",
       "      <td>Je pense donc je suis.  Instagram quedev</td>\n",
       "      <td>4eef8b81ebf2c8f64000000c</td>\n",
       "      <td>54c92738076ea1b5338b4735</td>\n",
       "      <td>NaN</td>\n",
       "    </tr>\n",
       "    <tr>\n",
       "      <th>4</th>\n",
       "      <td>F</td>\n",
       "      <td>M</td>\n",
       "      <td>21</td>\n",
       "      <td>schaessie {3</td>\n",
       "      <td>0.15</td>\n",
       "      <td>12</td>\n",
       "      <td>35262</td>\n",
       "      <td>1413</td>\n",
       "      <td>9</td>\n",
       "      <td>12</td>\n",
       "      <td>...</td>\n",
       "      <td>1</td>\n",
       "      <td>2015-04-06T14:25:20Z</td>\n",
       "      <td>1.428330e+09</td>\n",
       "      <td>0</td>\n",
       "      <td>NaN</td>\n",
       "      <td>NaN</td>\n",
       "      <td>Instagram: JESSSIESCH</td>\n",
       "      <td>4ef3cc5aa9d0b3d07d000017</td>\n",
       "      <td>54e1a6f6c76da135748b4a3a</td>\n",
       "      <td>NaN</td>\n",
       "    </tr>\n",
       "  </tbody>\n",
       "</table>\n",
       "<p>5 rows × 42 columns</p>\n",
       "</div>"
      ],
      "text/plain": [
       "  gender genderLooking  age          name  counts_details  counts_pictures  \\\n",
       "0      F             M   25         daeni            1.00                4   \n",
       "1      F             M   22   italiana 92            0.85                5   \n",
       "2      F             M   21       Lauraaa            0.00                4   \n",
       "3      F          none   20    Qqkwmdowlo            0.12                3   \n",
       "4      F             M   21  schaessie {3            0.15               12   \n",
       "\n",
       "   counts_profileVisits  counts_kisses  counts_fans  counts_g  ...  \\\n",
       "0                  8279            239            0         3  ...   \n",
       "1                   663             13            0         0  ...   \n",
       "2                  1369             88            0         2  ...   \n",
       "3                 22187           1015            2         3  ...   \n",
       "4                 35262           1413            9        12  ...   \n",
       "\n",
       "   shareProfileEnabled        lastOnlineDate  lastOnlineTime birthd crypt  \\\n",
       "0                    1  2015-04-25T20:43:26Z    1.429995e+09      0   NaN   \n",
       "1                    1  2015-04-26T09:19:35Z    1.430040e+09      0   NaN   \n",
       "2                    1  2015-04-06T14:24:07Z    1.428330e+09      0   NaN   \n",
       "3                    1  2015-04-07T11:21:01Z    1.428406e+09      0   NaN   \n",
       "4                    1  2015-04-06T14:25:20Z    1.428330e+09      0   NaN   \n",
       "\n",
       "                                 freetext  \\\n",
       "0  Nur tote Fisch schwimmen mit dem Strom   \n",
       "1                                     NaN   \n",
       "2                                     NaN   \n",
       "3                                     NaN   \n",
       "4                                     NaN   \n",
       "\n",
       "                                    whazzup                    userId  \\\n",
       "0   Nur tote fische schwimmen mit dem strom  4e3842f79b70e7ea57000064   \n",
       "1                             Primaveraaa<3  4e3d34bf5d2bce7b160006a3   \n",
       "2                                       NaN  4ec96c090dc82cb25d00000a   \n",
       "3  Je pense donc je suis.  Instagram quedev  4eef8b81ebf2c8f64000000c   \n",
       "4                     Instagram: JESSSIESCH  4ef3cc5aa9d0b3d07d000017   \n",
       "\n",
       "                  pictureId  isSystemProfile  \n",
       "0  55303fc3160ba0eb728b4575              NaN  \n",
       "1  552e7b61c66da10d1e8b4c82              NaN  \n",
       "2  54a584ecc56da128638b4674              NaN  \n",
       "3  54c92738076ea1b5338b4735              NaN  \n",
       "4  54e1a6f6c76da135748b4a3a              NaN  \n",
       "\n",
       "[5 rows x 42 columns]"
      ]
     },
     "execution_count": 1,
     "metadata": {},
     "output_type": "execute_result"
    }
   ],
   "source": [
    "import pandas as pd\n",
    "\n",
    "# read in data and look at head to get a sense of data\n",
    "df = pd.read_csv('lovoo_users.csv')\n",
    "df.head()"
   ]
  },
  {
   "cell_type": "code",
   "execution_count": 2,
   "id": "428c7899",
   "metadata": {},
   "outputs": [
    {
     "name": "stdout",
     "output_type": "stream",
     "text": [
      "<class 'pandas.core.frame.DataFrame'>\n",
      "RangeIndex: 3992 entries, 0 to 3991\n",
      "Data columns (total 42 columns):\n",
      " #   Column                  Non-Null Count  Dtype  \n",
      "---  ------                  --------------  -----  \n",
      " 0   gender                  3992 non-null   object \n",
      " 1   genderLooking           3992 non-null   object \n",
      " 2   age                     3992 non-null   int64  \n",
      " 3   name                    3992 non-null   object \n",
      " 4   counts_details          3992 non-null   float64\n",
      " 5   counts_pictures         3992 non-null   int64  \n",
      " 6   counts_profileVisits    3992 non-null   int64  \n",
      " 7   counts_kisses           3992 non-null   int64  \n",
      " 8   counts_fans             3992 non-null   int64  \n",
      " 9   counts_g                3992 non-null   int64  \n",
      " 10  flirtInterests_chat     3992 non-null   bool   \n",
      " 11  flirtInterests_friends  3992 non-null   bool   \n",
      " 12  flirtInterests_date     3992 non-null   bool   \n",
      " 13  country                 3992 non-null   object \n",
      " 14  city                    3706 non-null   object \n",
      " 15  location                3979 non-null   object \n",
      " 16  distance                3946 non-null   float64\n",
      " 17  isFlirtstar             3992 non-null   int64  \n",
      " 18  isHighlighted           3992 non-null   int64  \n",
      " 19  isInfluencer            3992 non-null   int64  \n",
      " 20  isMobile                3992 non-null   int64  \n",
      " 21  isNew                   3992 non-null   int64  \n",
      " 22  isOnline                3992 non-null   int64  \n",
      " 23  isVip                   3992 non-null   int64  \n",
      " 24  lang_count              3992 non-null   int64  \n",
      " 25  lang_fr                 3992 non-null   bool   \n",
      " 26  lang_en                 3992 non-null   bool   \n",
      " 27  lang_de                 3992 non-null   bool   \n",
      " 28  lang_it                 3992 non-null   bool   \n",
      " 29  lang_es                 3992 non-null   bool   \n",
      " 30  lang_pt                 3992 non-null   bool   \n",
      " 31  verified                3992 non-null   int64  \n",
      " 32  shareProfileEnabled     3992 non-null   int64  \n",
      " 33  lastOnlineDate          3991 non-null   object \n",
      " 34  lastOnlineTime          3991 non-null   float64\n",
      " 35  birthd                  3992 non-null   int64  \n",
      " 36  crypt                   46 non-null     float64\n",
      " 37  freetext                113 non-null    object \n",
      " 38  whazzup                 2399 non-null   object \n",
      " 39  userId                  3992 non-null   object \n",
      " 40  pictureId               3901 non-null   object \n",
      " 41  isSystemProfile         2 non-null      float64\n",
      "dtypes: bool(9), float64(5), int64(17), object(11)\n",
      "memory usage: 1.0+ MB\n"
     ]
    }
   ],
   "source": [
    "# look at types of data\n",
    "df.info()"
   ]
  },
  {
   "cell_type": "code",
   "execution_count": 3,
   "id": "8cafbcca",
   "metadata": {},
   "outputs": [],
   "source": [
    "# change invalid types \n",
    "df['gender']  = df['gender'].astype(str)\n",
    "df['genderLooking']  = df['genderLooking'].astype(str)\n",
    "df['country']  = df['country'].astype(str)\n",
    "df['city']  = df['city'].astype(str)\n",
    "df['location']  = df['location'].astype(str)\n",
    "df['name']  = df['name'].astype(str)\n",
    "df['freetext']  = df['freetext'].astype(str)\n",
    "df['whazzup']  = df['whazzup'].astype(str)\n",
    "df['userId']  = df['userId'].astype(str)\n",
    "df['pictureId']  = df['pictureId'].astype(str)"
   ]
  },
  {
   "cell_type": "code",
   "execution_count": 4,
   "id": "8d78f4bd",
   "metadata": {},
   "outputs": [
    {
     "data": {
      "text/plain": [
       "gender                     0.000000\n",
       "genderLooking              0.000000\n",
       "age                        0.000000\n",
       "name                       0.000000\n",
       "counts_details             0.000000\n",
       "counts_pictures            0.000000\n",
       "counts_profileVisits       0.000000\n",
       "counts_kisses              0.000000\n",
       "counts_fans                0.000000\n",
       "counts_g                   0.000000\n",
       "flirtInterests_chat        0.000000\n",
       "flirtInterests_friends     0.000000\n",
       "flirtInterests_date        0.000000\n",
       "country                    0.000000\n",
       "city                       0.000000\n",
       "location                   0.000000\n",
       "distance                   1.152305\n",
       "isFlirtstar                0.000000\n",
       "isHighlighted              0.000000\n",
       "isInfluencer               0.000000\n",
       "isMobile                   0.000000\n",
       "isNew                      0.000000\n",
       "isOnline                   0.000000\n",
       "isVip                      0.000000\n",
       "lang_count                 0.000000\n",
       "lang_fr                    0.000000\n",
       "lang_en                    0.000000\n",
       "lang_de                    0.000000\n",
       "lang_it                    0.000000\n",
       "lang_es                    0.000000\n",
       "lang_pt                    0.000000\n",
       "verified                   0.000000\n",
       "shareProfileEnabled        0.000000\n",
       "lastOnlineDate             0.025050\n",
       "lastOnlineTime             0.025050\n",
       "birthd                     0.000000\n",
       "crypt                     98.847695\n",
       "freetext                   0.000000\n",
       "whazzup                    0.000000\n",
       "userId                     0.000000\n",
       "pictureId                  0.000000\n",
       "isSystemProfile           99.949900\n",
       "dtype: float64"
      ]
     },
     "execution_count": 4,
     "metadata": {},
     "output_type": "execute_result"
    }
   ],
   "source": [
    "# find the percentage of null values each colum\n",
    "df.isnull().mean()*100"
   ]
  },
  {
   "cell_type": "code",
   "execution_count": 5,
   "id": "52a24118",
   "metadata": {},
   "outputs": [],
   "source": [
    "# drop columns with very high percentages of missing data\n",
    "df = df.drop(['isSystemProfile'], axis=1)\n",
    "df = df.drop(['crypt'], axis=1)"
   ]
  },
  {
   "cell_type": "code",
   "execution_count": 6,
   "id": "525d0624",
   "metadata": {},
   "outputs": [
    {
     "data": {
      "text/plain": [
       "207.2300050684237"
      ]
     },
     "execution_count": 6,
     "metadata": {},
     "output_type": "execute_result"
    }
   ],
   "source": [
    "# find mean distance\n",
    "df['distance'].mean()"
   ]
  },
  {
   "cell_type": "code",
   "execution_count": 7,
   "id": "219b2bac",
   "metadata": {},
   "outputs": [],
   "source": [
    "# replace null values with mean\n",
    "df.loc[df[\"distance\"].isnull(), \"distance\"] = df['distance'].mean()"
   ]
  },
  {
   "cell_type": "code",
   "execution_count": 8,
   "id": "5cb51c25",
   "metadata": {},
   "outputs": [
    {
     "data": {
      "text/plain": [
       "2015-04-07T00:08:59Z    7\n",
       "2015-04-06T14:23:52Z    7\n",
       "2015-04-19T08:37:52Z    6\n",
       "2015-04-05T07:13:49Z    6\n",
       "2015-04-06T16:02:55Z    5\n",
       "                       ..\n",
       "2015-04-06T16:03:19Z    1\n",
       "2015-04-26T09:37:25Z    1\n",
       "2015-04-26T11:41:36Z    1\n",
       "2015-04-19T23:59:22Z    1\n",
       "2015-04-19T11:00:59Z    1\n",
       "Name: lastOnlineDate, Length: 3470, dtype: int64"
      ]
     },
     "execution_count": 8,
     "metadata": {},
     "output_type": "execute_result"
    }
   ],
   "source": [
    "# find most common dates\n",
    "df['lastOnlineDate'].value_counts()"
   ]
  },
  {
   "cell_type": "code",
   "execution_count": 9,
   "id": "9d5d7bc5",
   "metadata": {},
   "outputs": [],
   "source": [
    "# replace null values with common date\n",
    "df.loc[df[\"lastOnlineDate\"].isnull(), \"lastOnlineDate\"] = '2015-04-07T00:08:59Z'"
   ]
  },
  {
   "cell_type": "code",
   "execution_count": 10,
   "id": "2791aa1e",
   "metadata": {},
   "outputs": [
    {
     "data": {
      "text/plain": [
       "1.428365e+09    7\n",
       "1.428330e+09    7\n",
       "1.429433e+09    6\n",
       "1.428218e+09    6\n",
       "1.428336e+09    5\n",
       "               ..\n",
       "1.428336e+09    1\n",
       "1.430041e+09    1\n",
       "1.430048e+09    1\n",
       "1.429488e+09    1\n",
       "1.429441e+09    1\n",
       "Name: lastOnlineTime, Length: 3470, dtype: int64"
      ]
     },
     "execution_count": 10,
     "metadata": {},
     "output_type": "execute_result"
    }
   ],
   "source": [
    "# find most common time\n",
    "df['lastOnlineTime'].value_counts()"
   ]
  },
  {
   "cell_type": "code",
   "execution_count": 11,
   "id": "28299371",
   "metadata": {},
   "outputs": [],
   "source": [
    "# replace null values with common time\n",
    "df.loc[df[\"lastOnlineTime\"].isnull(), \"lastOnlineTime\"] = 1.428365e+09"
   ]
  },
  {
   "cell_type": "code",
   "execution_count": 12,
   "id": "3e89e3a7",
   "metadata": {},
   "outputs": [
    {
     "data": {
      "text/plain": [
       "gender                    0.0\n",
       "genderLooking             0.0\n",
       "age                       0.0\n",
       "name                      0.0\n",
       "counts_details            0.0\n",
       "counts_pictures           0.0\n",
       "counts_profileVisits      0.0\n",
       "counts_kisses             0.0\n",
       "counts_fans               0.0\n",
       "counts_g                  0.0\n",
       "flirtInterests_chat       0.0\n",
       "flirtInterests_friends    0.0\n",
       "flirtInterests_date       0.0\n",
       "country                   0.0\n",
       "city                      0.0\n",
       "location                  0.0\n",
       "distance                  0.0\n",
       "isFlirtstar               0.0\n",
       "isHighlighted             0.0\n",
       "isInfluencer              0.0\n",
       "isMobile                  0.0\n",
       "isNew                     0.0\n",
       "isOnline                  0.0\n",
       "isVip                     0.0\n",
       "lang_count                0.0\n",
       "lang_fr                   0.0\n",
       "lang_en                   0.0\n",
       "lang_de                   0.0\n",
       "lang_it                   0.0\n",
       "lang_es                   0.0\n",
       "lang_pt                   0.0\n",
       "verified                  0.0\n",
       "shareProfileEnabled       0.0\n",
       "lastOnlineDate            0.0\n",
       "lastOnlineTime            0.0\n",
       "birthd                    0.0\n",
       "freetext                  0.0\n",
       "whazzup                   0.0\n",
       "userId                    0.0\n",
       "pictureId                 0.0\n",
       "dtype: float64"
      ]
     },
     "execution_count": 12,
     "metadata": {},
     "output_type": "execute_result"
    }
   ],
   "source": [
    "# we can see that all null values are gone\n",
    "df.isnull().mean()*100"
   ]
  },
  {
   "cell_type": "markdown",
   "id": "8a9a65ed",
   "metadata": {},
   "source": [
    "## RANDOM FOREST REGRESSOR"
   ]
  },
  {
   "cell_type": "code",
   "execution_count": 17,
   "id": "595b9ddf",
   "metadata": {},
   "outputs": [],
   "source": [
    "from sklearn.preprocessing import OneHotEncoder\n",
    "import pandas as pd\n",
    "import numpy as np\n",
    "from sklearn.ensemble import RandomForestRegressor\n",
    "from sklearn.model_selection import train_test_split\n",
    "from sklearn.metrics import mean_squared_error\n",
    "import matplotlib.pyplot as plt\n",
    "import seaborn as sns\n",
    "sns.set_style('darkgrid')"
   ]
  },
  {
   "cell_type": "markdown",
   "id": "b3097cea",
   "metadata": {},
   "source": [
    "## Only select the Paramters we chose"
   ]
  },
  {
   "cell_type": "code",
   "execution_count": 16,
   "id": "05227f34",
   "metadata": {},
   "outputs": [],
   "source": [
    "new_df = df[['counts_kisses', 'age', 'counts_pictures', 'counts_profileVisits',\n",
    "            'counts_fans', 'isOnline', 'verified', 'distance']].copy()\n"
   ]
  },
  {
   "cell_type": "markdown",
   "id": "134ef105",
   "metadata": {},
   "source": [
    "Partition the data"
   ]
  },
  {
   "cell_type": "code",
   "execution_count": 18,
   "id": "29360212",
   "metadata": {},
   "outputs": [],
   "source": [
    "X   = new_df[['age', 'counts_pictures', 'counts_profileVisits',\n",
    "            'counts_fans', 'isOnline', 'verified', 'distance']] #get the input features\n",
    "y   = new_df['counts_kisses']              #get the target\n",
    "\n",
    "X_train, X_test, y_train, y_test = train_test_split(X,              #the input features\n",
    "                                                    y,              #the label\n",
    "                                                    test_size=0.3,  #set aside 30% of the data as the test set\n",
    "                                                    random_state=7 #reproduce the results\n",
    "                                                   )"
   ]
  },
  {
   "cell_type": "code",
   "execution_count": 19,
   "id": "aefc116a",
   "metadata": {},
   "outputs": [],
   "source": [
    "X_train = X_train.copy()\n",
    "X_test  = X_test.copy()"
   ]
  },
  {
   "cell_type": "markdown",
   "id": "86acd5a3",
   "metadata": {},
   "source": [
    "Encode categorical feature"
   ]
  },
  {
   "cell_type": "code",
   "execution_count": 20,
   "id": "7e029477",
   "metadata": {},
   "outputs": [],
   "source": [
    "#encode the categorical feature verified\n",
    "encoder = OneHotEncoder(sparse=False, handle_unknown='ignore') #drop one of the encoded verified columns\n",
    "encoder.fit(X_train[['verified']])\n",
    "#enc.categories_ #view the categories\n",
    "\n",
    "X_train['verified'] = encoder.transform(X_train[['verified']])\n",
    "\n"
   ]
  },
  {
   "cell_type": "code",
   "execution_count": 21,
   "id": "691c83e2",
   "metadata": {},
   "outputs": [
    {
     "data": {
      "text/html": [
       "<div>\n",
       "<style scoped>\n",
       "    .dataframe tbody tr th:only-of-type {\n",
       "        vertical-align: middle;\n",
       "    }\n",
       "\n",
       "    .dataframe tbody tr th {\n",
       "        vertical-align: top;\n",
       "    }\n",
       "\n",
       "    .dataframe thead th {\n",
       "        text-align: right;\n",
       "    }\n",
       "</style>\n",
       "<table border=\"1\" class=\"dataframe\">\n",
       "  <thead>\n",
       "    <tr style=\"text-align: right;\">\n",
       "      <th></th>\n",
       "      <th>age</th>\n",
       "      <th>counts_pictures</th>\n",
       "      <th>counts_profileVisits</th>\n",
       "      <th>counts_fans</th>\n",
       "      <th>isOnline</th>\n",
       "      <th>verified</th>\n",
       "      <th>distance</th>\n",
       "    </tr>\n",
       "  </thead>\n",
       "  <tbody>\n",
       "    <tr>\n",
       "      <th>3609</th>\n",
       "      <td>25</td>\n",
       "      <td>2</td>\n",
       "      <td>5580</td>\n",
       "      <td>2</td>\n",
       "      <td>0</td>\n",
       "      <td>0.0</td>\n",
       "      <td>2.4</td>\n",
       "    </tr>\n",
       "    <tr>\n",
       "      <th>270</th>\n",
       "      <td>25</td>\n",
       "      <td>20</td>\n",
       "      <td>10553</td>\n",
       "      <td>1</td>\n",
       "      <td>1</td>\n",
       "      <td>1.0</td>\n",
       "      <td>80.2</td>\n",
       "    </tr>\n",
       "    <tr>\n",
       "      <th>170</th>\n",
       "      <td>21</td>\n",
       "      <td>3</td>\n",
       "      <td>3075</td>\n",
       "      <td>15</td>\n",
       "      <td>0</td>\n",
       "      <td>1.0</td>\n",
       "      <td>138.0</td>\n",
       "    </tr>\n",
       "    <tr>\n",
       "      <th>3164</th>\n",
       "      <td>24</td>\n",
       "      <td>1</td>\n",
       "      <td>230</td>\n",
       "      <td>0</td>\n",
       "      <td>1</td>\n",
       "      <td>1.0</td>\n",
       "      <td>429.0</td>\n",
       "    </tr>\n",
       "    <tr>\n",
       "      <th>2747</th>\n",
       "      <td>19</td>\n",
       "      <td>4</td>\n",
       "      <td>488</td>\n",
       "      <td>0</td>\n",
       "      <td>0</td>\n",
       "      <td>1.0</td>\n",
       "      <td>103.0</td>\n",
       "    </tr>\n",
       "  </tbody>\n",
       "</table>\n",
       "</div>"
      ],
      "text/plain": [
       "      age  counts_pictures  counts_profileVisits  counts_fans  isOnline  \\\n",
       "3609   25                2                  5580            2         0   \n",
       "270    25               20                 10553            1         1   \n",
       "170    21                3                  3075           15         0   \n",
       "3164   24                1                   230            0         1   \n",
       "2747   19                4                   488            0         0   \n",
       "\n",
       "      verified  distance  \n",
       "3609       0.0       2.4  \n",
       "270        1.0      80.2  \n",
       "170        1.0     138.0  \n",
       "3164       1.0     429.0  \n",
       "2747       1.0     103.0  "
      ]
     },
     "execution_count": 21,
     "metadata": {},
     "output_type": "execute_result"
    }
   ],
   "source": [
    "#double check that its encoded\n",
    "X_train.head()"
   ]
  },
  {
   "cell_type": "markdown",
   "id": "0f6eb8b8",
   "metadata": {},
   "source": [
    "Run the random forest regressor"
   ]
  },
  {
   "cell_type": "code",
   "execution_count": 22,
   "id": "dce6833b",
   "metadata": {},
   "outputs": [
    {
     "data": {
      "text/html": [
       "<style>#sk-container-id-1 {color: black;background-color: white;}#sk-container-id-1 pre{padding: 0;}#sk-container-id-1 div.sk-toggleable {background-color: white;}#sk-container-id-1 label.sk-toggleable__label {cursor: pointer;display: block;width: 100%;margin-bottom: 0;padding: 0.3em;box-sizing: border-box;text-align: center;}#sk-container-id-1 label.sk-toggleable__label-arrow:before {content: \"▸\";float: left;margin-right: 0.25em;color: #696969;}#sk-container-id-1 label.sk-toggleable__label-arrow:hover:before {color: black;}#sk-container-id-1 div.sk-estimator:hover label.sk-toggleable__label-arrow:before {color: black;}#sk-container-id-1 div.sk-toggleable__content {max-height: 0;max-width: 0;overflow: hidden;text-align: left;background-color: #f0f8ff;}#sk-container-id-1 div.sk-toggleable__content pre {margin: 0.2em;color: black;border-radius: 0.25em;background-color: #f0f8ff;}#sk-container-id-1 input.sk-toggleable__control:checked~div.sk-toggleable__content {max-height: 200px;max-width: 100%;overflow: auto;}#sk-container-id-1 input.sk-toggleable__control:checked~label.sk-toggleable__label-arrow:before {content: \"▾\";}#sk-container-id-1 div.sk-estimator input.sk-toggleable__control:checked~label.sk-toggleable__label {background-color: #d4ebff;}#sk-container-id-1 div.sk-label input.sk-toggleable__control:checked~label.sk-toggleable__label {background-color: #d4ebff;}#sk-container-id-1 input.sk-hidden--visually {border: 0;clip: rect(1px 1px 1px 1px);clip: rect(1px, 1px, 1px, 1px);height: 1px;margin: -1px;overflow: hidden;padding: 0;position: absolute;width: 1px;}#sk-container-id-1 div.sk-estimator {font-family: monospace;background-color: #f0f8ff;border: 1px dotted black;border-radius: 0.25em;box-sizing: border-box;margin-bottom: 0.5em;}#sk-container-id-1 div.sk-estimator:hover {background-color: #d4ebff;}#sk-container-id-1 div.sk-parallel-item::after {content: \"\";width: 100%;border-bottom: 1px solid gray;flex-grow: 1;}#sk-container-id-1 div.sk-label:hover label.sk-toggleable__label {background-color: #d4ebff;}#sk-container-id-1 div.sk-serial::before {content: \"\";position: absolute;border-left: 1px solid gray;box-sizing: border-box;top: 0;bottom: 0;left: 50%;z-index: 0;}#sk-container-id-1 div.sk-serial {display: flex;flex-direction: column;align-items: center;background-color: white;padding-right: 0.2em;padding-left: 0.2em;position: relative;}#sk-container-id-1 div.sk-item {position: relative;z-index: 1;}#sk-container-id-1 div.sk-parallel {display: flex;align-items: stretch;justify-content: center;background-color: white;position: relative;}#sk-container-id-1 div.sk-item::before, #sk-container-id-1 div.sk-parallel-item::before {content: \"\";position: absolute;border-left: 1px solid gray;box-sizing: border-box;top: 0;bottom: 0;left: 50%;z-index: -1;}#sk-container-id-1 div.sk-parallel-item {display: flex;flex-direction: column;z-index: 1;position: relative;background-color: white;}#sk-container-id-1 div.sk-parallel-item:first-child::after {align-self: flex-end;width: 50%;}#sk-container-id-1 div.sk-parallel-item:last-child::after {align-self: flex-start;width: 50%;}#sk-container-id-1 div.sk-parallel-item:only-child::after {width: 0;}#sk-container-id-1 div.sk-dashed-wrapped {border: 1px dashed gray;margin: 0 0.4em 0.5em 0.4em;box-sizing: border-box;padding-bottom: 0.4em;background-color: white;}#sk-container-id-1 div.sk-label label {font-family: monospace;font-weight: bold;display: inline-block;line-height: 1.2em;}#sk-container-id-1 div.sk-label-container {text-align: center;}#sk-container-id-1 div.sk-container {/* jupyter's `normalize.less` sets `[hidden] { display: none; }` but bootstrap.min.css set `[hidden] { display: none !important; }` so we also need the `!important` here to be able to override the default hidden behavior on the sphinx rendered scikit-learn.org. See: https://github.com/scikit-learn/scikit-learn/issues/21755 */display: inline-block !important;position: relative;}#sk-container-id-1 div.sk-text-repr-fallback {display: none;}</style><div id=\"sk-container-id-1\" class=\"sk-top-container\"><div class=\"sk-text-repr-fallback\"><pre>RandomForestRegressor(random_state=7)</pre><b>In a Jupyter environment, please rerun this cell to show the HTML representation or trust the notebook. <br />On GitHub, the HTML representation is unable to render, please try loading this page with nbviewer.org.</b></div><div class=\"sk-container\" hidden><div class=\"sk-item\"><div class=\"sk-estimator sk-toggleable\"><input class=\"sk-toggleable__control sk-hidden--visually\" id=\"sk-estimator-id-1\" type=\"checkbox\" checked><label for=\"sk-estimator-id-1\" class=\"sk-toggleable__label sk-toggleable__label-arrow\">RandomForestRegressor</label><div class=\"sk-toggleable__content\"><pre>RandomForestRegressor(random_state=7)</pre></div></div></div></div></div>"
      ],
      "text/plain": [
       "RandomForestRegressor(random_state=7)"
      ]
     },
     "execution_count": 22,
     "metadata": {},
     "output_type": "execute_result"
    }
   ],
   "source": [
    "rf = RandomForestRegressor(random_state=7)\n",
    "rf.fit(X_train, y_train)"
   ]
  },
  {
   "cell_type": "code",
   "execution_count": 25,
   "id": "7d9c04d5",
   "metadata": {},
   "outputs": [
    {
     "name": "stdout",
     "output_type": "stream",
     "text": [
      "The predicted count of kisses is: [200.58   0.     2.01 ...   4.2    2.91  30.51]\n"
     ]
    }
   ],
   "source": [
    "#predict the labels for the test set\n",
    "y_pred   = rf.predict(X_test)\n",
    "\n",
    "print('The predicted count of kisses is: {}'.format(y_pred))"
   ]
  },
  {
   "cell_type": "code",
   "execution_count": 26,
   "id": "2abf4591",
   "metadata": {},
   "outputs": [
    {
     "name": "stdout",
     "output_type": "stream",
     "text": [
      "The mse of the model is: 26127.88161068447\n",
      "The accuracy of the model is: 0.7568781276988309\n"
     ]
    }
   ],
   "source": [
    "mse = mean_squared_error(y_test, y_pred)\n",
    "\n",
    "# Evaluate the Predictions\n",
    "print('The mse of the model is: {}'.format(mse))\n",
    "\n",
    "\n",
    "# Prediction accuracy\n",
    "print('The accuracy of the model is: {}'.format(rf.score(X_test, y_test)))"
   ]
  },
  {
   "cell_type": "code",
   "execution_count": null,
   "id": "8c4513ba",
   "metadata": {},
   "outputs": [],
   "source": [
    "#get the classification report for the decision tree\n",
    "y_pred = rf.predict(X_test)\n",
    "\n",
    "target_names = ['Extremely Weak', 'Weak', 'Normal', 'Overweight', 'Obesity', 'Extreme Obesity']\n",
    "print(classification_report(y_test, y_pred, target_names = target_names))"
   ]
  },
  {
   "cell_type": "markdown",
   "id": "a86ceab7",
   "metadata": {},
   "source": [
    "The random forest regression has a relatively high accuracy. Let's tune the hyperparameters to best identify the model. "
   ]
  },
  {
   "cell_type": "code",
   "execution_count": null,
   "id": "5d991315",
   "metadata": {},
   "outputs": [],
   "source": []
  }
 ],
 "metadata": {
  "kernelspec": {
   "display_name": "Python 3 (ipykernel)",
   "language": "python",
   "name": "python3"
  },
  "language_info": {
   "codemirror_mode": {
    "name": "ipython",
    "version": 3
   },
   "file_extension": ".py",
   "mimetype": "text/x-python",
   "name": "python",
   "nbconvert_exporter": "python",
   "pygments_lexer": "ipython3",
   "version": "3.8.8"
  },
  "vscode": {
   "interpreter": {
    "hash": "31f2aee4e71d21fbe5cf8b01ff0e069b9275f58929596ceb00d14d90e3e16cd6"
   }
  }
 },
 "nbformat": 4,
 "nbformat_minor": 5
}
