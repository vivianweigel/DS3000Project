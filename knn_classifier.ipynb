{
 "cells": [
  {
   "cell_type": "code",
   "execution_count": 1,
   "id": "32ea2d4d",
   "metadata": {},
   "outputs": [
    {
     "name": "stderr",
     "output_type": "stream",
     "text": [
      "/Users/vivianweigel/opt/anaconda3/lib/python3.8/site-packages/scipy/__init__.py:138: UserWarning: A NumPy version >=1.16.5 and <1.23.0 is required for this version of SciPy (detected version 1.24.1)\n",
      "  warnings.warn(f\"A NumPy version >={np_minversion} and <{np_maxversion} is required for this version of \"\n"
     ]
    }
   ],
   "source": [
    "import pandas as pd\n",
    "import numpy as np\n",
    "from sklearn.neighbors import KNeighborsClassifier\n",
    "from sklearn.model_selection import train_test_split\n",
    "from sklearn.metrics import classification_report\n",
    "import seaborn as sns\n",
    "import matplotlib.pyplot as plt"
   ]
  },
  {
   "cell_type": "code",
   "execution_count": 2,
   "id": "a887f475",
   "metadata": {},
   "outputs": [
    {
     "name": "stdout",
     "output_type": "stream",
     "text": [
      "Index(['gender', 'genderLooking', 'age', 'name', 'counts_details',\n",
      "       'counts_pictures', 'counts_profileVisits', 'counts_kisses',\n",
      "       'counts_fans', 'counts_g', 'flirtInterests_chat',\n",
      "       'flirtInterests_friends', 'flirtInterests_date', 'country', 'city',\n",
      "       'location', 'distance', 'isFlirtstar', 'isHighlighted', 'isInfluencer',\n",
      "       'isMobile', 'isNew', 'isOnline', 'isVip', 'lang_count', 'lang_fr',\n",
      "       'lang_en', 'lang_de', 'lang_it', 'lang_es', 'lang_pt', 'verified',\n",
      "       'shareProfileEnabled', 'lastOnlineDate', 'lastOnlineTime', 'birthd',\n",
      "       'crypt', 'freetext', 'whazzup', 'userId', 'pictureId',\n",
      "       'isSystemProfile'],\n",
      "      dtype='object')\n"
     ]
    }
   ],
   "source": [
    "INPUT = ['age','counts_pictures', 'counts_profileVisits', 'counts_fans', 'isOnline', 'verified']\n",
    "# loading in data\n",
    "df = pd.read_csv('lovoo_users.csv')\n",
    "print(df.columns)"
   ]
  },
  {
   "cell_type": "code",
   "execution_count": 3,
   "id": "d1ebc1dd",
   "metadata": {},
   "outputs": [
    {
     "name": "stdout",
     "output_type": "stream",
     "text": [
      "count    3992.000000\n",
      "mean      156.599699\n",
      "std       377.650691\n",
      "min         0.000000\n",
      "25%        11.000000\n",
      "50%        44.000000\n",
      "75%       141.000000\n",
      "max      9288.000000\n",
      "Name: counts_kisses, dtype: float64\n"
     ]
    }
   ],
   "source": [
    "# encode categorical feature\n",
    "df = pd.get_dummies(df, drop_first=True) #drop one of the encoded gender columns\n",
    "\n",
    "# examine kiss count stats\n",
    "print(df['counts_kisses'].describe())\n",
    "\n",
    "cats = []\n",
    "# create categorical variable\n",
    "for i in df['counts_kisses']:\n",
    "    if i > 141:\n",
    "        cats.append('high')\n",
    "    elif i < 11:\n",
    "        cats.append('low')\n",
    "    else:\n",
    "        cats.append('medium')\n",
    "df['target'] = cats"
   ]
  },
  {
   "cell_type": "code",
   "execution_count": 4,
   "id": "84422472",
   "metadata": {},
   "outputs": [],
   "source": [
    "# splitting data into train and test sets\n",
    "X   = df[INPUT] #get the input features\n",
    "y   = df['target']            #get the target\n",
    "\n",
    "X_train, X_test, y_train, y_test = train_test_split(X,              #the input features\n",
    "                                                    y,              #the label\n",
    "                                                    test_size=0.3,  #set aside 30% of the data as the test set\n",
    "                                                    random_state=7, #reproduce the results\n",
    "                                                    stratify=y      #preserve the distribution of the labels\n",
    "                                                   )"
   ]
  },
  {
   "cell_type": "code",
   "execution_count": 8,
   "id": "5802b2d1",
   "metadata": {},
   "outputs": [
    {
     "name": "stdout",
     "output_type": "stream",
     "text": [
      "2091    medium\n",
      "474     medium\n",
      "164       high\n",
      "541       high\n",
      "511       high\n",
      "         ...  \n",
      "3465       low\n",
      "3669       low\n",
      "903       high\n",
      "1287    medium\n",
      "1845      high\n",
      "Name: target, Length: 2794, dtype: object\n"
     ]
    },
    {
     "data": {
      "text/plain": [
       "KNeighborsClassifier(n_neighbors=65)"
      ]
     },
     "execution_count": 8,
     "metadata": {},
     "output_type": "execute_result"
    }
   ],
   "source": [
    "# building the classifier\n",
    "print((y_train))\n",
    "knn = KNeighborsClassifier(n_neighbors = 65) #initialize the classifier and set the number of neighbors\n",
    "knn.fit(X_train, y_train)"
   ]
  },
  {
   "cell_type": "code",
   "execution_count": 9,
   "id": "b6dc9830",
   "metadata": {},
   "outputs": [
    {
     "name": "stdout",
     "output_type": "stream",
     "text": [
      "The predicted BMI is: ['low' 'medium' 'medium' ... 'medium' 'low' 'low']\n",
      "The accuracy of the model is: 0.8263772954924875\n"
     ]
    }
   ],
   "source": [
    "#predict the labels for the test set\n",
    "y_pred   = knn.predict(X_test)\n",
    "\n",
    "print('The predicted BMI is: {}'.format(y_pred))\n",
    "# Prediction accuracy\n",
    "print('The accuracy of the model is: {}'.format(knn.score(X_test, y_test)))"
   ]
  },
  {
   "cell_type": "code",
   "execution_count": 7,
   "id": "c0b52507",
   "metadata": {},
   "outputs": [
    {
     "data": {
      "image/png": "[encoded data removed]",
      "text/plain": [
       "<Figure size 432x288 with 1 Axes>"
      ]
     },
     "metadata": {
      "needs_background": "light"
     },
     "output_type": "display_data"
    },
    {
     "name": "stdout",
     "output_type": "stream",
     "text": [
      "Optimal k value: 65\n"
     ]
    }
   ],
   "source": [
    "#identify a suitable value of k\n",
    "predictions = {}\n",
    "\n",
    "for k in range(3, 200, 2): #increment k by 2\n",
    "    knn = KNeighborsClassifier(n_neighbors = k) #initialize the classifier and set the number of neighbors\n",
    "    knn.fit(X_train, y_train)\n",
    "    predictions[k] = knn.score(X_test, y_test)\n",
    "sns.lineplot(x=predictions.keys(), y=predictions.values())\n",
    "plt.show()\n",
    "print('Optimal k value:', max(predictions, key = predictions.get))"
   ]
  },
  {
   "cell_type": "code",
   "execution_count": null,
   "id": "23a5d738",
   "metadata": {},
   "outputs": [],
   "source": []
  }
 ],
 "metadata": {
  "kernelspec": {
   "display_name": "Python 3 (ipykernel)",
   "language": "python",
   "name": "python3"
  },
  "language_info": {
   "codemirror_mode": {
    "name": "ipython",
    "version": 3
   },
   "file_extension": ".py",
   "mimetype": "text/x-python",
   "name": "python",
   "nbconvert_exporter": "python",
   "pygments_lexer": "ipython3",
   "version": "3.8.8"
  }
 },
 "nbformat": 4,
 "nbformat_minor": 5
}
